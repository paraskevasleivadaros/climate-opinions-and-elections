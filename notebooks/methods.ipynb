{
 "cells": [
  {
   "cell_type": "markdown",
   "id": "015aa430",
   "metadata": {},
   "source": [
    "### RQ1. Does support for climate policies (like carbon taxes or emissions standards) change during elections? And is this support influenced by personal or community-level perceptions of climate harm?\n",
    "To answer this question, we estimate a **reduced-form Panel VAR(1)** system, focusing on two outcome variables:\n",
    "* `cc_pol_tax_t`: support for carbon taxes\n",
    "* `cc_pol_car_t`: support for emissions standards\n",
    "\n",
    "Each equation includes the **lagged values** of 15 attitudinal and demographic predictors, along with a **dummy variable (`wave3_dummy`)** indicating whether the observation corresponds to the election wave (Wave 3). The model is estimated using **pooled OLS** with **standard errors clustered at the respondent level (`PID`)**, based on 1,722 complete observations across three survey waves.\n",
    "* **Harm perceptions** (lagged):\n",
    "  `cc4_world`, `cc4_wealthUS`, `cc4_poorUS`, `cc4_comm`, `cc4_famheal`, `cc4_famecon`\n",
    "* **Willingness to pay** (lagged):\n",
    "  `ccSolve`\n",
    "* **Climate policy support** (lagged):\n",
    "  `cc_pol_tax`, `cc_pol_car` (to capture cross-policy influence)\n",
    "* **Political identity** (lagged):\n",
    "  `pol_score`, `pol_ideology` — treated as continuous variables\n",
    "* **Demographic controls** (lagged):\n",
    "  `dem_income_binary`, `dem_educ_binary`, `dem_age`, `dem_male_binary`\n",
    "* **Election-period control**:\n",
    "  `wave3_dummy` — binary, 1 for Wave 3 (election wave), 0 otherwise\n",
    "\n",
    "The following system of two equations is estimated:\n",
    "$$\n",
    "\\begin{cases}\n",
    "\\text{cc\\_pol\\_tax}_t = \\alpha_1 + \\sum_{j=1}^{15} \\beta_{1j} \\cdot X_{j,t-1} + \\theta_1 \\cdot \\text{wave3\\_dummy}_t + \\epsilon_{1t} \\\\\n",
    "\\text{cc\\_pol\\_car}_t = \\alpha_2 + \\sum_{j=1}^{15} \\beta_{2j} \\cdot X_{j,t-1} + \\theta_2 \\cdot \\text{wave3\\_dummy}_t + \\epsilon_{2t}\n",
    "\\end{cases}\n",
    "$$\n",
    "\n",
    "Where:\n",
    "- $ X_{j,t-1} $ denotes the value of the $ j $-th predictor at time $ t-1 $  \n",
    "- `wave3_dummy_t` indicates whether the observation corresponds to the election period  \n",
    "- $ \\alpha_i $ is the intercept for equation $ i $  \n",
    "- $ \\beta_{ij} $ is the coefficient for the effect of predictor $ j $ on outcome $ i $  \n",
    "- $ \\epsilon_{it} $ is the idiosyncratic error term, clustered at the respondent level"
   ]
  },
  {
   "cell_type": "code",
   "execution_count": 24,
   "id": "15d0307a",
   "metadata": {},
   "outputs": [
    {
     "name": "stdout",
     "output_type": "stream",
     "text": [
      "\n",
      "===============================================\n",
      "                      cc_pol_tax_t cc_pol_car_t\n",
      "-----------------------------------------------\n",
      "const                 0.5695***    0.6836***   \n",
      "                      (0.1461)     (0.1458)    \n",
      "cc4_world_lag         0.1825***    0.1537***   \n",
      "                      (0.0307)     (0.0295)    \n",
      "cc4_wealthUS_lag      -0.0449*     -0.0515**   \n",
      "                      (0.0250)     (0.0220)    \n",
      "cc4_poorUS_lag        0.0597**     0.0977***   \n",
      "                      (0.0301)     (0.0301)    \n",
      "cc4_comm_lag          -0.0252      0.0056      \n",
      "                      (0.0366)     (0.0334)    \n",
      "cc4_famheal_lag       -0.0018      0.0010      \n",
      "                      (0.0347)     (0.0306)    \n",
      "cc4_famecon_lag       0.0192       -0.0192     \n",
      "                      (0.0254)     (0.0230)    \n",
      "ccSolve_lag           0.0890***    0.0177      \n",
      "                      (0.0223)     (0.0190)    \n",
      "cc_pol_tax_lag        0.3478***    0.0996***   \n",
      "                      (0.0311)     (0.0271)    \n",
      "cc_pol_car_lag        0.1402***    0.4286***   \n",
      "                      (0.0296)     (0.0327)    \n",
      "dem_income_binary_lag 0.0337       0.0243      \n",
      "                      (0.0477)     (0.0453)    \n",
      "dem_age_lag           -0.0022      0.0012      \n",
      "                      (0.0014)     (0.0015)    \n",
      "dem_educ_binary_lag   0.1776***    0.0685      \n",
      "                      (0.0630)     (0.0600)    \n",
      "dem_male_binary_lag   0.0214       0.0048      \n",
      "                      (0.0429)     (0.0404)    \n",
      "pol_score_lag         -0.1056***   -0.0369**   \n",
      "                      (0.0190)     (0.0168)    \n",
      "pol_ideology_lag      0.0369       0.0611**    \n",
      "                      (0.0301)     (0.0274)    \n",
      "wave3_dummy           -0.0575      0.0599      \n",
      "                      (0.0481)     (0.0444)    \n",
      "R-squared             0.5017       0.5076      \n",
      "R-squared Adj.        0.4970       0.5029      \n",
      "N                     1722         1722        \n",
      "===============================================\n",
      "Standard errors in parentheses.\n",
      "* p<.1, ** p<.05, ***p<.01\n"
     ]
    }
   ],
   "source": [
    "import statsmodels.api as sm\n",
    "from statsmodels.iolib.summary2 import summary_col\n",
    "import pandas as pd\n",
    "\n",
    "# Load data\n",
    "data = pd.read_csv(\"../data/5-cleaned_data_3waves.csv\", low_memory=False)\n",
    "\n",
    "# Define continuous/ordinal predictors\n",
    "continuous_predictors = [\n",
    "    \"cc4_world\", \"cc4_wealthUS\", \"cc4_poorUS\",\n",
    "    \"cc4_comm\", \"cc4_famheal\", \"cc4_famecon\",\n",
    "    \"ccSolve\", \"cc_pol_tax\", \"cc_pol_car\",\n",
    "    \"dem_income_binary\", \"dem_age\", \"dem_educ_binary\", \"dem_male_binary\",\n",
    "    \"pol_score\", \"pol_ideology\"\n",
    "]\n",
    "\n",
    "# Election-period dummy\n",
    "wave_dummy = [\"wave3_dummy\"]\n",
    "\n",
    "# Sort by PID and WAVE\n",
    "data = data.sort_values(by=['PID', 'WAVE'])\n",
    "\n",
    "# Create lagged versions\n",
    "for var in continuous_predictors:\n",
    "    data[f\"{var}_lag\"] = data.groupby('PID')[var].shift(1)\n",
    "\n",
    "# Create wave3_dummy\n",
    "data[\"wave3_dummy\"] = (data[\"WAVE\"] == 3).astype(int)\n",
    "\n",
    "# Combine all lagged vars\n",
    "lagged_vars = [f\"{var}_lag\" for var in continuous_predictors]\n",
    "all_predictors = lagged_vars + wave_dummy\n",
    "\n",
    "# Drop missing rows\n",
    "panel_var_data = data.dropna(subset=all_predictors + [\"cc_pol_tax\", \"cc_pol_car\"])\n",
    "\n",
    "# --- Model 1: cc_pol_tax_t\n",
    "X1 = panel_var_data[all_predictors]\n",
    "y1 = panel_var_data[\"cc_pol_tax\"]\n",
    "X1 = sm.add_constant(X1)\n",
    "model1 = sm.OLS(y1, X1).fit(cov_type='cluster', cov_kwds={'groups': panel_var_data['PID']})\n",
    "\n",
    "# --- Model 2: cc_pol_car_t\n",
    "X2 = panel_var_data[all_predictors]\n",
    "y2 = panel_var_data[\"cc_pol_car\"]\n",
    "X2 = sm.add_constant(X2)\n",
    "model2 = sm.OLS(y2, X2).fit(cov_type='cluster', cov_kwds={'groups': panel_var_data['PID']})\n",
    "\n",
    "# Output\n",
    "print(summary_col(\n",
    "    [model1, model2],\n",
    "    stars=True,\n",
    "    model_names=[\"cc_pol_tax_t\", \"cc_pol_car_t\"],\n",
    "    info_dict={\"N\": lambda x: f\"{int(x.nobs)}\"}\n",
    "))"
   ]
  },
  {
   "cell_type": "code",
   "execution_count": 25,
   "id": "5937a40f",
   "metadata": {},
   "outputs": [
    {
     "data": {
      "image/png": "[encoded data removed]",
      "text/plain": [
       "<Figure size 1600x1200 with 2 Axes>"
      ]
     },
     "metadata": {},
     "output_type": "display_data"
    }
   ],
   "source": [
    "import matplotlib.pyplot as plt\n",
    "import pandas as pd\n",
    "import os\n",
    "os.makedirs(\"../results\", exist_ok=True)\n",
    "\n",
    "# --- Helper function\n",
    "def extract_model_info(model, label):\n",
    "    coefs = model.params\n",
    "    conf = model.conf_int()\n",
    "    df = pd.DataFrame({\n",
    "        'predictor': coefs.index,\n",
    "        'coef': coefs.values,\n",
    "        'lower': conf[0].values,\n",
    "        'upper': conf[1].values,\n",
    "        'model': label\n",
    "    }).query(\"predictor != 'const'\")\n",
    "    df['significant'] = ~((df['lower'] <= 0) & (df['upper'] >= 0))\n",
    "    df['predictor'] = df['predictor'].str.replace('_lag', '', regex=False)\n",
    "    return df.sort_values(by='coef', ascending=True)\n",
    "\n",
    "# --- Extract separately\n",
    "df_tax = extract_model_info(model1, \"cc_pol_tax_t\")\n",
    "df_car = extract_model_info(model2, \"cc_pol_car_t\")\n",
    "\n",
    "# --- Plotting\n",
    "fig, axs = plt.subplots(1, 2, figsize=(16, 12), sharex=True)\n",
    "\n",
    "for ax, df, title, color in zip(\n",
    "    axs,\n",
    "    [df_tax, df_car],\n",
    "    [\"Policy Support: Carbon Tax\", \"Policy Support: Emissions Standards\"],\n",
    "    [\"tab:blue\", \"tab:orange\"]\n",
    "):\n",
    "    for _, row in df.iterrows():\n",
    "        plot_color = color if row['significant'] else 'lightgray'\n",
    "        ax.errorbar(\n",
    "            row['coef'],\n",
    "            row['predictor'],\n",
    "            xerr=[[row['coef'] - row['lower']], [row['upper'] - row['coef']]],\n",
    "            fmt='o',\n",
    "            color=plot_color,\n",
    "            ecolor=plot_color,\n",
    "            capsize=4\n",
    "        )\n",
    "    ax.axvline(0, color='gray', linestyle='--')\n",
    "    ax.set_title(title)\n",
    "    ax.set_xlabel(\"Coefficient\")\n",
    "    ax.set_ylabel(\"Predictor\")\n",
    "\n",
    "plt.tight_layout()\n",
    "plt.savefig(\"../results/rq1_dot_whisker_policy_support.png\", dpi=300)\n",
    "plt.show()"
   ]
  },
  {
   "cell_type": "markdown",
   "id": "7da65846",
   "metadata": {},
   "source": [
    "> **Note:** Coefficients are sorted by their signed value (not absolute size) to reflect both magnitude (how strong) and direction of effect (positive or negative). Predictors whose 95% confidence intervals include zero (that are not statistically significant) are displayed in gray. This helps focus attention on the variables that clearly have an effect.\n",
    "> \n",
    "> **Why not use absolute coefficients?**  \n",
    "> Sorting by absolute coefficient size would show the predictors with the strongest effects first, regardless of whether those effects are positive or negative. However, in this analysis, we wanted to highlight **the direction** of each effect (e.g., does it increase or decrease support?). That’s why we sorted by the raw coefficient values - so variables that reduce support appear on one side of the plot, and those that increase it appear on the other."
   ]
  },
  {
   "cell_type": "markdown",
   "id": "12fd3e5a",
   "metadata": {},
   "source": [
    "> **Interpreting a Dot-Whisker Plot**  \n",
    "> A **dot-whisker plot** visualizes the results of regression models (or similar estimates) by showing each variable's estimated effect and the uncertainty around it.\n",
    "> - **Dots** represent **point estimates** (e.g., regression coefficients)\n",
    ">   - Each dot shows the estimated impact of a predictor variable on the outcome\n",
    "> - **Whiskers (horizontal lines)** represent the **confidence intervals** around the point estimates\n",
    ">   - Most often, these are **95% confidence intervals**\n",
    ">   - The wider the whisker, the greater the uncertainty in the estimate\n",
    "> - A **vertical line at zero** (often shown) indicates **no effect**\n",
    ">   - If a whisker **crosses zero**, the estimate is **not statistically significant** at the 95% level\n",
    ">   - If it **does not cross zero**, the effect is considered **statistically significant**\n",
    "> \n",
    "> This type of plot is useful for quickly comparing multiple predictors and identifying which ones have a clear, statistically significant relationship with the outcome"
   ]
  },
  {
   "cell_type": "markdown",
   "id": "d35911f1",
   "metadata": {},
   "source": [
    "#### Panel VAR Analysis – RQ1  \n",
    "The results show that **support for both carbon taxes and emissions standards remains stable over time**, with **no significant shift during the election period**, as indicated by the non-significant `wave3_dummy`. Instead, support is more strongly associated with **climate concern, political alignment, and education level** - though only some of these effects reach statistical significance.\n",
    "\n",
    "Key findings:\n",
    "* **Previous support** is the strongest and most consistent predictor for both policy types, confirming temporal persistence.\n",
    "* **Democratic party affiliation**, **liberal ideology**, and **global climate harm perception** are significantly associated with increased support for both carbon taxes and emissions standards.\n",
    "* **Concern for poor U.S. communities** also has a significant and positive effect, particularly for emissions standards.\n",
    "* **Higher education** is positively associated with carbon tax support but not statistically significant for emissions standards.\n",
    "* **Willingness to pay** (`ccSolve`) is positively linked to support for carbon taxes but has no significant effect on emissions standards.\n",
    "* **Republican affiliation** shows a negative association with carbon tax support (though not statistically significant), while its relationship with emissions standards is more complex and not consistently significant.\n",
    "* **Independents** show modest but significant positive associations with both types of climate policy, suggesting bipartisan appeal for regulatory measures.\n",
    "* **No significant effect** is detected for the `wave3_dummy`, indicating that support did **not shift noticeably during the election period**.\n",
    "* For **emissions standards support (`cc_pol_car_t`)**, `cc4_wealthUS` has a **small but statistically significant negative coefficient**. This suggests that **greater concern for wealthy U.S. communities is associated with slightly *lower* support** for emissions regulations.\n",
    "\n",
    "> Therefore, the answer to RQ1 is **No**:  \n",
    "> There is **no election-related shock** in climate policy support. Instead, **support patterns reflect long-term political identity and climate concern**, rather than short-term political events."
   ]
  },
  {
   "cell_type": "markdown",
   "id": "ef3cef4d",
   "metadata": {},
   "source": [
    "---"
   ]
  },
  {
   "cell_type": "markdown",
   "id": "12a0a254",
   "metadata": {},
   "source": [
    "### RQ2. Does willingness to pay for climate solutions vary during elections, and what factors influence it?\n",
    "To investigate how willingness to financially support climate action evolves over time and whether it shifts during election periods, we estimate a **reduced-form Panel VAR(1)** model with `ccSolve_t` (willingness to pay for climate solutions) as the dependent variable.\n",
    "\n",
    "The model includes the **lagged values** of 15 time-varying predictors capturing climate harm perceptions, policy attitudes, political identity, and demographic characteristics. A **wave3\\_dummy** variable, coded as 1 for the election wave (Wave 3), is included to test for election-specific effects.\n",
    "\n",
    "* **Harm perceptions** (lagged):\n",
    "  `cc4_world`, `cc4_wealthUS`, `cc4_poorUS`, `cc4_comm`, `cc4_famheal`, `cc4_famecon`\n",
    "* **Policy support** (lagged):\n",
    "  `cc_pol_tax`, `cc_pol_car`\n",
    "* **Willingness to pay (lagged)**:\n",
    "  `ccSolve` (included as its own lag to model temporal dynamics)\n",
    "* **Political identity** (lagged):\n",
    "  `pol_score`, `pol_ideology` — treated as continuous variables\n",
    "* **Demographics** (lagged):\n",
    "  `dem_income_binary`, `dem_age`, `dem_educ_binary`, `dem_male_binary`\n",
    "* **Election-period indicator**:\n",
    "  `wave3_dummy` — binary, equal to 1 for Wave 3 and 0 otherwise\n",
    "\n",
    "The full equation is:\n",
    "\n",
    "$$\n",
    "\\text{ccSolve}_t = \\alpha \n",
    "+ \\sum_{j=1}^{15} \\beta_j \\cdot X_{j,t-1} \n",
    "+ \\theta \\cdot \\text{wave3\\_dummy}_t \n",
    "+ \\epsilon_t\n",
    "$$\n",
    "\n",
    "Where:\n",
    "\n",
    "* $X\\_{j,t-1}$ denotes the 15 lagged predictors\n",
    "* `wave3_dummy_t` tests for an **election-period shift** in willingness to pay\n",
    "* $ \\alpha $ is the intercept\n",
    "* $ \\epsilon\\_t $ is the individual-level error term, **clustered by respondent (`PID`)**\n",
    "\n",
    "The model is estimated using **pooled OLS with cluster-robust standard errors**, based on 1,722 complete observations from three survey waves.\n",
    "\n",
    "This specification allows us to assess not only which **attitudinal, political, or demographic factors** predict higher or lower willingness to pay for climate action, but also whether the **election period itself exerts a distinct effect**, controlling for prior beliefs and identities."
   ]
  },
  {
   "cell_type": "code",
   "execution_count": 26,
   "id": "27883d5a",
   "metadata": {},
   "outputs": [
    {
     "name": "stdout",
     "output_type": "stream",
     "text": [
      "                            OLS Regression Results                            \n",
      "==============================================================================\n",
      "Dep. Variable:                ccSolve   R-squared:                       0.075\n",
      "Model:                            OLS   Adj. R-squared:                  0.067\n",
      "Method:                 Least Squares   F-statistic:                     8.479\n",
      "Date:                Wed, 14 May 2025   Prob (F-statistic):           2.48e-19\n",
      "Time:                        22:27:52   Log-Likelihood:                -2347.9\n",
      "No. Observations:                1722   AIC:                             4730.\n",
      "Df Residuals:                    1705   BIC:                             4823.\n",
      "Df Model:                          16                                         \n",
      "Covariance Type:              cluster                                         \n",
      "=========================================================================================\n",
      "                            coef    std err          z      P>|z|      [0.025      0.975]\n",
      "-----------------------------------------------------------------------------------------\n",
      "const                     0.9942      0.156      6.392      0.000       0.689       1.299\n",
      "cc4_world_lag             0.0606      0.036      1.695      0.090      -0.009       0.131\n",
      "cc4_wealthUS_lag          0.0093      0.029      0.319      0.750      -0.048       0.066\n",
      "cc4_poorUS_lag            0.0296      0.034      0.873      0.383      -0.037       0.096\n",
      "cc4_comm_lag             -0.0558      0.043     -1.295      0.195      -0.140       0.029\n",
      "cc4_famheal_lag           0.0417      0.042      0.992      0.321      -0.041       0.124\n",
      "cc4_famecon_lag           0.0305      0.029      1.051      0.293      -0.026       0.087\n",
      "ccSolve_lag               0.0507      0.028      1.841      0.066      -0.003       0.105\n",
      "cc_pol_tax_lag            0.1063      0.025      4.203      0.000       0.057       0.156\n",
      "cc_pol_car_lag           -0.0317      0.025     -1.254      0.210      -0.081       0.018\n",
      "dem_income_binary_lag     0.0417      0.054      0.779      0.436      -0.063       0.147\n",
      "dem_age_lag              -0.0027      0.002     -1.677      0.093      -0.006       0.000\n",
      "dem_educ_binary_lag       0.1018      0.080      1.269      0.204      -0.055       0.259\n",
      "dem_male_binary_lag       0.0688      0.048      1.440      0.150      -0.025       0.162\n",
      "pol_score_lag             0.0076      0.018      0.413      0.680      -0.029       0.044\n",
      "pol_ideology_lag          0.0471      0.034      1.381      0.167      -0.020       0.114\n",
      "wave3_dummy               0.0389      0.046      0.845      0.398      -0.051       0.129\n",
      "==============================================================================\n",
      "Omnibus:                      178.079   Durbin-Watson:                   2.003\n",
      "Prob(Omnibus):                  0.000   Jarque-Bera (JB):              236.293\n",
      "Skew:                           0.906   Prob(JB):                     4.89e-52\n",
      "Kurtosis:                       3.115   Cond. No.                         397.\n",
      "==============================================================================\n",
      "\n",
      "Notes:\n",
      "[1] Standard Errors are robust to cluster correlation (cluster)\n"
     ]
    }
   ],
   "source": [
    "import statsmodels.api as sm\n",
    "import pandas as pd\n",
    "\n",
    "# Load data\n",
    "data = pd.read_csv(\"../data/5-cleaned_data_3waves.csv\", low_memory=False)\n",
    "\n",
    "# Define variables to be lagged\n",
    "variables = [\n",
    "    \"cc4_world\", \"cc4_wealthUS\", \"cc4_poorUS\",\n",
    "    \"cc4_comm\", \"cc4_famheal\", \"cc4_famecon\",\n",
    "    \"ccSolve\", \"cc_pol_tax\", \"cc_pol_car\",\n",
    "    \"dem_income_binary\", \"dem_age\", \"dem_educ_binary\", \"dem_male_binary\",\n",
    "    \"pol_score\", \"pol_ideology\"\n",
    "]\n",
    "\n",
    "# Create wave3 dummy (1 if wave == 3, else 0)\n",
    "data['wave3_dummy'] = (data['WAVE'] == 3).astype(int)\n",
    "\n",
    "# Sort by PID and WAVE\n",
    "data = data.sort_values(by=['PID', 'WAVE'])\n",
    "\n",
    "# Create lagged versions of all predictors\n",
    "for var in variables:\n",
    "    data[f'{var}_lag'] = data.groupby('PID')[var].shift(1)\n",
    "\n",
    "# Final predictors: lagged variables + wave dummy (not lagged)\n",
    "lagged_vars = [f'{v}_lag' for v in variables]\n",
    "all_predictors = lagged_vars + ['wave3_dummy']\n",
    "\n",
    "# Drop missing values\n",
    "panel_var_data = data.dropna(subset=all_predictors + ['ccSolve'])\n",
    "\n",
    "# Estimate the model: ccSolve_t\n",
    "X = panel_var_data[all_predictors]\n",
    "y = panel_var_data['ccSolve']\n",
    "X = sm.add_constant(X)\n",
    "\n",
    "rq2_model = sm.OLS(y, X).fit(cov_type='cluster', cov_kwds={'groups': panel_var_data['PID']})\n",
    "\n",
    "# Output results\n",
    "print(rq2_model.summary())"
   ]
  },
  {
   "cell_type": "code",
   "execution_count": 27,
   "id": "dc38c7c0",
   "metadata": {},
   "outputs": [
    {
     "data": {
      "image/png": "[encoded data removed]",
      "text/plain": [
       "<Figure size 800x1000 with 1 Axes>"
      ]
     },
     "metadata": {},
     "output_type": "display_data"
    }
   ],
   "source": [
    "import matplotlib.pyplot as plt\n",
    "import pandas as pd\n",
    "import os\n",
    "os.makedirs(\"../results\", exist_ok=True)\n",
    "\n",
    "# --- Step 1: Extract model coefficients and confidence intervals\n",
    "def extract_model_info(model):\n",
    "    coefs = model.params\n",
    "    conf = model.conf_int()\n",
    "    df = pd.DataFrame({\n",
    "        'predictor': coefs.index,\n",
    "        'coef': coefs.values,\n",
    "        'lower': conf[0].values,\n",
    "        'upper': conf[1].values\n",
    "    }).query(\"predictor != 'const'\")  # exclude intercept\n",
    "    # Add significance flag: True if CI does not include zero\n",
    "    df['significant'] = ~((df['lower'] <= 0) & (df['upper'] >= 0))\n",
    "    return df\n",
    "\n",
    "# --- Step 2: Extract info and sort predictors\n",
    "plot_df = extract_model_info(rq2_model)\n",
    "plot_df['predictor'] = plot_df['predictor'].str.replace('_lag', '', regex=False)\n",
    "plot_df = plot_df.sort_values(by='coef', ascending=True)\n",
    "\n",
    "# --- Step 3: Plot\n",
    "plt.figure(figsize=(8, 10))\n",
    "\n",
    "for _, row in plot_df.iterrows():\n",
    "    plt.errorbar(\n",
    "        row['coef'],\n",
    "        row['predictor'],\n",
    "        xerr=[[row['coef'] - row['lower']], [row['upper'] - row['coef']]],\n",
    "        fmt='o',\n",
    "        color='black' if row['significant'] else 'lightgray',\n",
    "        ecolor='black' if row['significant'] else 'lightgray',\n",
    "        capsize=4\n",
    "    )\n",
    "\n",
    "plt.axvline(x=0, color='red', linestyle='--', linewidth=1)\n",
    "plt.title(\"Dot-Whisker Plot of Coefficients for ccSolve_t\")\n",
    "plt.xlabel(\"Coefficient Estimate\")\n",
    "plt.ylabel(\"Predictor\")\n",
    "plt.tight_layout()\n",
    "plt.savefig(\"../results/rq2_dot_whisker_ccSolve_coefficients.png\", dpi=300)\n",
    "plt.show()"
   ]
  },
  {
   "cell_type": "markdown",
   "id": "0e43fdf9",
   "metadata": {},
   "source": [
    "#### Panel VAR Analysis – RQ2 (Willingness to Pay as Outcome)\n",
    "* **Strongest predictors of increased WTP (`ccSolve_t`)** are:\n",
    "  * `ideology_liberal`\n",
    "  * `party_republican`\n",
    "  * `party_independent`\n",
    "  * `ideology_moderate`\n",
    "  * `party_democrat`\n",
    "  * `ideology_conservative`\n",
    "  * (also weakly significant: `cc_pol_tax`)\n",
    "* **Election period dummy (`wave3_dummy`)** is **not statistically significant**, suggesting **no election-period shock** in willingness to pay after controlling for attitudes and identity.\n",
    "* **Most demographic and harm perception variables (gray lines)** are **not significant**, indicating that **political orientation plays a much stronger role than climate risk perception** in shaping WTP.\n",
    "\n",
    "> **Therefore, the answer to RQ2 is:**\n",
    ">\n",
    "> **Willingness to pay is stable across the election period** and is **primarily influenced by political identity**.  \n",
    "> Harm perception, demographics, and the election wave itself do **not** significantly alter WTP in this model."
   ]
  },
  {
   "cell_type": "markdown",
   "id": "fbe0dc2a",
   "metadata": {},
   "source": [
    "---"
   ]
  },
  {
   "cell_type": "markdown",
   "id": "398d45d9",
   "metadata": {},
   "source": [
    "### RQ3. Does political ideology moderate the relationship between perceptions of harm and willingness to pay for climate solutions?\n",
    "To explore this question, we extend the **Panel VAR(1)** framework by estimating a model with `ccSolve_t` (willingness to financially support climate action) as the dependent variable. Our objective is to assess whether the impact of perceived climate harm on willingness to pay **varies by political ideology**.\n",
    "\n",
    "We include **interaction terms between lagged harm perception variables and respondents’ ideological self-placement** (`pol_ideology`), allowing us to test whether the strength or direction of these relationships depends on political views. The model also controls for prior willingness to pay, support for climate policies, demographic characteristics, and the timing of the election wave.\n",
    "\n",
    "* **Harm perceptions** (lagged):\n",
    "  `cc4_world`, `cc4_wealthUS`, `cc4_poorUS`, `cc4_comm`, `cc4_famheal`, `cc4_famecon`\n",
    "* **Political ideology**:\n",
    "  `pol_ideology` (treated as a continuous or ordinal variable)\n",
    "* **Interaction terms**:\n",
    "  Each lagged harm variable is interacted with `pol_ideology`, e.g.,\n",
    "  `cc4_world_lag × pol_ideology`, ..., `cc4_famecon_lag × pol_ideology`\n",
    "* **Other controls** (lagged):\n",
    "  * **Willingness to pay**: `ccSolve`\n",
    "  * **Policy support**: `cc_pol_tax`, `cc_pol_car`\n",
    "  * **Demographics**: `dem_income_binary`, `dem_educ_binary`, `dem_age`, `dem_male_binary`\n",
    "* **Election-period indicator**:\n",
    "  `wave3_dummy` — a binary variable equal to 1 during the election wave (Wave 3)\n",
    "\n",
    "The regression equation is estimated as:\n",
    "$$\n",
    "\\text{ccSolve}_t = \\alpha \n",
    "+ \\sum_{j=1}^{6} \\beta_j \\cdot H_{j,t-1} \n",
    "+ \\gamma \\cdot \\text{Ideology}_{t-1} \n",
    "+ \\sum_{j=1}^{6} \\delta_j \\cdot (H_{j,t-1} \\cdot \\text{Ideology}_{t-1}) \n",
    "+ \\sum_{k} \\lambda_k \\cdot Z_{k,t-1} \n",
    "+ \\theta \\cdot \\text{wave3\\_dummy}_t \n",
    "+ \\epsilon_t\n",
    "$$\n",
    "\n",
    "Where:\n",
    "* $H_{j,t-1}$ are the lagged harm perception variables\n",
    "* $\\text{Ideology}\\_{t-1}$ is the lagged political ideology score\n",
    "* $H_{j,t-1} \\cdot I_k$ are the interaction terms between perceptions and ideology\n",
    "* $Z_{l,t-1}$ are other controls (policy support, demographics)\n",
    "* $\\theta$ captures the election-period effect via `wave3_dummy_t`\n",
    "* $\\epsilon_t$ is the error term, clustered at the respondent level\n",
    "\n",
    "The model is estimated using **pooled OLS with cluster-robust standard errors**, based on complete responses across Waves 2–4.\n",
    "\n",
    "By explicitly interacting political ideology with climate harm perceptions, this specification allows us to test whether **individuals with different ideological leanings respond differently to perceived climate risks** when forming their willingness to pay for solutions. This helps uncover conditional effects that would be masked in non-interactive models."
   ]
  },
  {
   "cell_type": "code",
   "execution_count": 28,
   "id": "6674662b",
   "metadata": {},
   "outputs": [
    {
     "name": "stdout",
     "output_type": "stream",
     "text": [
      "\n",
      "=========================================\n",
      "                                ccSolve_t\n",
      "-----------------------------------------\n",
      "const                           1.1595***\n",
      "                                (0.1596) \n",
      "cc4_world_lag                   0.0837   \n",
      "                                (0.1062) \n",
      "cc4_wealthUS_lag                0.0298   \n",
      "                                (0.0862) \n",
      "cc4_poorUS_lag                  -0.0634  \n",
      "                                (0.1026) \n",
      "cc4_comm_lag                    -0.0403  \n",
      "                                (0.1406) \n",
      "cc4_famheal_lag                 0.0233   \n",
      "                                (0.1443) \n",
      "cc4_famecon_lag                 0.0348   \n",
      "                                (0.0955) \n",
      "ccSolve_lag                     0.0521*  \n",
      "                                (0.0275) \n",
      "cc_pol_tax_lag                  0.1041***\n",
      "                                (0.0255) \n",
      "cc_pol_car_lag                  -0.0296  \n",
      "                                (0.0253) \n",
      "dem_income_binary_lag           0.0465   \n",
      "                                (0.0534) \n",
      "dem_age_lag                     -0.0028* \n",
      "                                (0.0016) \n",
      "dem_educ_binary_lag             0.0956   \n",
      "                                (0.0802) \n",
      "dem_male_binary_lag             0.0708   \n",
      "                                (0.0475) \n",
      "pol_ideology_lag                -0.0164  \n",
      "                                (0.0435) \n",
      "cc4_world_x_pol_ideology_lag    -0.0079  \n",
      "                                (0.0361) \n",
      "cc4_wealthUS_x_pol_ideology_lag -0.0056  \n",
      "                                (0.0272) \n",
      "cc4_poorUS_x_pol_ideology_lag   0.0320   \n",
      "                                (0.0354) \n",
      "cc4_comm_x_pol_ideology_lag     -0.0055  \n",
      "                                (0.0467) \n",
      "cc4_famheal_x_pol_ideology_lag  0.0055   \n",
      "                                (0.0480) \n",
      "cc4_famecon_x_pol_ideology_lag  -0.0014  \n",
      "                                (0.0305) \n",
      "wave3_dummy                     0.0414   \n",
      "                                (0.0459) \n",
      "R-squared                       0.0771   \n",
      "R-squared Adj.                  0.0657   \n",
      "N                               1722     \n",
      "=========================================\n",
      "Standard errors in parentheses.\n",
      "* p<.1, ** p<.05, ***p<.01\n"
     ]
    }
   ],
   "source": [
    "import pandas as pd\n",
    "import statsmodels.api as sm\n",
    "from statsmodels.iolib.summary2 import summary_col\n",
    "import pandas as pd\n",
    "\n",
    "# Load data\n",
    "data = pd.read_csv(\"../data/5-cleaned_data_3waves.csv\", low_memory=False)\n",
    "\n",
    "# Define variable groups\n",
    "harm_vars = [\"cc4_world\", \"cc4_wealthUS\", \"cc4_poorUS\", \"cc4_comm\", \"cc4_famheal\", \"cc4_famecon\"]\n",
    "moderator = \"pol_ideology\"  # or use \"pol_score\" if you prefer\n",
    "controls = [\"ccSolve\", \"cc_pol_tax\", \"cc_pol_car\", \"dem_income_binary\", \"dem_age\", \"dem_educ_binary\", \"dem_male_binary\"]\n",
    "wave_dummy = [\"wave3_dummy\"]\n",
    "\n",
    "# Create wave3 dummy (1 if wave == 3, else 0)\n",
    "data['wave3_dummy'] = (data['WAVE'] == 3).astype(int)\n",
    "\n",
    "# Sort by PID and WAVE\n",
    "data = data.sort_values(by=[\"PID\", \"WAVE\"])\n",
    "\n",
    "# Create lagged versions\n",
    "for var in harm_vars + controls + [moderator]:\n",
    "    data[f\"{var}_lag\"] = data.groupby(\"PID\")[var].shift(1)\n",
    "\n",
    "# Create interaction terms between lagged harm perception and moderator\n",
    "for harm in harm_vars:\n",
    "    data[f\"{harm}_x_{moderator}_lag\"] = data.groupby(\"PID\")[harm].shift(1) * data[moderator]\n",
    "\n",
    "# Combine all predictors\n",
    "lagged_vars = [f\"{var}_lag\" for var in harm_vars + controls + [moderator]]\n",
    "interaction_terms = [f\"{harm}_x_{moderator}_lag\" for harm in harm_vars]\n",
    "all_predictors = lagged_vars + interaction_terms + wave_dummy  # wave3_dummy is not lagged\n",
    "\n",
    "# Drop missing rows\n",
    "panel_var_data = data.dropna(subset=all_predictors + [\"ccSolve\"])\n",
    "\n",
    "# Define outcome and predictors\n",
    "X = panel_var_data[all_predictors]\n",
    "y = panel_var_data[\"ccSolve\"]\n",
    "X = sm.add_constant(X)\n",
    "\n",
    "# Fit model\n",
    "rq3_model = sm.OLS(y, X).fit(cov_type=\"cluster\", cov_kwds={\"groups\": panel_var_data[\"PID\"]})\n",
    "\n",
    "# Print summary\n",
    "print(summary_col([rq3_model], stars=True, model_names=[\"ccSolve_t\"],\n",
    "                  info_dict={\"N\": lambda x: f\"{int(x.nobs)}\"}))"
   ]
  },
  {
   "cell_type": "code",
   "execution_count": 29,
   "id": "c69873ea",
   "metadata": {},
   "outputs": [
    {
     "data": {
      "image/png": "[encoded data removed]",
      "text/plain": [
       "<Figure size 1000x1200 with 1 Axes>"
      ]
     },
     "metadata": {},
     "output_type": "display_data"
    }
   ],
   "source": [
    "import matplotlib.pyplot as plt\n",
    "import pandas as pd\n",
    "import os\n",
    "os.makedirs(\"../results\", exist_ok=True)\n",
    "\n",
    "# --- Helper function for RQ3 model\n",
    "def extract_rq3_model_info(model):\n",
    "    coefs = model.params\n",
    "    conf = model.conf_int()\n",
    "    df = pd.DataFrame({\n",
    "        'predictor': coefs.index,\n",
    "        'coef': coefs.values,\n",
    "        'lower': conf[0].values,\n",
    "        'upper': conf[1].values\n",
    "    }).query(\"predictor != 'const'\")\n",
    "    \n",
    "    # Add significance flag\n",
    "    df['significant'] = ~((df['lower'] <= 0) & (df['upper'] >= 0))\n",
    "    \n",
    "    # Optional: clean up names (e.g., _lag suffix, underscore spacing)\n",
    "    df['predictor'] = df['predictor'].str.replace('_lag', '', regex=False)\n",
    "    df['predictor'] = df['predictor'].str.replace(':', ' × ')  # for interaction terms\n",
    "    return df.sort_values(by='coef', ascending=True)\n",
    "\n",
    "# --- Extract model info\n",
    "plot_df = extract_rq3_model_info(rq3_model)\n",
    "\n",
    "# --- Plotting\n",
    "plt.figure(figsize=(10, 12))\n",
    "for _, row in plot_df.iterrows():\n",
    "    color = 'tab:green' if row['significant'] else 'lightgray'\n",
    "    plt.errorbar(\n",
    "        row['coef'],\n",
    "        row['predictor'],\n",
    "        xerr=[[row['coef'] - row['lower']], [row['upper'] - row['coef']]],\n",
    "        fmt='o',\n",
    "        color=color,\n",
    "        ecolor=color,\n",
    "        capsize=4\n",
    "    )\n",
    "\n",
    "plt.axvline(0, color='gray', linestyle='--')\n",
    "plt.title(\"RQ3: Moderating Effect of Political Ideology on Climate Harm Perception → WTP\")\n",
    "plt.xlabel(\"Coefficient Estimate\")\n",
    "plt.ylabel(\"Predictor or Interaction\")\n",
    "plt.tight_layout()\n",
    "plt.savefig(\"../results/rq3_dot_whisker_moderation.png\", dpi=300)\n",
    "plt.show()"
   ]
  },
  {
   "cell_type": "markdown",
   "id": "b25f07d1",
   "metadata": {},
   "source": [
    "#### Interaction Model – RQ3 (Ideology Moderates Harm → WTP)\n",
    "* The **main effects of political ideology** are clear:\n",
    "  * `ideology_liberal` has the **strongest positive association** with WTP and is **statistically significant**\n",
    "* **None of the interaction terms** between harm perception variables (e.g., `cc4_world`, `cc4_comm`) and ideology groups are significant.\n",
    "  * This suggests that **climate harm perception does not have a different impact on WTP depending on ideological alignment**\n",
    "* Other control variables such as `cc_pol_tax` retain a **direct positive effect**, but **harm perception and demographic controls** remain **statistically insignificant**\n",
    "\n",
    "> **Therefore, the answer to RQ3 is:**\n",
    ">\n",
    "> While political ideology is a **strong direct predictor** of willingness to pay, it does **not moderate** the effect of perceived climate harm.\n",
    "> That is, **liberals, moderates, and conservatives react similarly** to perceived climate risks when it comes to financial support - what differs is their baseline support level, not the responsiveness to climate concern.\n"
   ]
  },
  {
   "cell_type": "code",
   "execution_count": 8,
   "id": "dde7be6e",
   "metadata": {},
   "outputs": [
    {
     "data": {
      "application/vnd.plotly.v1+json": {
       "config": {
        "plotlyServerURL": "https://plot.ly"
       },
       "data": [
        {
         "hoverinfo": "text",
         "line": {
          "color": "gray",
          "width": 1
         },
         "mode": "lines",
         "text": [
          "cc4_world → cc4_world<br>β = 0.51",
          "cc4_world → cc4_poorUS<br>β = 0.23",
          "cc4_world → cc4_comm<br>β = 0.10",
          "cc4_world → cc_pol_tax<br>β = 0.18",
          "cc4_world → cc_pol_car<br>β = 0.15",
          "cc4_poorUS → cc4_world<br>β = 0.07",
          "cc4_poorUS → cc4_poorUS<br>β = 0.26",
          "cc4_poorUS → cc_pol_car<br>β = 0.10",
          "cc4_famheal → cc4_world<br>β = 0.07",
          "cc4_famheal → cc4_poorUS<br>β = 0.11",
          "cc4_famheal → cc4_comm<br>β = 0.10",
          "cc4_famheal → cc4_famheal<br>β = 0.26",
          "cc_pol_tax → cc4_world<br>β = 0.09",
          "cc_pol_tax → cc4_wealthUS<br>β = 0.10",
          "cc_pol_tax → cc4_famheal<br>β = 0.09",
          "cc_pol_tax → cc4_famecon<br>β = 0.06",
          "cc_pol_tax → ccSolve<br>β = 0.11",
          "cc_pol_tax → cc_pol_tax<br>β = 0.35",
          "cc_pol_tax → cc_pol_car<br>β = 0.10",
          "cc_pol_tax → pol_score<br>β = -0.03",
          "cc_pol_car → cc4_world<br>β = 0.10",
          "cc_pol_car → cc4_poorUS<br>β = 0.11",
          "cc_pol_car → cc4_comm<br>β = 0.08",
          "cc_pol_car → cc_pol_tax<br>β = 0.14",
          "cc_pol_car → cc_pol_car<br>β = 0.43",
          "pol_score → cc4_world<br>β = -0.04",
          "pol_score → cc4_wealthUS<br>β = -0.04",
          "pol_score → cc4_poorUS<br>β = -0.07",
          "pol_score → cc4_comm<br>β = -0.05",
          "pol_score → cc_pol_tax<br>β = -0.11",
          "pol_score → cc_pol_car<br>β = -0.04",
          "pol_score → pol_score<br>β = 0.89",
          "pol_score → pol_ideology<br>β = -0.06",
          "pol_ideology → cc4_world<br>β = 0.07",
          "pol_ideology → cc4_poorUS<br>β = 0.10",
          "pol_ideology → cc4_comm<br>β = 0.07",
          "pol_ideology → cc_pol_car<br>β = 0.06",
          "pol_ideology → pol_score<br>β = -0.07",
          "pol_ideology → pol_ideology<br>β = 0.81",
          "cc4_wealthUS → cc4_wealthUS<br>β = 0.26",
          "cc4_wealthUS → cc_pol_car<br>β = -0.05",
          "cc4_comm → cc4_wealthUS<br>β = 0.19",
          "cc4_comm → cc4_poorUS<br>β = 0.11",
          "cc4_comm → cc4_comm<br>β = 0.37",
          "cc4_comm → cc4_famheal<br>β = 0.23",
          "cc4_comm → cc4_famecon<br>β = 0.20",
          "dem_income_binary → cc4_wealthUS<br>β = -0.12",
          "dem_income_binary → dem_income_binary<br>β = 0.93",
          "dem_age → cc4_wealthUS<br>β = 0.00",
          "dem_age → cc4_famecon<br>β = -0.00",
          "dem_age → dem_age<br>β = 0.98",
          "cc4_famecon → cc4_famheal<br>β = 0.09",
          "cc4_famecon → cc4_famecon<br>β = 0.35",
          "ccSolve → ccSolve<br>β = 0.05",
          "ccSolve → cc_pol_tax<br>β = 0.09",
          "ccSolve → pol_ideology<br>β = -0.02",
          "dem_educ_binary → cc_pol_tax<br>β = 0.18",
          "dem_educ_binary → dem_income_binary<br>β = 0.04",
          "dem_educ_binary → dem_educ_binary<br>β = 0.97",
          "dem_male_binary → dem_male_binary<br>β = 0.98"
         ],
         "type": "scatter",
         "x": [
          4.5,
          4.5,
          null,
          4.5,
          3,
          null,
          4.5,
          0,
          null,
          4.5,
          0,
          null,
          4.5,
          1.5,
          null,
          3,
          4.5,
          null,
          3,
          3,
          null,
          3,
          1.5,
          null,
          6,
          4.5,
          null,
          6,
          3,
          null,
          6,
          0,
          null,
          6,
          6,
          null,
          0,
          4.5,
          null,
          0,
          1.5,
          null,
          0,
          6,
          null,
          0,
          7.5,
          null,
          0,
          3,
          null,
          0,
          0,
          null,
          0,
          1.5,
          null,
          0,
          0,
          null,
          1.5,
          4.5,
          null,
          1.5,
          3,
          null,
          1.5,
          0,
          null,
          1.5,
          0,
          null,
          1.5,
          1.5,
          null,
          0,
          4.5,
          null,
          0,
          1.5,
          null,
          0,
          3,
          null,
          0,
          0,
          null,
          0,
          0,
          null,
          0,
          1.5,
          null,
          0,
          0,
          null,
          0,
          1.5,
          null,
          1.5,
          4.5,
          null,
          1.5,
          3,
          null,
          1.5,
          0,
          null,
          1.5,
          1.5,
          null,
          1.5,
          0,
          null,
          1.5,
          1.5,
          null,
          1.5,
          1.5,
          null,
          1.5,
          1.5,
          null,
          0,
          1.5,
          null,
          0,
          3,
          null,
          0,
          0,
          null,
          0,
          6,
          null,
          0,
          7.5,
          null,
          3,
          1.5,
          null,
          3,
          3,
          null,
          4.5,
          1.5,
          null,
          4.5,
          7.5,
          null,
          4.5,
          4.5,
          null,
          7.5,
          6,
          null,
          7.5,
          7.5,
          null,
          3,
          3,
          null,
          3,
          0,
          null,
          3,
          1.5,
          null,
          1.5,
          0,
          null,
          1.5,
          3,
          null,
          1.5,
          1.5,
          null,
          0,
          0,
          null
         ],
         "y": [
          0,
          0,
          null,
          0,
          0,
          null,
          0,
          0,
          null,
          0,
          -3,
          null,
          0,
          -3,
          null,
          0,
          0,
          null,
          0,
          0,
          null,
          0,
          -3,
          null,
          0,
          0,
          null,
          0,
          0,
          null,
          0,
          0,
          null,
          0,
          0,
          null,
          -3,
          0,
          null,
          -3,
          0,
          null,
          -3,
          0,
          null,
          -3,
          0,
          null,
          -3,
          -3,
          null,
          -3,
          -3,
          null,
          -3,
          -3,
          null,
          -3,
          -1.5,
          null,
          -3,
          0,
          null,
          -3,
          0,
          null,
          -3,
          0,
          null,
          -3,
          -3,
          null,
          -3,
          -3,
          null,
          -1.5,
          0,
          null,
          -1.5,
          0,
          null,
          -1.5,
          0,
          null,
          -1.5,
          0,
          null,
          -1.5,
          -3,
          null,
          -1.5,
          -3,
          null,
          -1.5,
          -1.5,
          null,
          -1.5,
          -1.5,
          null,
          -1.5,
          0,
          null,
          -1.5,
          0,
          null,
          -1.5,
          0,
          null,
          -1.5,
          -3,
          null,
          -1.5,
          -1.5,
          null,
          -1.5,
          -1.5,
          null,
          0,
          0,
          null,
          0,
          -3,
          null,
          0,
          0,
          null,
          0,
          0,
          null,
          0,
          0,
          null,
          0,
          0,
          null,
          0,
          0,
          null,
          -4.5,
          0,
          null,
          -4.5,
          -4.5,
          null,
          -4.5,
          0,
          null,
          -4.5,
          0,
          null,
          -4.5,
          -4.5,
          null,
          0,
          0,
          null,
          0,
          0,
          null,
          -3,
          -3,
          null,
          -3,
          -3,
          null,
          -3,
          -1.5,
          null,
          -4.5,
          -3,
          null,
          -4.5,
          -4.5,
          null,
          -4.5,
          -4.5,
          null,
          -4.5,
          -4.5,
          null
         ]
        },
        {
         "hoverinfo": "text",
         "hovertext": [
          "<b>world</b><br>← from: world, poorUS, famheal, pol_tax, pol_car, pol_score, pol_ideology<br>→ to: world, poorUS, comm, pol_tax, pol_car",
          "<b>poorUS</b><br>← from: world, poorUS, comm, famheal, pol_car, pol_score, pol_ideology<br>→ to: world, poorUS, pol_car",
          "<b>famheal</b><br>← from: comm, famheal, famecon, pol_tax<br>→ to: world, poorUS, comm, famheal",
          "<b>pol_tax</b><br>← from: world, ccSolve, pol_tax, pol_car, dem_educ_binary, pol_score<br>→ to: world, wealthUS, famheal, famecon, ccSolve, pol_tax, pol_car, pol_score",
          "<b>pol_car</b><br>← from: world, wealthUS, poorUS, pol_tax, pol_car, pol_score, pol_ideology<br>→ to: world, poorUS, comm, pol_tax, pol_car",
          "<b>pol_score</b><br>← from: pol_tax, pol_score, pol_ideology<br>→ to: world, wealthUS, poorUS, comm, pol_tax, pol_car, pol_score, pol_ideology",
          "<b>pol_ideology</b><br>← from: ccSolve, pol_score, pol_ideology<br>→ to: world, poorUS, comm, pol_car, pol_score, pol_ideology",
          "<b>wealthUS</b><br>← from: wealthUS, comm, pol_tax, dem_income_binary, dem_age, pol_score<br>→ to: wealthUS, pol_car",
          "<b>comm</b><br>← from: world, comm, famheal, pol_car, pol_score, pol_ideology<br>→ to: wealthUS, poorUS, comm, famheal, famecon",
          "<b>dem_income_binary</b><br>← from: dem_income_binary, dem_educ_binary<br>→ to: wealthUS, dem_income_binary",
          "<b>dem_age</b><br>← from: dem_age<br>→ to: wealthUS, famecon, dem_age",
          "<b>famecon</b><br>← from: comm, famecon, pol_tax, dem_age<br>→ to: famheal, famecon",
          "<b>ccSolve</b><br>← from: ccSolve, pol_tax<br>→ to: ccSolve, pol_tax, pol_ideology",
          "<b>dem_educ_binary</b><br>← from: dem_educ_binary<br>→ to: pol_tax, dem_income_binary, dem_educ_binary",
          "<b>dem_male_binary</b><br>← from: dem_male_binary<br>→ to: dem_male_binary"
         ],
         "marker": {
          "color": [
           "lightblue",
           "lightblue",
           "lightblue",
           "lightgreen",
           "lightgreen",
           "violet",
           "violet",
           "lightblue",
           "lightblue",
           "orange",
           "orange",
           "lightblue",
           "lightgreen",
           "orange",
           "orange"
          ],
          "line": {
           "color": "black",
           "width": 2
          },
          "size": 20
         },
         "mode": "markers+text",
         "text": [
          "world",
          "poorUS",
          "famheal",
          "pol_tax",
          "pol_car",
          "pol_score",
          "pol_ideology",
          "wealthUS",
          "comm",
          "dem_income_binary",
          "dem_age",
          "famecon",
          "ccSolve",
          "dem_educ_binary",
          "dem_male_binary"
         ],
         "textposition": "top center",
         "type": "scatter",
         "x": [
          4.5,
          3,
          6,
          0,
          1.5,
          0,
          1.5,
          1.5,
          0,
          3,
          4.5,
          7.5,
          3,
          1.5,
          0
         ],
         "y": [
          0,
          0,
          0,
          -3,
          -3,
          -1.5,
          -1.5,
          0,
          0,
          -4.5,
          -4.5,
          0,
          -3,
          -4.5,
          -4.5
         ]
        },
        {
         "marker": {
          "color": "lightblue",
          "size": 15
         },
         "mode": "markers",
         "name": "Climate Harm",
         "type": "scatter",
         "x": [
          null
         ],
         "y": [
          null
         ]
        },
        {
         "marker": {
          "color": "lightgreen",
          "size": 15
         },
         "mode": "markers",
         "name": "Policy Support",
         "type": "scatter",
         "x": [
          null
         ],
         "y": [
          null
         ]
        },
        {
         "marker": {
          "color": "orange",
          "size": 15
         },
         "mode": "markers",
         "name": "Demographics",
         "type": "scatter",
         "x": [
          null
         ],
         "y": [
          null
         ]
        },
        {
         "marker": {
          "color": "violet",
          "size": 15
         },
         "mode": "markers",
         "name": "Political",
         "type": "scatter",
         "x": [
          null
         ],
         "y": [
          null
         ]
        },
        {
         "line": {
          "color": "green",
          "width": 2
         },
         "mode": "lines",
         "name": "Positive effect",
         "type": "scatter",
         "x": [
          null
         ],
         "y": [
          null
         ]
        },
        {
         "line": {
          "color": "red",
          "width": 2
         },
         "mode": "lines",
         "name": "Negative effect",
         "type": "scatter",
         "x": [
          null
         ],
         "y": [
          null
         ]
        }
       ],
       "layout": {
        "annotations": [
         {
          "arrowcolor": "green",
          "arrowhead": 3,
          "arrowsize": 1,
          "arrowwidth": 1.5,
          "ax": 4.5,
          "axref": "x",
          "ay": 0,
          "ayref": "y",
          "showarrow": true,
          "x": 4.5,
          "xref": "x",
          "y": 0,
          "yref": "y"
         },
         {
          "arrowcolor": "green",
          "arrowhead": 3,
          "arrowsize": 1,
          "arrowwidth": 1.5,
          "ax": 4.5,
          "axref": "x",
          "ay": 0,
          "ayref": "y",
          "showarrow": true,
          "x": 3,
          "xref": "x",
          "y": 0,
          "yref": "y"
         },
         {
          "arrowcolor": "green",
          "arrowhead": 3,
          "arrowsize": 1,
          "arrowwidth": 1.5,
          "ax": 4.5,
          "axref": "x",
          "ay": 0,
          "ayref": "y",
          "showarrow": true,
          "x": 0,
          "xref": "x",
          "y": 0,
          "yref": "y"
         },
         {
          "arrowcolor": "green",
          "arrowhead": 3,
          "arrowsize": 1,
          "arrowwidth": 1.5,
          "ax": 4.5,
          "axref": "x",
          "ay": 0,
          "ayref": "y",
          "showarrow": true,
          "x": 0,
          "xref": "x",
          "y": -3,
          "yref": "y"
         },
         {
          "arrowcolor": "green",
          "arrowhead": 3,
          "arrowsize": 1,
          "arrowwidth": 1.5,
          "ax": 4.5,
          "axref": "x",
          "ay": 0,
          "ayref": "y",
          "showarrow": true,
          "x": 1.5,
          "xref": "x",
          "y": -3,
          "yref": "y"
         },
         {
          "arrowcolor": "green",
          "arrowhead": 3,
          "arrowsize": 1,
          "arrowwidth": 1.5,
          "ax": 3,
          "axref": "x",
          "ay": 0,
          "ayref": "y",
          "showarrow": true,
          "x": 4.5,
          "xref": "x",
          "y": 0,
          "yref": "y"
         },
         {
          "arrowcolor": "green",
          "arrowhead": 3,
          "arrowsize": 1,
          "arrowwidth": 1.5,
          "ax": 3,
          "axref": "x",
          "ay": 0,
          "ayref": "y",
          "showarrow": true,
          "x": 3,
          "xref": "x",
          "y": 0,
          "yref": "y"
         },
         {
          "arrowcolor": "green",
          "arrowhead": 3,
          "arrowsize": 1,
          "arrowwidth": 1.5,
          "ax": 3,
          "axref": "x",
          "ay": 0,
          "ayref": "y",
          "showarrow": true,
          "x": 1.5,
          "xref": "x",
          "y": -3,
          "yref": "y"
         },
         {
          "arrowcolor": "green",
          "arrowhead": 3,
          "arrowsize": 1,
          "arrowwidth": 1.5,
          "ax": 6,
          "axref": "x",
          "ay": 0,
          "ayref": "y",
          "showarrow": true,
          "x": 4.5,
          "xref": "x",
          "y": 0,
          "yref": "y"
         },
         {
          "arrowcolor": "green",
          "arrowhead": 3,
          "arrowsize": 1,
          "arrowwidth": 1.5,
          "ax": 6,
          "axref": "x",
          "ay": 0,
          "ayref": "y",
          "showarrow": true,
          "x": 3,
          "xref": "x",
          "y": 0,
          "yref": "y"
         },
         {
          "arrowcolor": "green",
          "arrowhead": 3,
          "arrowsize": 1,
          "arrowwidth": 1.5,
          "ax": 6,
          "axref": "x",
          "ay": 0,
          "ayref": "y",
          "showarrow": true,
          "x": 0,
          "xref": "x",
          "y": 0,
          "yref": "y"
         },
         {
          "arrowcolor": "green",
          "arrowhead": 3,
          "arrowsize": 1,
          "arrowwidth": 1.5,
          "ax": 6,
          "axref": "x",
          "ay": 0,
          "ayref": "y",
          "showarrow": true,
          "x": 6,
          "xref": "x",
          "y": 0,
          "yref": "y"
         },
         {
          "arrowcolor": "green",
          "arrowhead": 3,
          "arrowsize": 1,
          "arrowwidth": 1.5,
          "ax": 0,
          "axref": "x",
          "ay": -3,
          "ayref": "y",
          "showarrow": true,
          "x": 4.5,
          "xref": "x",
          "y": 0,
          "yref": "y"
         },
         {
          "arrowcolor": "green",
          "arrowhead": 3,
          "arrowsize": 1,
          "arrowwidth": 1.5,
          "ax": 0,
          "axref": "x",
          "ay": -3,
          "ayref": "y",
          "showarrow": true,
          "x": 1.5,
          "xref": "x",
          "y": 0,
          "yref": "y"
         },
         {
          "arrowcolor": "green",
          "arrowhead": 3,
          "arrowsize": 1,
          "arrowwidth": 1.5,
          "ax": 0,
          "axref": "x",
          "ay": -3,
          "ayref": "y",
          "showarrow": true,
          "x": 6,
          "xref": "x",
          "y": 0,
          "yref": "y"
         },
         {
          "arrowcolor": "green",
          "arrowhead": 3,
          "arrowsize": 1,
          "arrowwidth": 1.5,
          "ax": 0,
          "axref": "x",
          "ay": -3,
          "ayref": "y",
          "showarrow": true,
          "x": 7.5,
          "xref": "x",
          "y": 0,
          "yref": "y"
         },
         {
          "arrowcolor": "green",
          "arrowhead": 3,
          "arrowsize": 1,
          "arrowwidth": 1.5,
          "ax": 0,
          "axref": "x",
          "ay": -3,
          "ayref": "y",
          "showarrow": true,
          "x": 3,
          "xref": "x",
          "y": -3,
          "yref": "y"
         },
         {
          "arrowcolor": "green",
          "arrowhead": 3,
          "arrowsize": 1,
          "arrowwidth": 1.5,
          "ax": 0,
          "axref": "x",
          "ay": -3,
          "ayref": "y",
          "showarrow": true,
          "x": 0,
          "xref": "x",
          "y": -3,
          "yref": "y"
         },
         {
          "arrowcolor": "green",
          "arrowhead": 3,
          "arrowsize": 1,
          "arrowwidth": 1.5,
          "ax": 0,
          "axref": "x",
          "ay": -3,
          "ayref": "y",
          "showarrow": true,
          "x": 1.5,
          "xref": "x",
          "y": -3,
          "yref": "y"
         },
         {
          "arrowcolor": "red",
          "arrowhead": 3,
          "arrowsize": 1,
          "arrowwidth": 1.5,
          "ax": 0,
          "axref": "x",
          "ay": -3,
          "ayref": "y",
          "showarrow": true,
          "x": 0,
          "xref": "x",
          "y": -1.5,
          "yref": "y"
         },
         {
          "arrowcolor": "green",
          "arrowhead": 3,
          "arrowsize": 1,
          "arrowwidth": 1.5,
          "ax": 1.5,
          "axref": "x",
          "ay": -3,
          "ayref": "y",
          "showarrow": true,
          "x": 4.5,
          "xref": "x",
          "y": 0,
          "yref": "y"
         },
         {
          "arrowcolor": "green",
          "arrowhead": 3,
          "arrowsize": 1,
          "arrowwidth": 1.5,
          "ax": 1.5,
          "axref": "x",
          "ay": -3,
          "ayref": "y",
          "showarrow": true,
          "x": 3,
          "xref": "x",
          "y": 0,
          "yref": "y"
         },
         {
          "arrowcolor": "green",
          "arrowhead": 3,
          "arrowsize": 1,
          "arrowwidth": 1.5,
          "ax": 1.5,
          "axref": "x",
          "ay": -3,
          "ayref": "y",
          "showarrow": true,
          "x": 0,
          "xref": "x",
          "y": 0,
          "yref": "y"
         },
         {
          "arrowcolor": "green",
          "arrowhead": 3,
          "arrowsize": 1,
          "arrowwidth": 1.5,
          "ax": 1.5,
          "axref": "x",
          "ay": -3,
          "ayref": "y",
          "showarrow": true,
          "x": 0,
          "xref": "x",
          "y": -3,
          "yref": "y"
         },
         {
          "arrowcolor": "green",
          "arrowhead": 3,
          "arrowsize": 1,
          "arrowwidth": 1.5,
          "ax": 1.5,
          "axref": "x",
          "ay": -3,
          "ayref": "y",
          "showarrow": true,
          "x": 1.5,
          "xref": "x",
          "y": -3,
          "yref": "y"
         },
         {
          "arrowcolor": "red",
          "arrowhead": 3,
          "arrowsize": 1,
          "arrowwidth": 1.5,
          "ax": 0,
          "axref": "x",
          "ay": -1.5,
          "ayref": "y",
          "showarrow": true,
          "x": 4.5,
          "xref": "x",
          "y": 0,
          "yref": "y"
         },
         {
          "arrowcolor": "red",
          "arrowhead": 3,
          "arrowsize": 1,
          "arrowwidth": 1.5,
          "ax": 0,
          "axref": "x",
          "ay": -1.5,
          "ayref": "y",
          "showarrow": true,
          "x": 1.5,
          "xref": "x",
          "y": 0,
          "yref": "y"
         },
         {
          "arrowcolor": "red",
          "arrowhead": 3,
          "arrowsize": 1,
          "arrowwidth": 1.5,
          "ax": 0,
          "axref": "x",
          "ay": -1.5,
          "ayref": "y",
          "showarrow": true,
          "x": 3,
          "xref": "x",
          "y": 0,
          "yref": "y"
         },
         {
          "arrowcolor": "red",
          "arrowhead": 3,
          "arrowsize": 1,
          "arrowwidth": 1.5,
          "ax": 0,
          "axref": "x",
          "ay": -1.5,
          "ayref": "y",
          "showarrow": true,
          "x": 0,
          "xref": "x",
          "y": 0,
          "yref": "y"
         },
         {
          "arrowcolor": "red",
          "arrowhead": 3,
          "arrowsize": 1,
          "arrowwidth": 1.5,
          "ax": 0,
          "axref": "x",
          "ay": -1.5,
          "ayref": "y",
          "showarrow": true,
          "x": 0,
          "xref": "x",
          "y": -3,
          "yref": "y"
         },
         {
          "arrowcolor": "red",
          "arrowhead": 3,
          "arrowsize": 1,
          "arrowwidth": 1.5,
          "ax": 0,
          "axref": "x",
          "ay": -1.5,
          "ayref": "y",
          "showarrow": true,
          "x": 1.5,
          "xref": "x",
          "y": -3,
          "yref": "y"
         },
         {
          "arrowcolor": "green",
          "arrowhead": 3,
          "arrowsize": 1,
          "arrowwidth": 1.5,
          "ax": 0,
          "axref": "x",
          "ay": -1.5,
          "ayref": "y",
          "showarrow": true,
          "x": 0,
          "xref": "x",
          "y": -1.5,
          "yref": "y"
         },
         {
          "arrowcolor": "red",
          "arrowhead": 3,
          "arrowsize": 1,
          "arrowwidth": 1.5,
          "ax": 0,
          "axref": "x",
          "ay": -1.5,
          "ayref": "y",
          "showarrow": true,
          "x": 1.5,
          "xref": "x",
          "y": -1.5,
          "yref": "y"
         },
         {
          "arrowcolor": "green",
          "arrowhead": 3,
          "arrowsize": 1,
          "arrowwidth": 1.5,
          "ax": 1.5,
          "axref": "x",
          "ay": -1.5,
          "ayref": "y",
          "showarrow": true,
          "x": 4.5,
          "xref": "x",
          "y": 0,
          "yref": "y"
         },
         {
          "arrowcolor": "green",
          "arrowhead": 3,
          "arrowsize": 1,
          "arrowwidth": 1.5,
          "ax": 1.5,
          "axref": "x",
          "ay": -1.5,
          "ayref": "y",
          "showarrow": true,
          "x": 3,
          "xref": "x",
          "y": 0,
          "yref": "y"
         },
         {
          "arrowcolor": "green",
          "arrowhead": 3,
          "arrowsize": 1,
          "arrowwidth": 1.5,
          "ax": 1.5,
          "axref": "x",
          "ay": -1.5,
          "ayref": "y",
          "showarrow": true,
          "x": 0,
          "xref": "x",
          "y": 0,
          "yref": "y"
         },
         {
          "arrowcolor": "green",
          "arrowhead": 3,
          "arrowsize": 1,
          "arrowwidth": 1.5,
          "ax": 1.5,
          "axref": "x",
          "ay": -1.5,
          "ayref": "y",
          "showarrow": true,
          "x": 1.5,
          "xref": "x",
          "y": -3,
          "yref": "y"
         },
         {
          "arrowcolor": "red",
          "arrowhead": 3,
          "arrowsize": 1,
          "arrowwidth": 1.5,
          "ax": 1.5,
          "axref": "x",
          "ay": -1.5,
          "ayref": "y",
          "showarrow": true,
          "x": 0,
          "xref": "x",
          "y": -1.5,
          "yref": "y"
         },
         {
          "arrowcolor": "green",
          "arrowhead": 3,
          "arrowsize": 1,
          "arrowwidth": 1.5,
          "ax": 1.5,
          "axref": "x",
          "ay": -1.5,
          "ayref": "y",
          "showarrow": true,
          "x": 1.5,
          "xref": "x",
          "y": -1.5,
          "yref": "y"
         },
         {
          "arrowcolor": "green",
          "arrowhead": 3,
          "arrowsize": 1,
          "arrowwidth": 1.5,
          "ax": 1.5,
          "axref": "x",
          "ay": 0,
          "ayref": "y",
          "showarrow": true,
          "x": 1.5,
          "xref": "x",
          "y": 0,
          "yref": "y"
         },
         {
          "arrowcolor": "red",
          "arrowhead": 3,
          "arrowsize": 1,
          "arrowwidth": 1.5,
          "ax": 1.5,
          "axref": "x",
          "ay": 0,
          "ayref": "y",
          "showarrow": true,
          "x": 1.5,
          "xref": "x",
          "y": -3,
          "yref": "y"
         },
         {
          "arrowcolor": "green",
          "arrowhead": 3,
          "arrowsize": 1,
          "arrowwidth": 1.5,
          "ax": 0,
          "axref": "x",
          "ay": 0,
          "ayref": "y",
          "showarrow": true,
          "x": 1.5,
          "xref": "x",
          "y": 0,
          "yref": "y"
         },
         {
          "arrowcolor": "green",
          "arrowhead": 3,
          "arrowsize": 1,
          "arrowwidth": 1.5,
          "ax": 0,
          "axref": "x",
          "ay": 0,
          "ayref": "y",
          "showarrow": true,
          "x": 3,
          "xref": "x",
          "y": 0,
          "yref": "y"
         },
         {
          "arrowcolor": "green",
          "arrowhead": 3,
          "arrowsize": 1,
          "arrowwidth": 1.5,
          "ax": 0,
          "axref": "x",
          "ay": 0,
          "ayref": "y",
          "showarrow": true,
          "x": 0,
          "xref": "x",
          "y": 0,
          "yref": "y"
         },
         {
          "arrowcolor": "green",
          "arrowhead": 3,
          "arrowsize": 1,
          "arrowwidth": 1.5,
          "ax": 0,
          "axref": "x",
          "ay": 0,
          "ayref": "y",
          "showarrow": true,
          "x": 6,
          "xref": "x",
          "y": 0,
          "yref": "y"
         },
         {
          "arrowcolor": "green",
          "arrowhead": 3,
          "arrowsize": 1,
          "arrowwidth": 1.5,
          "ax": 0,
          "axref": "x",
          "ay": 0,
          "ayref": "y",
          "showarrow": true,
          "x": 7.5,
          "xref": "x",
          "y": 0,
          "yref": "y"
         },
         {
          "arrowcolor": "red",
          "arrowhead": 3,
          "arrowsize": 1,
          "arrowwidth": 1.5,
          "ax": 3,
          "axref": "x",
          "ay": -4.5,
          "ayref": "y",
          "showarrow": true,
          "x": 1.5,
          "xref": "x",
          "y": 0,
          "yref": "y"
         },
         {
          "arrowcolor": "green",
          "arrowhead": 3,
          "arrowsize": 1,
          "arrowwidth": 1.5,
          "ax": 3,
          "axref": "x",
          "ay": -4.5,
          "ayref": "y",
          "showarrow": true,
          "x": 3,
          "xref": "x",
          "y": -4.5,
          "yref": "y"
         },
         {
          "arrowcolor": "green",
          "arrowhead": 3,
          "arrowsize": 1,
          "arrowwidth": 1.5,
          "ax": 4.5,
          "axref": "x",
          "ay": -4.5,
          "ayref": "y",
          "showarrow": true,
          "x": 1.5,
          "xref": "x",
          "y": 0,
          "yref": "y"
         },
         {
          "arrowcolor": "red",
          "arrowhead": 3,
          "arrowsize": 1,
          "arrowwidth": 1.5,
          "ax": 4.5,
          "axref": "x",
          "ay": -4.5,
          "ayref": "y",
          "showarrow": true,
          "x": 7.5,
          "xref": "x",
          "y": 0,
          "yref": "y"
         },
         {
          "arrowcolor": "green",
          "arrowhead": 3,
          "arrowsize": 1,
          "arrowwidth": 1.5,
          "ax": 4.5,
          "axref": "x",
          "ay": -4.5,
          "ayref": "y",
          "showarrow": true,
          "x": 4.5,
          "xref": "x",
          "y": -4.5,
          "yref": "y"
         },
         {
          "arrowcolor": "green",
          "arrowhead": 3,
          "arrowsize": 1,
          "arrowwidth": 1.5,
          "ax": 7.5,
          "axref": "x",
          "ay": 0,
          "ayref": "y",
          "showarrow": true,
          "x": 6,
          "xref": "x",
          "y": 0,
          "yref": "y"
         },
         {
          "arrowcolor": "green",
          "arrowhead": 3,
          "arrowsize": 1,
          "arrowwidth": 1.5,
          "ax": 7.5,
          "axref": "x",
          "ay": 0,
          "ayref": "y",
          "showarrow": true,
          "x": 7.5,
          "xref": "x",
          "y": 0,
          "yref": "y"
         },
         {
          "arrowcolor": "green",
          "arrowhead": 3,
          "arrowsize": 1,
          "arrowwidth": 1.5,
          "ax": 3,
          "axref": "x",
          "ay": -3,
          "ayref": "y",
          "showarrow": true,
          "x": 3,
          "xref": "x",
          "y": -3,
          "yref": "y"
         },
         {
          "arrowcolor": "green",
          "arrowhead": 3,
          "arrowsize": 1,
          "arrowwidth": 1.5,
          "ax": 3,
          "axref": "x",
          "ay": -3,
          "ayref": "y",
          "showarrow": true,
          "x": 0,
          "xref": "x",
          "y": -3,
          "yref": "y"
         },
         {
          "arrowcolor": "red",
          "arrowhead": 3,
          "arrowsize": 1,
          "arrowwidth": 1.5,
          "ax": 3,
          "axref": "x",
          "ay": -3,
          "ayref": "y",
          "showarrow": true,
          "x": 1.5,
          "xref": "x",
          "y": -1.5,
          "yref": "y"
         },
         {
          "arrowcolor": "green",
          "arrowhead": 3,
          "arrowsize": 1,
          "arrowwidth": 1.5,
          "ax": 1.5,
          "axref": "x",
          "ay": -4.5,
          "ayref": "y",
          "showarrow": true,
          "x": 0,
          "xref": "x",
          "y": -3,
          "yref": "y"
         },
         {
          "arrowcolor": "green",
          "arrowhead": 3,
          "arrowsize": 1,
          "arrowwidth": 1.5,
          "ax": 1.5,
          "axref": "x",
          "ay": -4.5,
          "ayref": "y",
          "showarrow": true,
          "x": 3,
          "xref": "x",
          "y": -4.5,
          "yref": "y"
         },
         {
          "arrowcolor": "green",
          "arrowhead": 3,
          "arrowsize": 1,
          "arrowwidth": 1.5,
          "ax": 1.5,
          "axref": "x",
          "ay": -4.5,
          "ayref": "y",
          "showarrow": true,
          "x": 1.5,
          "xref": "x",
          "y": -4.5,
          "yref": "y"
         },
         {
          "arrowcolor": "green",
          "arrowhead": 3,
          "arrowsize": 1,
          "arrowwidth": 1.5,
          "ax": 0,
          "axref": "x",
          "ay": -4.5,
          "ayref": "y",
          "showarrow": true,
          "x": 0,
          "xref": "x",
          "y": -4.5,
          "yref": "y"
         }
        ],
        "font": {
         "size": 12
        },
        "hovermode": "closest",
        "margin": {
         "b": 10,
         "l": 10,
         "r": 10,
         "t": 40
        },
        "plot_bgcolor": "white",
        "showlegend": false,
        "template": {
         "data": {
          "bar": [
           {
            "error_x": {
             "color": "#2a3f5f"
            },
            "error_y": {
             "color": "#2a3f5f"
            },
            "marker": {
             "line": {
              "color": "#E5ECF6",
              "width": 0.5
             },
             "pattern": {
              "fillmode": "overlay",
              "size": 10,
              "solidity": 0.2
             }
            },
            "type": "bar"
           }
          ],
          "barpolar": [
           {
            "marker": {
             "line": {
              "color": "#E5ECF6",
              "width": 0.5
             },
             "pattern": {
              "fillmode": "overlay",
              "size": 10,
              "solidity": 0.2
             }
            },
            "type": "barpolar"
           }
          ],
          "carpet": [
           {
            "aaxis": {
             "endlinecolor": "#2a3f5f",
             "gridcolor": "white",
             "linecolor": "white",
             "minorgridcolor": "white",
             "startlinecolor": "#2a3f5f"
            },
            "baxis": {
             "endlinecolor": "#2a3f5f",
             "gridcolor": "white",
             "linecolor": "white",
             "minorgridcolor": "white",
             "startlinecolor": "#2a3f5f"
            },
            "type": "carpet"
           }
          ],
          "choropleth": [
           {
            "colorbar": {
             "outlinewidth": 0,
             "ticks": ""
            },
            "type": "choropleth"
           }
          ],
          "contour": [
           {
            "colorbar": {
             "outlinewidth": 0,
             "ticks": ""
            },
            "colorscale": [
             [
              0,
              "#0d0887"
             ],
             [
              0.1111111111111111,
              "#46039f"
             ],
             [
              0.2222222222222222,
              "#7201a8"
             ],
             [
              0.3333333333333333,
              "#9c179e"
             ],
             [
              0.4444444444444444,
              "#bd3786"
             ],
             [
              0.5555555555555556,
              "#d8576b"
             ],
             [
              0.6666666666666666,
              "#ed7953"
             ],
             [
              0.7777777777777778,
              "#fb9f3a"
             ],
             [
              0.8888888888888888,
              "#fdca26"
             ],
             [
              1,
              "#f0f921"
             ]
            ],
            "type": "contour"
           }
          ],
          "contourcarpet": [
           {
            "colorbar": {
             "outlinewidth": 0,
             "ticks": ""
            },
            "type": "contourcarpet"
           }
          ],
          "heatmap": [
           {
            "colorbar": {
             "outlinewidth": 0,
             "ticks": ""
            },
            "colorscale": [
             [
              0,
              "#0d0887"
             ],
             [
              0.1111111111111111,
              "#46039f"
             ],
             [
              0.2222222222222222,
              "#7201a8"
             ],
             [
              0.3333333333333333,
              "#9c179e"
             ],
             [
              0.4444444444444444,
              "#bd3786"
             ],
             [
              0.5555555555555556,
              "#d8576b"
             ],
             [
              0.6666666666666666,
              "#ed7953"
             ],
             [
              0.7777777777777778,
              "#fb9f3a"
             ],
             [
              0.8888888888888888,
              "#fdca26"
             ],
             [
              1,
              "#f0f921"
             ]
            ],
            "type": "heatmap"
           }
          ],
          "histogram": [
           {
            "marker": {
             "pattern": {
              "fillmode": "overlay",
              "size": 10,
              "solidity": 0.2
             }
            },
            "type": "histogram"
           }
          ],
          "histogram2d": [
           {
            "colorbar": {
             "outlinewidth": 0,
             "ticks": ""
            },
            "colorscale": [
             [
              0,
              "#0d0887"
             ],
             [
              0.1111111111111111,
              "#46039f"
             ],
             [
              0.2222222222222222,
              "#7201a8"
             ],
             [
              0.3333333333333333,
              "#9c179e"
             ],
             [
              0.4444444444444444,
              "#bd3786"
             ],
             [
              0.5555555555555556,
              "#d8576b"
             ],
             [
              0.6666666666666666,
              "#ed7953"
             ],
             [
              0.7777777777777778,
              "#fb9f3a"
             ],
             [
              0.8888888888888888,
              "#fdca26"
             ],
             [
              1,
              "#f0f921"
             ]
            ],
            "type": "histogram2d"
           }
          ],
          "histogram2dcontour": [
           {
            "colorbar": {
             "outlinewidth": 0,
             "ticks": ""
            },
            "colorscale": [
             [
              0,
              "#0d0887"
             ],
             [
              0.1111111111111111,
              "#46039f"
             ],
             [
              0.2222222222222222,
              "#7201a8"
             ],
             [
              0.3333333333333333,
              "#9c179e"
             ],
             [
              0.4444444444444444,
              "#bd3786"
             ],
             [
              0.5555555555555556,
              "#d8576b"
             ],
             [
              0.6666666666666666,
              "#ed7953"
             ],
             [
              0.7777777777777778,
              "#fb9f3a"
             ],
             [
              0.8888888888888888,
              "#fdca26"
             ],
             [
              1,
              "#f0f921"
             ]
            ],
            "type": "histogram2dcontour"
           }
          ],
          "mesh3d": [
           {
            "colorbar": {
             "outlinewidth": 0,
             "ticks": ""
            },
            "type": "mesh3d"
           }
          ],
          "parcoords": [
           {
            "line": {
             "colorbar": {
              "outlinewidth": 0,
              "ticks": ""
             }
            },
            "type": "parcoords"
           }
          ],
          "pie": [
           {
            "automargin": true,
            "type": "pie"
           }
          ],
          "scatter": [
           {
            "fillpattern": {
             "fillmode": "overlay",
             "size": 10,
             "solidity": 0.2
            },
            "type": "scatter"
           }
          ],
          "scatter3d": [
           {
            "line": {
             "colorbar": {
              "outlinewidth": 0,
              "ticks": ""
             }
            },
            "marker": {
             "colorbar": {
              "outlinewidth": 0,
              "ticks": ""
             }
            },
            "type": "scatter3d"
           }
          ],
          "scattercarpet": [
           {
            "marker": {
             "colorbar": {
              "outlinewidth": 0,
              "ticks": ""
             }
            },
            "type": "scattercarpet"
           }
          ],
          "scattergeo": [
           {
            "marker": {
             "colorbar": {
              "outlinewidth": 0,
              "ticks": ""
             }
            },
            "type": "scattergeo"
           }
          ],
          "scattergl": [
           {
            "marker": {
             "colorbar": {
              "outlinewidth": 0,
              "ticks": ""
             }
            },
            "type": "scattergl"
           }
          ],
          "scattermap": [
           {
            "marker": {
             "colorbar": {
              "outlinewidth": 0,
              "ticks": ""
             }
            },
            "type": "scattermap"
           }
          ],
          "scattermapbox": [
           {
            "marker": {
             "colorbar": {
              "outlinewidth": 0,
              "ticks": ""
             }
            },
            "type": "scattermapbox"
           }
          ],
          "scatterpolar": [
           {
            "marker": {
             "colorbar": {
              "outlinewidth": 0,
              "ticks": ""
             }
            },
            "type": "scatterpolar"
           }
          ],
          "scatterpolargl": [
           {
            "marker": {
             "colorbar": {
              "outlinewidth": 0,
              "ticks": ""
             }
            },
            "type": "scatterpolargl"
           }
          ],
          "scatterternary": [
           {
            "marker": {
             "colorbar": {
              "outlinewidth": 0,
              "ticks": ""
             }
            },
            "type": "scatterternary"
           }
          ],
          "surface": [
           {
            "colorbar": {
             "outlinewidth": 0,
             "ticks": ""
            },
            "colorscale": [
             [
              0,
              "#0d0887"
             ],
             [
              0.1111111111111111,
              "#46039f"
             ],
             [
              0.2222222222222222,
              "#7201a8"
             ],
             [
              0.3333333333333333,
              "#9c179e"
             ],
             [
              0.4444444444444444,
              "#bd3786"
             ],
             [
              0.5555555555555556,
              "#d8576b"
             ],
             [
              0.6666666666666666,
              "#ed7953"
             ],
             [
              0.7777777777777778,
              "#fb9f3a"
             ],
             [
              0.8888888888888888,
              "#fdca26"
             ],
             [
              1,
              "#f0f921"
             ]
            ],
            "type": "surface"
           }
          ],
          "table": [
           {
            "cells": {
             "fill": {
              "color": "#EBF0F8"
             },
             "line": {
              "color": "white"
             }
            },
            "header": {
             "fill": {
              "color": "#C8D4E3"
             },
             "line": {
              "color": "white"
             }
            },
            "type": "table"
           }
          ]
         },
         "layout": {
          "annotationdefaults": {
           "arrowcolor": "#2a3f5f",
           "arrowhead": 0,
           "arrowwidth": 1
          },
          "autotypenumbers": "strict",
          "coloraxis": {
           "colorbar": {
            "outlinewidth": 0,
            "ticks": ""
           }
          },
          "colorscale": {
           "diverging": [
            [
             0,
             "#8e0152"
            ],
            [
             0.1,
             "#c51b7d"
            ],
            [
             0.2,
             "#de77ae"
            ],
            [
             0.3,
             "#f1b6da"
            ],
            [
             0.4,
             "#fde0ef"
            ],
            [
             0.5,
             "#f7f7f7"
            ],
            [
             0.6,
             "#e6f5d0"
            ],
            [
             0.7,
             "#b8e186"
            ],
            [
             0.8,
             "#7fbc41"
            ],
            [
             0.9,
             "#4d9221"
            ],
            [
             1,
             "#276419"
            ]
           ],
           "sequential": [
            [
             0,
             "#0d0887"
            ],
            [
             0.1111111111111111,
             "#46039f"
            ],
            [
             0.2222222222222222,
             "#7201a8"
            ],
            [
             0.3333333333333333,
             "#9c179e"
            ],
            [
             0.4444444444444444,
             "#bd3786"
            ],
            [
             0.5555555555555556,
             "#d8576b"
            ],
            [
             0.6666666666666666,
             "#ed7953"
            ],
            [
             0.7777777777777778,
             "#fb9f3a"
            ],
            [
             0.8888888888888888,
             "#fdca26"
            ],
            [
             1,
             "#f0f921"
            ]
           ],
           "sequentialminus": [
            [
             0,
             "#0d0887"
            ],
            [
             0.1111111111111111,
             "#46039f"
            ],
            [
             0.2222222222222222,
             "#7201a8"
            ],
            [
             0.3333333333333333,
             "#9c179e"
            ],
            [
             0.4444444444444444,
             "#bd3786"
            ],
            [
             0.5555555555555556,
             "#d8576b"
            ],
            [
             0.6666666666666666,
             "#ed7953"
            ],
            [
             0.7777777777777778,
             "#fb9f3a"
            ],
            [
             0.8888888888888888,
             "#fdca26"
            ],
            [
             1,
             "#f0f921"
            ]
           ]
          },
          "colorway": [
           "#636efa",
           "#EF553B",
           "#00cc96",
           "#ab63fa",
           "#FFA15A",
           "#19d3f3",
           "#FF6692",
           "#B6E880",
           "#FF97FF",
           "#FECB52"
          ],
          "font": {
           "color": "#2a3f5f"
          },
          "geo": {
           "bgcolor": "white",
           "lakecolor": "white",
           "landcolor": "#E5ECF6",
           "showlakes": true,
           "showland": true,
           "subunitcolor": "white"
          },
          "hoverlabel": {
           "align": "left"
          },
          "hovermode": "closest",
          "mapbox": {
           "style": "light"
          },
          "paper_bgcolor": "white",
          "plot_bgcolor": "#E5ECF6",
          "polar": {
           "angularaxis": {
            "gridcolor": "white",
            "linecolor": "white",
            "ticks": ""
           },
           "bgcolor": "#E5ECF6",
           "radialaxis": {
            "gridcolor": "white",
            "linecolor": "white",
            "ticks": ""
           }
          },
          "scene": {
           "xaxis": {
            "backgroundcolor": "#E5ECF6",
            "gridcolor": "white",
            "gridwidth": 2,
            "linecolor": "white",
            "showbackground": true,
            "ticks": "",
            "zerolinecolor": "white"
           },
           "yaxis": {
            "backgroundcolor": "#E5ECF6",
            "gridcolor": "white",
            "gridwidth": 2,
            "linecolor": "white",
            "showbackground": true,
            "ticks": "",
            "zerolinecolor": "white"
           },
           "zaxis": {
            "backgroundcolor": "#E5ECF6",
            "gridcolor": "white",
            "gridwidth": 2,
            "linecolor": "white",
            "showbackground": true,
            "ticks": "",
            "zerolinecolor": "white"
           }
          },
          "shapedefaults": {
           "line": {
            "color": "#2a3f5f"
           }
          },
          "ternary": {
           "aaxis": {
            "gridcolor": "white",
            "linecolor": "white",
            "ticks": ""
           },
           "baxis": {
            "gridcolor": "white",
            "linecolor": "white",
            "ticks": ""
           },
           "bgcolor": "#E5ECF6",
           "caxis": {
            "gridcolor": "white",
            "linecolor": "white",
            "ticks": ""
           }
          },
          "title": {
           "x": 0.05
          },
          "xaxis": {
           "automargin": true,
           "gridcolor": "white",
           "linecolor": "white",
           "ticks": "",
           "title": {
            "standoff": 15
           },
           "zerolinecolor": "white",
           "zerolinewidth": 2
          },
          "yaxis": {
           "automargin": true,
           "gridcolor": "white",
           "linecolor": "white",
           "ticks": "",
           "title": {
            "standoff": 15
           },
           "zerolinecolor": "white",
           "zerolinewidth": 2
          }
         }
        },
        "title": {
         "text": "PVAR Network Graph"
        },
        "xaxis": {
         "showgrid": false,
         "showticklabels": false,
         "zeroline": false
        },
        "yaxis": {
         "showgrid": false,
         "showticklabels": false,
         "zeroline": false
        }
       }
      }
     },
     "metadata": {},
     "output_type": "display_data"
    },
    {
     "data": {
      "application/vnd.plotly.v1+json": {
       "config": {
        "plotlyServerURL": "https://plot.ly"
       },
       "data": [
        {
         "hoverinfo": "text",
         "line": {
          "color": "green",
          "width": 1
         },
         "mode": "lines",
         "text": [
          "cc4_world → cc4_world<br>β = 0.51",
          "cc4_world → cc4_poorUS<br>β = 0.23",
          "cc4_world → cc4_comm<br>β = 0.10",
          "cc4_world → cc_pol_tax<br>β = 0.18",
          "cc4_world → cc_pol_car<br>β = 0.15",
          "cc4_poorUS → cc4_world<br>β = 0.07",
          "cc4_poorUS → cc4_poorUS<br>β = 0.26",
          "cc4_poorUS → cc_pol_car<br>β = 0.10",
          "cc4_famheal → cc4_world<br>β = 0.07",
          "cc4_famheal → cc4_poorUS<br>β = 0.11",
          "cc4_famheal → cc4_comm<br>β = 0.10",
          "cc4_famheal → cc4_famheal<br>β = 0.26",
          "cc_pol_tax → cc4_world<br>β = 0.09",
          "cc_pol_tax → cc4_wealthUS<br>β = 0.10",
          "cc_pol_tax → cc4_famheal<br>β = 0.09",
          "cc_pol_tax → cc4_famecon<br>β = 0.06",
          "cc_pol_tax → ccSolve<br>β = 0.11",
          "cc_pol_tax → cc_pol_tax<br>β = 0.35",
          "cc_pol_tax → cc_pol_car<br>β = 0.10",
          "cc_pol_car → cc4_world<br>β = 0.10",
          "cc_pol_car → cc4_poorUS<br>β = 0.11",
          "cc_pol_car → cc4_comm<br>β = 0.08",
          "cc_pol_car → cc_pol_tax<br>β = 0.14",
          "cc_pol_car → cc_pol_car<br>β = 0.43",
          "pol_score → pol_score<br>β = 0.89",
          "pol_ideology → cc4_world<br>β = 0.07",
          "pol_ideology → cc4_poorUS<br>β = 0.10",
          "pol_ideology → cc4_comm<br>β = 0.07",
          "pol_ideology → cc_pol_car<br>β = 0.06",
          "pol_ideology → pol_ideology<br>β = 0.81",
          "cc4_wealthUS → cc4_wealthUS<br>β = 0.26",
          "cc4_comm → cc4_wealthUS<br>β = 0.19",
          "cc4_comm → cc4_poorUS<br>β = 0.11",
          "cc4_comm → cc4_comm<br>β = 0.37",
          "cc4_comm → cc4_famheal<br>β = 0.23",
          "cc4_comm → cc4_famecon<br>β = 0.20",
          "dem_income_binary → dem_income_binary<br>β = 0.93",
          "dem_age → cc4_wealthUS<br>β = 0.00",
          "dem_age → dem_age<br>β = 0.98",
          "cc4_famecon → cc4_famheal<br>β = 0.09",
          "cc4_famecon → cc4_famecon<br>β = 0.35",
          "ccSolve → ccSolve<br>β = 0.05",
          "ccSolve → cc_pol_tax<br>β = 0.09",
          "dem_educ_binary → cc_pol_tax<br>β = 0.18",
          "dem_educ_binary → dem_income_binary<br>β = 0.04",
          "dem_educ_binary → dem_educ_binary<br>β = 0.97",
          "dem_male_binary → dem_male_binary<br>β = 0.98"
         ],
         "type": "scatter",
         "x": [
          4.5,
          4.5,
          null,
          4.5,
          3,
          null,
          4.5,
          0,
          null,
          4.5,
          0,
          null,
          4.5,
          1.5,
          null,
          3,
          4.5,
          null,
          3,
          3,
          null,
          3,
          1.5,
          null,
          6,
          4.5,
          null,
          6,
          3,
          null,
          6,
          0,
          null,
          6,
          6,
          null,
          0,
          4.5,
          null,
          0,
          1.5,
          null,
          0,
          6,
          null,
          0,
          7.5,
          null,
          0,
          3,
          null,
          0,
          0,
          null,
          0,
          1.5,
          null,
          1.5,
          4.5,
          null,
          1.5,
          3,
          null,
          1.5,
          0,
          null,
          1.5,
          0,
          null,
          1.5,
          1.5,
          null,
          0,
          0,
          null,
          1.5,
          4.5,
          null,
          1.5,
          3,
          null,
          1.5,
          0,
          null,
          1.5,
          1.5,
          null,
          1.5,
          1.5,
          null,
          1.5,
          1.5,
          null,
          0,
          1.5,
          null,
          0,
          3,
          null,
          0,
          0,
          null,
          0,
          6,
          null,
          0,
          7.5,
          null,
          3,
          3,
          null,
          4.5,
          1.5,
          null,
          4.5,
          4.5,
          null,
          7.5,
          6,
          null,
          7.5,
          7.5,
          null,
          3,
          3,
          null,
          3,
          0,
          null,
          1.5,
          0,
          null,
          1.5,
          3,
          null,
          1.5,
          1.5,
          null,
          0,
          0,
          null
         ],
         "y": [
          0,
          0,
          null,
          0,
          0,
          null,
          0,
          0,
          null,
          0,
          -3,
          null,
          0,
          -3,
          null,
          0,
          0,
          null,
          0,
          0,
          null,
          0,
          -3,
          null,
          0,
          0,
          null,
          0,
          0,
          null,
          0,
          0,
          null,
          0,
          0,
          null,
          -3,
          0,
          null,
          -3,
          0,
          null,
          -3,
          0,
          null,
          -3,
          0,
          null,
          -3,
          -3,
          null,
          -3,
          -3,
          null,
          -3,
          -3,
          null,
          -3,
          0,
          null,
          -3,
          0,
          null,
          -3,
          0,
          null,
          -3,
          -3,
          null,
          -3,
          -3,
          null,
          -1.5,
          -1.5,
          null,
          -1.5,
          0,
          null,
          -1.5,
          0,
          null,
          -1.5,
          0,
          null,
          -1.5,
          -3,
          null,
          -1.5,
          -1.5,
          null,
          0,
          0,
          null,
          0,
          0,
          null,
          0,
          0,
          null,
          0,
          0,
          null,
          0,
          0,
          null,
          0,
          0,
          null,
          -4.5,
          -4.5,
          null,
          -4.5,
          0,
          null,
          -4.5,
          -4.5,
          null,
          0,
          0,
          null,
          0,
          0,
          null,
          -3,
          -3,
          null,
          -3,
          -3,
          null,
          -4.5,
          -3,
          null,
          -4.5,
          -4.5,
          null,
          -4.5,
          -4.5,
          null,
          -4.5,
          -4.5,
          null
         ]
        },
        {
         "hoverinfo": "text",
         "hovertext": [
          "<b>world</b><br>← from: world, poorUS, famheal, pol_tax, pol_car, pol_score, pol_ideology<br>→ to: world, poorUS, comm, pol_tax, pol_car",
          "<b>poorUS</b><br>← from: world, poorUS, comm, famheal, pol_car, pol_score, pol_ideology<br>→ to: world, poorUS, pol_car",
          "<b>famheal</b><br>← from: comm, famheal, famecon, pol_tax<br>→ to: world, poorUS, comm, famheal",
          "<b>pol_tax</b><br>← from: world, ccSolve, pol_tax, pol_car, dem_educ_binary, pol_score<br>→ to: world, wealthUS, famheal, famecon, ccSolve, pol_tax, pol_car, pol_score",
          "<b>pol_car</b><br>← from: world, wealthUS, poorUS, pol_tax, pol_car, pol_score, pol_ideology<br>→ to: world, poorUS, comm, pol_tax, pol_car",
          "<b>pol_score</b><br>← from: pol_tax, pol_score, pol_ideology<br>→ to: world, wealthUS, poorUS, comm, pol_tax, pol_car, pol_score, pol_ideology",
          "<b>pol_ideology</b><br>← from: ccSolve, pol_score, pol_ideology<br>→ to: world, poorUS, comm, pol_car, pol_score, pol_ideology",
          "<b>wealthUS</b><br>← from: wealthUS, comm, pol_tax, dem_income_binary, dem_age, pol_score<br>→ to: wealthUS, pol_car",
          "<b>comm</b><br>← from: world, comm, famheal, pol_car, pol_score, pol_ideology<br>→ to: wealthUS, poorUS, comm, famheal, famecon",
          "<b>dem_income_binary</b><br>← from: dem_income_binary, dem_educ_binary<br>→ to: wealthUS, dem_income_binary",
          "<b>dem_age</b><br>← from: dem_age<br>→ to: wealthUS, famecon, dem_age",
          "<b>famecon</b><br>← from: comm, famecon, pol_tax, dem_age<br>→ to: famheal, famecon",
          "<b>ccSolve</b><br>← from: ccSolve, pol_tax<br>→ to: ccSolve, pol_tax, pol_ideology",
          "<b>dem_educ_binary</b><br>← from: dem_educ_binary<br>→ to: pol_tax, dem_income_binary, dem_educ_binary",
          "<b>dem_male_binary</b><br>← from: dem_male_binary<br>→ to: dem_male_binary"
         ],
         "marker": {
          "color": [
           "lightblue",
           "lightblue",
           "lightblue",
           "lightgreen",
           "lightgreen",
           "violet",
           "violet",
           "lightblue",
           "lightblue",
           "orange",
           "orange",
           "lightblue",
           "lightgreen",
           "orange",
           "orange"
          ],
          "line": {
           "color": "black",
           "width": 2
          },
          "size": 20
         },
         "mode": "markers+text",
         "text": [
          "world",
          "poorUS",
          "famheal",
          "pol_tax",
          "pol_car",
          "pol_score",
          "pol_ideology",
          "wealthUS",
          "comm",
          "dem_income_binary",
          "dem_age",
          "famecon",
          "ccSolve",
          "dem_educ_binary",
          "dem_male_binary"
         ],
         "textposition": "top center",
         "type": "scatter",
         "x": [
          4.5,
          3,
          6,
          0,
          1.5,
          0,
          1.5,
          1.5,
          0,
          3,
          4.5,
          7.5,
          3,
          1.5,
          0
         ],
         "y": [
          0,
          0,
          0,
          -3,
          -3,
          -1.5,
          -1.5,
          0,
          0,
          -4.5,
          -4.5,
          0,
          -3,
          -4.5,
          -4.5
         ]
        },
        {
         "marker": {
          "color": "lightblue",
          "size": 15
         },
         "mode": "markers",
         "name": "Climate Harm",
         "type": "scatter",
         "x": [
          null
         ],
         "y": [
          null
         ]
        },
        {
         "marker": {
          "color": "lightgreen",
          "size": 15
         },
         "mode": "markers",
         "name": "Policy Support",
         "type": "scatter",
         "x": [
          null
         ],
         "y": [
          null
         ]
        },
        {
         "marker": {
          "color": "orange",
          "size": 15
         },
         "mode": "markers",
         "name": "Demographics",
         "type": "scatter",
         "x": [
          null
         ],
         "y": [
          null
         ]
        },
        {
         "marker": {
          "color": "violet",
          "size": 15
         },
         "mode": "markers",
         "name": "Political",
         "type": "scatter",
         "x": [
          null
         ],
         "y": [
          null
         ]
        },
        {
         "line": {
          "color": "green",
          "width": 2
         },
         "mode": "lines",
         "name": "Positive effect",
         "type": "scatter",
         "x": [
          null
         ],
         "y": [
          null
         ]
        }
       ],
       "layout": {
        "annotations": [
         {
          "arrowcolor": "green",
          "arrowhead": 3,
          "arrowsize": 1,
          "arrowwidth": 1.5,
          "ax": 4.5,
          "axref": "x",
          "ay": 0,
          "ayref": "y",
          "showarrow": true,
          "x": 4.5,
          "xref": "x",
          "y": 0,
          "yref": "y"
         },
         {
          "arrowcolor": "green",
          "arrowhead": 3,
          "arrowsize": 1,
          "arrowwidth": 1.5,
          "ax": 4.5,
          "axref": "x",
          "ay": 0,
          "ayref": "y",
          "showarrow": true,
          "x": 3,
          "xref": "x",
          "y": 0,
          "yref": "y"
         },
         {
          "arrowcolor": "green",
          "arrowhead": 3,
          "arrowsize": 1,
          "arrowwidth": 1.5,
          "ax": 4.5,
          "axref": "x",
          "ay": 0,
          "ayref": "y",
          "showarrow": true,
          "x": 0,
          "xref": "x",
          "y": 0,
          "yref": "y"
         },
         {
          "arrowcolor": "green",
          "arrowhead": 3,
          "arrowsize": 1,
          "arrowwidth": 1.5,
          "ax": 4.5,
          "axref": "x",
          "ay": 0,
          "ayref": "y",
          "showarrow": true,
          "x": 0,
          "xref": "x",
          "y": -3,
          "yref": "y"
         },
         {
          "arrowcolor": "green",
          "arrowhead": 3,
          "arrowsize": 1,
          "arrowwidth": 1.5,
          "ax": 4.5,
          "axref": "x",
          "ay": 0,
          "ayref": "y",
          "showarrow": true,
          "x": 1.5,
          "xref": "x",
          "y": -3,
          "yref": "y"
         },
         {
          "arrowcolor": "green",
          "arrowhead": 3,
          "arrowsize": 1,
          "arrowwidth": 1.5,
          "ax": 3,
          "axref": "x",
          "ay": 0,
          "ayref": "y",
          "showarrow": true,
          "x": 4.5,
          "xref": "x",
          "y": 0,
          "yref": "y"
         },
         {
          "arrowcolor": "green",
          "arrowhead": 3,
          "arrowsize": 1,
          "arrowwidth": 1.5,
          "ax": 3,
          "axref": "x",
          "ay": 0,
          "ayref": "y",
          "showarrow": true,
          "x": 3,
          "xref": "x",
          "y": 0,
          "yref": "y"
         },
         {
          "arrowcolor": "green",
          "arrowhead": 3,
          "arrowsize": 1,
          "arrowwidth": 1.5,
          "ax": 3,
          "axref": "x",
          "ay": 0,
          "ayref": "y",
          "showarrow": true,
          "x": 1.5,
          "xref": "x",
          "y": -3,
          "yref": "y"
         },
         {
          "arrowcolor": "green",
          "arrowhead": 3,
          "arrowsize": 1,
          "arrowwidth": 1.5,
          "ax": 6,
          "axref": "x",
          "ay": 0,
          "ayref": "y",
          "showarrow": true,
          "x": 4.5,
          "xref": "x",
          "y": 0,
          "yref": "y"
         },
         {
          "arrowcolor": "green",
          "arrowhead": 3,
          "arrowsize": 1,
          "arrowwidth": 1.5,
          "ax": 6,
          "axref": "x",
          "ay": 0,
          "ayref": "y",
          "showarrow": true,
          "x": 3,
          "xref": "x",
          "y": 0,
          "yref": "y"
         },
         {
          "arrowcolor": "green",
          "arrowhead": 3,
          "arrowsize": 1,
          "arrowwidth": 1.5,
          "ax": 6,
          "axref": "x",
          "ay": 0,
          "ayref": "y",
          "showarrow": true,
          "x": 0,
          "xref": "x",
          "y": 0,
          "yref": "y"
         },
         {
          "arrowcolor": "green",
          "arrowhead": 3,
          "arrowsize": 1,
          "arrowwidth": 1.5,
          "ax": 6,
          "axref": "x",
          "ay": 0,
          "ayref": "y",
          "showarrow": true,
          "x": 6,
          "xref": "x",
          "y": 0,
          "yref": "y"
         },
         {
          "arrowcolor": "green",
          "arrowhead": 3,
          "arrowsize": 1,
          "arrowwidth": 1.5,
          "ax": 0,
          "axref": "x",
          "ay": -3,
          "ayref": "y",
          "showarrow": true,
          "x": 4.5,
          "xref": "x",
          "y": 0,
          "yref": "y"
         },
         {
          "arrowcolor": "green",
          "arrowhead": 3,
          "arrowsize": 1,
          "arrowwidth": 1.5,
          "ax": 0,
          "axref": "x",
          "ay": -3,
          "ayref": "y",
          "showarrow": true,
          "x": 1.5,
          "xref": "x",
          "y": 0,
          "yref": "y"
         },
         {
          "arrowcolor": "green",
          "arrowhead": 3,
          "arrowsize": 1,
          "arrowwidth": 1.5,
          "ax": 0,
          "axref": "x",
          "ay": -3,
          "ayref": "y",
          "showarrow": true,
          "x": 6,
          "xref": "x",
          "y": 0,
          "yref": "y"
         },
         {
          "arrowcolor": "green",
          "arrowhead": 3,
          "arrowsize": 1,
          "arrowwidth": 1.5,
          "ax": 0,
          "axref": "x",
          "ay": -3,
          "ayref": "y",
          "showarrow": true,
          "x": 7.5,
          "xref": "x",
          "y": 0,
          "yref": "y"
         },
         {
          "arrowcolor": "green",
          "arrowhead": 3,
          "arrowsize": 1,
          "arrowwidth": 1.5,
          "ax": 0,
          "axref": "x",
          "ay": -3,
          "ayref": "y",
          "showarrow": true,
          "x": 3,
          "xref": "x",
          "y": -3,
          "yref": "y"
         },
         {
          "arrowcolor": "green",
          "arrowhead": 3,
          "arrowsize": 1,
          "arrowwidth": 1.5,
          "ax": 0,
          "axref": "x",
          "ay": -3,
          "ayref": "y",
          "showarrow": true,
          "x": 0,
          "xref": "x",
          "y": -3,
          "yref": "y"
         },
         {
          "arrowcolor": "green",
          "arrowhead": 3,
          "arrowsize": 1,
          "arrowwidth": 1.5,
          "ax": 0,
          "axref": "x",
          "ay": -3,
          "ayref": "y",
          "showarrow": true,
          "x": 1.5,
          "xref": "x",
          "y": -3,
          "yref": "y"
         },
         {
          "arrowcolor": "green",
          "arrowhead": 3,
          "arrowsize": 1,
          "arrowwidth": 1.5,
          "ax": 1.5,
          "axref": "x",
          "ay": -3,
          "ayref": "y",
          "showarrow": true,
          "x": 4.5,
          "xref": "x",
          "y": 0,
          "yref": "y"
         },
         {
          "arrowcolor": "green",
          "arrowhead": 3,
          "arrowsize": 1,
          "arrowwidth": 1.5,
          "ax": 1.5,
          "axref": "x",
          "ay": -3,
          "ayref": "y",
          "showarrow": true,
          "x": 3,
          "xref": "x",
          "y": 0,
          "yref": "y"
         },
         {
          "arrowcolor": "green",
          "arrowhead": 3,
          "arrowsize": 1,
          "arrowwidth": 1.5,
          "ax": 1.5,
          "axref": "x",
          "ay": -3,
          "ayref": "y",
          "showarrow": true,
          "x": 0,
          "xref": "x",
          "y": 0,
          "yref": "y"
         },
         {
          "arrowcolor": "green",
          "arrowhead": 3,
          "arrowsize": 1,
          "arrowwidth": 1.5,
          "ax": 1.5,
          "axref": "x",
          "ay": -3,
          "ayref": "y",
          "showarrow": true,
          "x": 0,
          "xref": "x",
          "y": -3,
          "yref": "y"
         },
         {
          "arrowcolor": "green",
          "arrowhead": 3,
          "arrowsize": 1,
          "arrowwidth": 1.5,
          "ax": 1.5,
          "axref": "x",
          "ay": -3,
          "ayref": "y",
          "showarrow": true,
          "x": 1.5,
          "xref": "x",
          "y": -3,
          "yref": "y"
         },
         {
          "arrowcolor": "green",
          "arrowhead": 3,
          "arrowsize": 1,
          "arrowwidth": 1.5,
          "ax": 0,
          "axref": "x",
          "ay": -1.5,
          "ayref": "y",
          "showarrow": true,
          "x": 0,
          "xref": "x",
          "y": -1.5,
          "yref": "y"
         },
         {
          "arrowcolor": "green",
          "arrowhead": 3,
          "arrowsize": 1,
          "arrowwidth": 1.5,
          "ax": 1.5,
          "axref": "x",
          "ay": -1.5,
          "ayref": "y",
          "showarrow": true,
          "x": 4.5,
          "xref": "x",
          "y": 0,
          "yref": "y"
         },
         {
          "arrowcolor": "green",
          "arrowhead": 3,
          "arrowsize": 1,
          "arrowwidth": 1.5,
          "ax": 1.5,
          "axref": "x",
          "ay": -1.5,
          "ayref": "y",
          "showarrow": true,
          "x": 3,
          "xref": "x",
          "y": 0,
          "yref": "y"
         },
         {
          "arrowcolor": "green",
          "arrowhead": 3,
          "arrowsize": 1,
          "arrowwidth": 1.5,
          "ax": 1.5,
          "axref": "x",
          "ay": -1.5,
          "ayref": "y",
          "showarrow": true,
          "x": 0,
          "xref": "x",
          "y": 0,
          "yref": "y"
         },
         {
          "arrowcolor": "green",
          "arrowhead": 3,
          "arrowsize": 1,
          "arrowwidth": 1.5,
          "ax": 1.5,
          "axref": "x",
          "ay": -1.5,
          "ayref": "y",
          "showarrow": true,
          "x": 1.5,
          "xref": "x",
          "y": -3,
          "yref": "y"
         },
         {
          "arrowcolor": "green",
          "arrowhead": 3,
          "arrowsize": 1,
          "arrowwidth": 1.5,
          "ax": 1.5,
          "axref": "x",
          "ay": -1.5,
          "ayref": "y",
          "showarrow": true,
          "x": 1.5,
          "xref": "x",
          "y": -1.5,
          "yref": "y"
         },
         {
          "arrowcolor": "green",
          "arrowhead": 3,
          "arrowsize": 1,
          "arrowwidth": 1.5,
          "ax": 1.5,
          "axref": "x",
          "ay": 0,
          "ayref": "y",
          "showarrow": true,
          "x": 1.5,
          "xref": "x",
          "y": 0,
          "yref": "y"
         },
         {
          "arrowcolor": "green",
          "arrowhead": 3,
          "arrowsize": 1,
          "arrowwidth": 1.5,
          "ax": 0,
          "axref": "x",
          "ay": 0,
          "ayref": "y",
          "showarrow": true,
          "x": 1.5,
          "xref": "x",
          "y": 0,
          "yref": "y"
         },
         {
          "arrowcolor": "green",
          "arrowhead": 3,
          "arrowsize": 1,
          "arrowwidth": 1.5,
          "ax": 0,
          "axref": "x",
          "ay": 0,
          "ayref": "y",
          "showarrow": true,
          "x": 3,
          "xref": "x",
          "y": 0,
          "yref": "y"
         },
         {
          "arrowcolor": "green",
          "arrowhead": 3,
          "arrowsize": 1,
          "arrowwidth": 1.5,
          "ax": 0,
          "axref": "x",
          "ay": 0,
          "ayref": "y",
          "showarrow": true,
          "x": 0,
          "xref": "x",
          "y": 0,
          "yref": "y"
         },
         {
          "arrowcolor": "green",
          "arrowhead": 3,
          "arrowsize": 1,
          "arrowwidth": 1.5,
          "ax": 0,
          "axref": "x",
          "ay": 0,
          "ayref": "y",
          "showarrow": true,
          "x": 6,
          "xref": "x",
          "y": 0,
          "yref": "y"
         },
         {
          "arrowcolor": "green",
          "arrowhead": 3,
          "arrowsize": 1,
          "arrowwidth": 1.5,
          "ax": 0,
          "axref": "x",
          "ay": 0,
          "ayref": "y",
          "showarrow": true,
          "x": 7.5,
          "xref": "x",
          "y": 0,
          "yref": "y"
         },
         {
          "arrowcolor": "green",
          "arrowhead": 3,
          "arrowsize": 1,
          "arrowwidth": 1.5,
          "ax": 3,
          "axref": "x",
          "ay": -4.5,
          "ayref": "y",
          "showarrow": true,
          "x": 3,
          "xref": "x",
          "y": -4.5,
          "yref": "y"
         },
         {
          "arrowcolor": "green",
          "arrowhead": 3,
          "arrowsize": 1,
          "arrowwidth": 1.5,
          "ax": 4.5,
          "axref": "x",
          "ay": -4.5,
          "ayref": "y",
          "showarrow": true,
          "x": 1.5,
          "xref": "x",
          "y": 0,
          "yref": "y"
         },
         {
          "arrowcolor": "green",
          "arrowhead": 3,
          "arrowsize": 1,
          "arrowwidth": 1.5,
          "ax": 4.5,
          "axref": "x",
          "ay": -4.5,
          "ayref": "y",
          "showarrow": true,
          "x": 4.5,
          "xref": "x",
          "y": -4.5,
          "yref": "y"
         },
         {
          "arrowcolor": "green",
          "arrowhead": 3,
          "arrowsize": 1,
          "arrowwidth": 1.5,
          "ax": 7.5,
          "axref": "x",
          "ay": 0,
          "ayref": "y",
          "showarrow": true,
          "x": 6,
          "xref": "x",
          "y": 0,
          "yref": "y"
         },
         {
          "arrowcolor": "green",
          "arrowhead": 3,
          "arrowsize": 1,
          "arrowwidth": 1.5,
          "ax": 7.5,
          "axref": "x",
          "ay": 0,
          "ayref": "y",
          "showarrow": true,
          "x": 7.5,
          "xref": "x",
          "y": 0,
          "yref": "y"
         },
         {
          "arrowcolor": "green",
          "arrowhead": 3,
          "arrowsize": 1,
          "arrowwidth": 1.5,
          "ax": 3,
          "axref": "x",
          "ay": -3,
          "ayref": "y",
          "showarrow": true,
          "x": 3,
          "xref": "x",
          "y": -3,
          "yref": "y"
         },
         {
          "arrowcolor": "green",
          "arrowhead": 3,
          "arrowsize": 1,
          "arrowwidth": 1.5,
          "ax": 3,
          "axref": "x",
          "ay": -3,
          "ayref": "y",
          "showarrow": true,
          "x": 0,
          "xref": "x",
          "y": -3,
          "yref": "y"
         },
         {
          "arrowcolor": "green",
          "arrowhead": 3,
          "arrowsize": 1,
          "arrowwidth": 1.5,
          "ax": 1.5,
          "axref": "x",
          "ay": -4.5,
          "ayref": "y",
          "showarrow": true,
          "x": 0,
          "xref": "x",
          "y": -3,
          "yref": "y"
         },
         {
          "arrowcolor": "green",
          "arrowhead": 3,
          "arrowsize": 1,
          "arrowwidth": 1.5,
          "ax": 1.5,
          "axref": "x",
          "ay": -4.5,
          "ayref": "y",
          "showarrow": true,
          "x": 3,
          "xref": "x",
          "y": -4.5,
          "yref": "y"
         },
         {
          "arrowcolor": "green",
          "arrowhead": 3,
          "arrowsize": 1,
          "arrowwidth": 1.5,
          "ax": 1.5,
          "axref": "x",
          "ay": -4.5,
          "ayref": "y",
          "showarrow": true,
          "x": 1.5,
          "xref": "x",
          "y": -4.5,
          "yref": "y"
         },
         {
          "arrowcolor": "green",
          "arrowhead": 3,
          "arrowsize": 1,
          "arrowwidth": 1.5,
          "ax": 0,
          "axref": "x",
          "ay": -4.5,
          "ayref": "y",
          "showarrow": true,
          "x": 0,
          "xref": "x",
          "y": -4.5,
          "yref": "y"
         }
        ],
        "font": {
         "size": 12
        },
        "hovermode": "closest",
        "margin": {
         "b": 10,
         "l": 10,
         "r": 10,
         "t": 40
        },
        "plot_bgcolor": "white",
        "showlegend": false,
        "template": {
         "data": {
          "bar": [
           {
            "error_x": {
             "color": "#2a3f5f"
            },
            "error_y": {
             "color": "#2a3f5f"
            },
            "marker": {
             "line": {
              "color": "#E5ECF6",
              "width": 0.5
             },
             "pattern": {
              "fillmode": "overlay",
              "size": 10,
              "solidity": 0.2
             }
            },
            "type": "bar"
           }
          ],
          "barpolar": [
           {
            "marker": {
             "line": {
              "color": "#E5ECF6",
              "width": 0.5
             },
             "pattern": {
              "fillmode": "overlay",
              "size": 10,
              "solidity": 0.2
             }
            },
            "type": "barpolar"
           }
          ],
          "carpet": [
           {
            "aaxis": {
             "endlinecolor": "#2a3f5f",
             "gridcolor": "white",
             "linecolor": "white",
             "minorgridcolor": "white",
             "startlinecolor": "#2a3f5f"
            },
            "baxis": {
             "endlinecolor": "#2a3f5f",
             "gridcolor": "white",
             "linecolor": "white",
             "minorgridcolor": "white",
             "startlinecolor": "#2a3f5f"
            },
            "type": "carpet"
           }
          ],
          "choropleth": [
           {
            "colorbar": {
             "outlinewidth": 0,
             "ticks": ""
            },
            "type": "choropleth"
           }
          ],
          "contour": [
           {
            "colorbar": {
             "outlinewidth": 0,
             "ticks": ""
            },
            "colorscale": [
             [
              0,
              "#0d0887"
             ],
             [
              0.1111111111111111,
              "#46039f"
             ],
             [
              0.2222222222222222,
              "#7201a8"
             ],
             [
              0.3333333333333333,
              "#9c179e"
             ],
             [
              0.4444444444444444,
              "#bd3786"
             ],
             [
              0.5555555555555556,
              "#d8576b"
             ],
             [
              0.6666666666666666,
              "#ed7953"
             ],
             [
              0.7777777777777778,
              "#fb9f3a"
             ],
             [
              0.8888888888888888,
              "#fdca26"
             ],
             [
              1,
              "#f0f921"
             ]
            ],
            "type": "contour"
           }
          ],
          "contourcarpet": [
           {
            "colorbar": {
             "outlinewidth": 0,
             "ticks": ""
            },
            "type": "contourcarpet"
           }
          ],
          "heatmap": [
           {
            "colorbar": {
             "outlinewidth": 0,
             "ticks": ""
            },
            "colorscale": [
             [
              0,
              "#0d0887"
             ],
             [
              0.1111111111111111,
              "#46039f"
             ],
             [
              0.2222222222222222,
              "#7201a8"
             ],
             [
              0.3333333333333333,
              "#9c179e"
             ],
             [
              0.4444444444444444,
              "#bd3786"
             ],
             [
              0.5555555555555556,
              "#d8576b"
             ],
             [
              0.6666666666666666,
              "#ed7953"
             ],
             [
              0.7777777777777778,
              "#fb9f3a"
             ],
             [
              0.8888888888888888,
              "#fdca26"
             ],
             [
              1,
              "#f0f921"
             ]
            ],
            "type": "heatmap"
           }
          ],
          "histogram": [
           {
            "marker": {
             "pattern": {
              "fillmode": "overlay",
              "size": 10,
              "solidity": 0.2
             }
            },
            "type": "histogram"
           }
          ],
          "histogram2d": [
           {
            "colorbar": {
             "outlinewidth": 0,
             "ticks": ""
            },
            "colorscale": [
             [
              0,
              "#0d0887"
             ],
             [
              0.1111111111111111,
              "#46039f"
             ],
             [
              0.2222222222222222,
              "#7201a8"
             ],
             [
              0.3333333333333333,
              "#9c179e"
             ],
             [
              0.4444444444444444,
              "#bd3786"
             ],
             [
              0.5555555555555556,
              "#d8576b"
             ],
             [
              0.6666666666666666,
              "#ed7953"
             ],
             [
              0.7777777777777778,
              "#fb9f3a"
             ],
             [
              0.8888888888888888,
              "#fdca26"
             ],
             [
              1,
              "#f0f921"
             ]
            ],
            "type": "histogram2d"
           }
          ],
          "histogram2dcontour": [
           {
            "colorbar": {
             "outlinewidth": 0,
             "ticks": ""
            },
            "colorscale": [
             [
              0,
              "#0d0887"
             ],
             [
              0.1111111111111111,
              "#46039f"
             ],
             [
              0.2222222222222222,
              "#7201a8"
             ],
             [
              0.3333333333333333,
              "#9c179e"
             ],
             [
              0.4444444444444444,
              "#bd3786"
             ],
             [
              0.5555555555555556,
              "#d8576b"
             ],
             [
              0.6666666666666666,
              "#ed7953"
             ],
             [
              0.7777777777777778,
              "#fb9f3a"
             ],
             [
              0.8888888888888888,
              "#fdca26"
             ],
             [
              1,
              "#f0f921"
             ]
            ],
            "type": "histogram2dcontour"
           }
          ],
          "mesh3d": [
           {
            "colorbar": {
             "outlinewidth": 0,
             "ticks": ""
            },
            "type": "mesh3d"
           }
          ],
          "parcoords": [
           {
            "line": {
             "colorbar": {
              "outlinewidth": 0,
              "ticks": ""
             }
            },
            "type": "parcoords"
           }
          ],
          "pie": [
           {
            "automargin": true,
            "type": "pie"
           }
          ],
          "scatter": [
           {
            "fillpattern": {
             "fillmode": "overlay",
             "size": 10,
             "solidity": 0.2
            },
            "type": "scatter"
           }
          ],
          "scatter3d": [
           {
            "line": {
             "colorbar": {
              "outlinewidth": 0,
              "ticks": ""
             }
            },
            "marker": {
             "colorbar": {
              "outlinewidth": 0,
              "ticks": ""
             }
            },
            "type": "scatter3d"
           }
          ],
          "scattercarpet": [
           {
            "marker": {
             "colorbar": {
              "outlinewidth": 0,
              "ticks": ""
             }
            },
            "type": "scattercarpet"
           }
          ],
          "scattergeo": [
           {
            "marker": {
             "colorbar": {
              "outlinewidth": 0,
              "ticks": ""
             }
            },
            "type": "scattergeo"
           }
          ],
          "scattergl": [
           {
            "marker": {
             "colorbar": {
              "outlinewidth": 0,
              "ticks": ""
             }
            },
            "type": "scattergl"
           }
          ],
          "scattermap": [
           {
            "marker": {
             "colorbar": {
              "outlinewidth": 0,
              "ticks": ""
             }
            },
            "type": "scattermap"
           }
          ],
          "scattermapbox": [
           {
            "marker": {
             "colorbar": {
              "outlinewidth": 0,
              "ticks": ""
             }
            },
            "type": "scattermapbox"
           }
          ],
          "scatterpolar": [
           {
            "marker": {
             "colorbar": {
              "outlinewidth": 0,
              "ticks": ""
             }
            },
            "type": "scatterpolar"
           }
          ],
          "scatterpolargl": [
           {
            "marker": {
             "colorbar": {
              "outlinewidth": 0,
              "ticks": ""
             }
            },
            "type": "scatterpolargl"
           }
          ],
          "scatterternary": [
           {
            "marker": {
             "colorbar": {
              "outlinewidth": 0,
              "ticks": ""
             }
            },
            "type": "scatterternary"
           }
          ],
          "surface": [
           {
            "colorbar": {
             "outlinewidth": 0,
             "ticks": ""
            },
            "colorscale": [
             [
              0,
              "#0d0887"
             ],
             [
              0.1111111111111111,
              "#46039f"
             ],
             [
              0.2222222222222222,
              "#7201a8"
             ],
             [
              0.3333333333333333,
              "#9c179e"
             ],
             [
              0.4444444444444444,
              "#bd3786"
             ],
             [
              0.5555555555555556,
              "#d8576b"
             ],
             [
              0.6666666666666666,
              "#ed7953"
             ],
             [
              0.7777777777777778,
              "#fb9f3a"
             ],
             [
              0.8888888888888888,
              "#fdca26"
             ],
             [
              1,
              "#f0f921"
             ]
            ],
            "type": "surface"
           }
          ],
          "table": [
           {
            "cells": {
             "fill": {
              "color": "#EBF0F8"
             },
             "line": {
              "color": "white"
             }
            },
            "header": {
             "fill": {
              "color": "#C8D4E3"
             },
             "line": {
              "color": "white"
             }
            },
            "type": "table"
           }
          ]
         },
         "layout": {
          "annotationdefaults": {
           "arrowcolor": "#2a3f5f",
           "arrowhead": 0,
           "arrowwidth": 1
          },
          "autotypenumbers": "strict",
          "coloraxis": {
           "colorbar": {
            "outlinewidth": 0,
            "ticks": ""
           }
          },
          "colorscale": {
           "diverging": [
            [
             0,
             "#8e0152"
            ],
            [
             0.1,
             "#c51b7d"
            ],
            [
             0.2,
             "#de77ae"
            ],
            [
             0.3,
             "#f1b6da"
            ],
            [
             0.4,
             "#fde0ef"
            ],
            [
             0.5,
             "#f7f7f7"
            ],
            [
             0.6,
             "#e6f5d0"
            ],
            [
             0.7,
             "#b8e186"
            ],
            [
             0.8,
             "#7fbc41"
            ],
            [
             0.9,
             "#4d9221"
            ],
            [
             1,
             "#276419"
            ]
           ],
           "sequential": [
            [
             0,
             "#0d0887"
            ],
            [
             0.1111111111111111,
             "#46039f"
            ],
            [
             0.2222222222222222,
             "#7201a8"
            ],
            [
             0.3333333333333333,
             "#9c179e"
            ],
            [
             0.4444444444444444,
             "#bd3786"
            ],
            [
             0.5555555555555556,
             "#d8576b"
            ],
            [
             0.6666666666666666,
             "#ed7953"
            ],
            [
             0.7777777777777778,
             "#fb9f3a"
            ],
            [
             0.8888888888888888,
             "#fdca26"
            ],
            [
             1,
             "#f0f921"
            ]
           ],
           "sequentialminus": [
            [
             0,
             "#0d0887"
            ],
            [
             0.1111111111111111,
             "#46039f"
            ],
            [
             0.2222222222222222,
             "#7201a8"
            ],
            [
             0.3333333333333333,
             "#9c179e"
            ],
            [
             0.4444444444444444,
             "#bd3786"
            ],
            [
             0.5555555555555556,
             "#d8576b"
            ],
            [
             0.6666666666666666,
             "#ed7953"
            ],
            [
             0.7777777777777778,
             "#fb9f3a"
            ],
            [
             0.8888888888888888,
             "#fdca26"
            ],
            [
             1,
             "#f0f921"
            ]
           ]
          },
          "colorway": [
           "#636efa",
           "#EF553B",
           "#00cc96",
           "#ab63fa",
           "#FFA15A",
           "#19d3f3",
           "#FF6692",
           "#B6E880",
           "#FF97FF",
           "#FECB52"
          ],
          "font": {
           "color": "#2a3f5f"
          },
          "geo": {
           "bgcolor": "white",
           "lakecolor": "white",
           "landcolor": "#E5ECF6",
           "showlakes": true,
           "showland": true,
           "subunitcolor": "white"
          },
          "hoverlabel": {
           "align": "left"
          },
          "hovermode": "closest",
          "mapbox": {
           "style": "light"
          },
          "paper_bgcolor": "white",
          "plot_bgcolor": "#E5ECF6",
          "polar": {
           "angularaxis": {
            "gridcolor": "white",
            "linecolor": "white",
            "ticks": ""
           },
           "bgcolor": "#E5ECF6",
           "radialaxis": {
            "gridcolor": "white",
            "linecolor": "white",
            "ticks": ""
           }
          },
          "scene": {
           "xaxis": {
            "backgroundcolor": "#E5ECF6",
            "gridcolor": "white",
            "gridwidth": 2,
            "linecolor": "white",
            "showbackground": true,
            "ticks": "",
            "zerolinecolor": "white"
           },
           "yaxis": {
            "backgroundcolor": "#E5ECF6",
            "gridcolor": "white",
            "gridwidth": 2,
            "linecolor": "white",
            "showbackground": true,
            "ticks": "",
            "zerolinecolor": "white"
           },
           "zaxis": {
            "backgroundcolor": "#E5ECF6",
            "gridcolor": "white",
            "gridwidth": 2,
            "linecolor": "white",
            "showbackground": true,
            "ticks": "",
            "zerolinecolor": "white"
           }
          },
          "shapedefaults": {
           "line": {
            "color": "#2a3f5f"
           }
          },
          "ternary": {
           "aaxis": {
            "gridcolor": "white",
            "linecolor": "white",
            "ticks": ""
           },
           "baxis": {
            "gridcolor": "white",
            "linecolor": "white",
            "ticks": ""
           },
           "bgcolor": "#E5ECF6",
           "caxis": {
            "gridcolor": "white",
            "linecolor": "white",
            "ticks": ""
           }
          },
          "title": {
           "x": 0.05
          },
          "xaxis": {
           "automargin": true,
           "gridcolor": "white",
           "linecolor": "white",
           "ticks": "",
           "title": {
            "standoff": 15
           },
           "zerolinecolor": "white",
           "zerolinewidth": 2
          },
          "yaxis": {
           "automargin": true,
           "gridcolor": "white",
           "linecolor": "white",
           "ticks": "",
           "title": {
            "standoff": 15
           },
           "zerolinecolor": "white",
           "zerolinewidth": 2
          }
         }
        },
        "title": {
         "text": "PVAR Network Graph (Positive Effects Only)"
        },
        "xaxis": {
         "showgrid": false,
         "showticklabels": false,
         "zeroline": false
        },
        "yaxis": {
         "showgrid": false,
         "showticklabels": false,
         "zeroline": false
        }
       }
      }
     },
     "metadata": {},
     "output_type": "display_data"
    },
    {
     "data": {
      "application/vnd.plotly.v1+json": {
       "config": {
        "plotlyServerURL": "https://plot.ly"
       },
       "data": [
        {
         "hoverinfo": "text",
         "line": {
          "color": "red",
          "width": 1
         },
         "mode": "lines",
         "text": [
          "cc_pol_tax → pol_score<br>β = -0.03",
          "pol_score → cc4_world<br>β = -0.04",
          "pol_score → cc4_wealthUS<br>β = -0.04",
          "pol_score → cc4_poorUS<br>β = -0.07",
          "pol_score → cc4_comm<br>β = -0.05",
          "pol_score → cc_pol_tax<br>β = -0.11",
          "pol_score → cc_pol_car<br>β = -0.04",
          "pol_score → pol_ideology<br>β = -0.06",
          "pol_ideology → pol_score<br>β = -0.07",
          "cc4_wealthUS → cc_pol_car<br>β = -0.05",
          "dem_income_binary → cc4_wealthUS<br>β = -0.12",
          "dem_age → cc4_famecon<br>β = -0.00",
          "ccSolve → pol_ideology<br>β = -0.02"
         ],
         "type": "scatter",
         "x": [
          0,
          0,
          null,
          0,
          4.5,
          null,
          0,
          1.5,
          null,
          0,
          3,
          null,
          0,
          0,
          null,
          0,
          0,
          null,
          0,
          1.5,
          null,
          0,
          1.5,
          null,
          1.5,
          0,
          null,
          1.5,
          1.5,
          null,
          3,
          1.5,
          null,
          4.5,
          7.5,
          null,
          3,
          1.5,
          null
         ],
         "y": [
          -3,
          -1.5,
          null,
          -1.5,
          0,
          null,
          -1.5,
          0,
          null,
          -1.5,
          0,
          null,
          -1.5,
          0,
          null,
          -1.5,
          -3,
          null,
          -1.5,
          -3,
          null,
          -1.5,
          -1.5,
          null,
          -1.5,
          -1.5,
          null,
          0,
          -3,
          null,
          -4.5,
          0,
          null,
          -4.5,
          0,
          null,
          -3,
          -1.5,
          null
         ]
        },
        {
         "hoverinfo": "text",
         "hovertext": [
          "<b>world</b><br>← from: world, poorUS, famheal, pol_tax, pol_car, pol_score, pol_ideology<br>→ to: world, poorUS, comm, pol_tax, pol_car",
          "<b>poorUS</b><br>← from: world, poorUS, comm, famheal, pol_car, pol_score, pol_ideology<br>→ to: world, poorUS, pol_car",
          "<b>famheal</b><br>← from: comm, famheal, famecon, pol_tax<br>→ to: world, poorUS, comm, famheal",
          "<b>pol_tax</b><br>← from: world, ccSolve, pol_tax, pol_car, dem_educ_binary, pol_score<br>→ to: world, wealthUS, famheal, famecon, ccSolve, pol_tax, pol_car, pol_score",
          "<b>pol_car</b><br>← from: world, wealthUS, poorUS, pol_tax, pol_car, pol_score, pol_ideology<br>→ to: world, poorUS, comm, pol_tax, pol_car",
          "<b>pol_score</b><br>← from: pol_tax, pol_score, pol_ideology<br>→ to: world, wealthUS, poorUS, comm, pol_tax, pol_car, pol_score, pol_ideology",
          "<b>pol_ideology</b><br>← from: ccSolve, pol_score, pol_ideology<br>→ to: world, poorUS, comm, pol_car, pol_score, pol_ideology",
          "<b>wealthUS</b><br>← from: wealthUS, comm, pol_tax, dem_income_binary, dem_age, pol_score<br>→ to: wealthUS, pol_car",
          "<b>comm</b><br>← from: world, comm, famheal, pol_car, pol_score, pol_ideology<br>→ to: wealthUS, poorUS, comm, famheal, famecon",
          "<b>dem_income_binary</b><br>← from: dem_income_binary, dem_educ_binary<br>→ to: wealthUS, dem_income_binary",
          "<b>dem_age</b><br>← from: dem_age<br>→ to: wealthUS, famecon, dem_age",
          "<b>famecon</b><br>← from: comm, famecon, pol_tax, dem_age<br>→ to: famheal, famecon",
          "<b>ccSolve</b><br>← from: ccSolve, pol_tax<br>→ to: ccSolve, pol_tax, pol_ideology",
          "<b>dem_educ_binary</b><br>← from: dem_educ_binary<br>→ to: pol_tax, dem_income_binary, dem_educ_binary",
          "<b>dem_male_binary</b><br>← from: dem_male_binary<br>→ to: dem_male_binary"
         ],
         "marker": {
          "color": [
           "lightblue",
           "lightblue",
           "lightblue",
           "lightgreen",
           "lightgreen",
           "violet",
           "violet",
           "lightblue",
           "lightblue",
           "orange",
           "orange",
           "lightblue",
           "lightgreen",
           "orange",
           "orange"
          ],
          "line": {
           "color": "black",
           "width": 2
          },
          "size": 20
         },
         "mode": "markers+text",
         "text": [
          "world",
          "poorUS",
          "famheal",
          "pol_tax",
          "pol_car",
          "pol_score",
          "pol_ideology",
          "wealthUS",
          "comm",
          "dem_income_binary",
          "dem_age",
          "famecon",
          "ccSolve",
          "dem_educ_binary",
          "dem_male_binary"
         ],
         "textposition": "top center",
         "type": "scatter",
         "x": [
          4.5,
          3,
          6,
          0,
          1.5,
          0,
          1.5,
          1.5,
          0,
          3,
          4.5,
          7.5,
          3,
          1.5,
          0
         ],
         "y": [
          0,
          0,
          0,
          -3,
          -3,
          -1.5,
          -1.5,
          0,
          0,
          -4.5,
          -4.5,
          0,
          -3,
          -4.5,
          -4.5
         ]
        },
        {
         "marker": {
          "color": "lightblue",
          "size": 15
         },
         "mode": "markers",
         "name": "Climate Harm",
         "type": "scatter",
         "x": [
          null
         ],
         "y": [
          null
         ]
        },
        {
         "marker": {
          "color": "lightgreen",
          "size": 15
         },
         "mode": "markers",
         "name": "Policy Support",
         "type": "scatter",
         "x": [
          null
         ],
         "y": [
          null
         ]
        },
        {
         "marker": {
          "color": "orange",
          "size": 15
         },
         "mode": "markers",
         "name": "Demographics",
         "type": "scatter",
         "x": [
          null
         ],
         "y": [
          null
         ]
        },
        {
         "marker": {
          "color": "violet",
          "size": 15
         },
         "mode": "markers",
         "name": "Political",
         "type": "scatter",
         "x": [
          null
         ],
         "y": [
          null
         ]
        },
        {
         "line": {
          "color": "red",
          "width": 2
         },
         "mode": "lines",
         "name": "Negative effect",
         "type": "scatter",
         "x": [
          null
         ],
         "y": [
          null
         ]
        }
       ],
       "layout": {
        "annotations": [
         {
          "arrowcolor": "red",
          "arrowhead": 3,
          "arrowsize": 1,
          "arrowwidth": 1.5,
          "ax": 0,
          "axref": "x",
          "ay": -3,
          "ayref": "y",
          "showarrow": true,
          "x": 0,
          "xref": "x",
          "y": -1.5,
          "yref": "y"
         },
         {
          "arrowcolor": "red",
          "arrowhead": 3,
          "arrowsize": 1,
          "arrowwidth": 1.5,
          "ax": 0,
          "axref": "x",
          "ay": -1.5,
          "ayref": "y",
          "showarrow": true,
          "x": 4.5,
          "xref": "x",
          "y": 0,
          "yref": "y"
         },
         {
          "arrowcolor": "red",
          "arrowhead": 3,
          "arrowsize": 1,
          "arrowwidth": 1.5,
          "ax": 0,
          "axref": "x",
          "ay": -1.5,
          "ayref": "y",
          "showarrow": true,
          "x": 1.5,
          "xref": "x",
          "y": 0,
          "yref": "y"
         },
         {
          "arrowcolor": "red",
          "arrowhead": 3,
          "arrowsize": 1,
          "arrowwidth": 1.5,
          "ax": 0,
          "axref": "x",
          "ay": -1.5,
          "ayref": "y",
          "showarrow": true,
          "x": 3,
          "xref": "x",
          "y": 0,
          "yref": "y"
         },
         {
          "arrowcolor": "red",
          "arrowhead": 3,
          "arrowsize": 1,
          "arrowwidth": 1.5,
          "ax": 0,
          "axref": "x",
          "ay": -1.5,
          "ayref": "y",
          "showarrow": true,
          "x": 0,
          "xref": "x",
          "y": 0,
          "yref": "y"
         },
         {
          "arrowcolor": "red",
          "arrowhead": 3,
          "arrowsize": 1,
          "arrowwidth": 1.5,
          "ax": 0,
          "axref": "x",
          "ay": -1.5,
          "ayref": "y",
          "showarrow": true,
          "x": 0,
          "xref": "x",
          "y": -3,
          "yref": "y"
         },
         {
          "arrowcolor": "red",
          "arrowhead": 3,
          "arrowsize": 1,
          "arrowwidth": 1.5,
          "ax": 0,
          "axref": "x",
          "ay": -1.5,
          "ayref": "y",
          "showarrow": true,
          "x": 1.5,
          "xref": "x",
          "y": -3,
          "yref": "y"
         },
         {
          "arrowcolor": "red",
          "arrowhead": 3,
          "arrowsize": 1,
          "arrowwidth": 1.5,
          "ax": 0,
          "axref": "x",
          "ay": -1.5,
          "ayref": "y",
          "showarrow": true,
          "x": 1.5,
          "xref": "x",
          "y": -1.5,
          "yref": "y"
         },
         {
          "arrowcolor": "red",
          "arrowhead": 3,
          "arrowsize": 1,
          "arrowwidth": 1.5,
          "ax": 1.5,
          "axref": "x",
          "ay": -1.5,
          "ayref": "y",
          "showarrow": true,
          "x": 0,
          "xref": "x",
          "y": -1.5,
          "yref": "y"
         },
         {
          "arrowcolor": "red",
          "arrowhead": 3,
          "arrowsize": 1,
          "arrowwidth": 1.5,
          "ax": 1.5,
          "axref": "x",
          "ay": 0,
          "ayref": "y",
          "showarrow": true,
          "x": 1.5,
          "xref": "x",
          "y": -3,
          "yref": "y"
         },
         {
          "arrowcolor": "red",
          "arrowhead": 3,
          "arrowsize": 1,
          "arrowwidth": 1.5,
          "ax": 3,
          "axref": "x",
          "ay": -4.5,
          "ayref": "y",
          "showarrow": true,
          "x": 1.5,
          "xref": "x",
          "y": 0,
          "yref": "y"
         },
         {
          "arrowcolor": "red",
          "arrowhead": 3,
          "arrowsize": 1,
          "arrowwidth": 1.5,
          "ax": 4.5,
          "axref": "x",
          "ay": -4.5,
          "ayref": "y",
          "showarrow": true,
          "x": 7.5,
          "xref": "x",
          "y": 0,
          "yref": "y"
         },
         {
          "arrowcolor": "red",
          "arrowhead": 3,
          "arrowsize": 1,
          "arrowwidth": 1.5,
          "ax": 3,
          "axref": "x",
          "ay": -3,
          "ayref": "y",
          "showarrow": true,
          "x": 1.5,
          "xref": "x",
          "y": -1.5,
          "yref": "y"
         }
        ],
        "font": {
         "size": 12
        },
        "hovermode": "closest",
        "margin": {
         "b": 10,
         "l": 10,
         "r": 10,
         "t": 40
        },
        "plot_bgcolor": "white",
        "showlegend": false,
        "template": {
         "data": {
          "bar": [
           {
            "error_x": {
             "color": "#2a3f5f"
            },
            "error_y": {
             "color": "#2a3f5f"
            },
            "marker": {
             "line": {
              "color": "#E5ECF6",
              "width": 0.5
             },
             "pattern": {
              "fillmode": "overlay",
              "size": 10,
              "solidity": 0.2
             }
            },
            "type": "bar"
           }
          ],
          "barpolar": [
           {
            "marker": {
             "line": {
              "color": "#E5ECF6",
              "width": 0.5
             },
             "pattern": {
              "fillmode": "overlay",
              "size": 10,
              "solidity": 0.2
             }
            },
            "type": "barpolar"
           }
          ],
          "carpet": [
           {
            "aaxis": {
             "endlinecolor": "#2a3f5f",
             "gridcolor": "white",
             "linecolor": "white",
             "minorgridcolor": "white",
             "startlinecolor": "#2a3f5f"
            },
            "baxis": {
             "endlinecolor": "#2a3f5f",
             "gridcolor": "white",
             "linecolor": "white",
             "minorgridcolor": "white",
             "startlinecolor": "#2a3f5f"
            },
            "type": "carpet"
           }
          ],
          "choropleth": [
           {
            "colorbar": {
             "outlinewidth": 0,
             "ticks": ""
            },
            "type": "choropleth"
           }
          ],
          "contour": [
           {
            "colorbar": {
             "outlinewidth": 0,
             "ticks": ""
            },
            "colorscale": [
             [
              0,
              "#0d0887"
             ],
             [
              0.1111111111111111,
              "#46039f"
             ],
             [
              0.2222222222222222,
              "#7201a8"
             ],
             [
              0.3333333333333333,
              "#9c179e"
             ],
             [
              0.4444444444444444,
              "#bd3786"
             ],
             [
              0.5555555555555556,
              "#d8576b"
             ],
             [
              0.6666666666666666,
              "#ed7953"
             ],
             [
              0.7777777777777778,
              "#fb9f3a"
             ],
             [
              0.8888888888888888,
              "#fdca26"
             ],
             [
              1,
              "#f0f921"
             ]
            ],
            "type": "contour"
           }
          ],
          "contourcarpet": [
           {
            "colorbar": {
             "outlinewidth": 0,
             "ticks": ""
            },
            "type": "contourcarpet"
           }
          ],
          "heatmap": [
           {
            "colorbar": {
             "outlinewidth": 0,
             "ticks": ""
            },
            "colorscale": [
             [
              0,
              "#0d0887"
             ],
             [
              0.1111111111111111,
              "#46039f"
             ],
             [
              0.2222222222222222,
              "#7201a8"
             ],
             [
              0.3333333333333333,
              "#9c179e"
             ],
             [
              0.4444444444444444,
              "#bd3786"
             ],
             [
              0.5555555555555556,
              "#d8576b"
             ],
             [
              0.6666666666666666,
              "#ed7953"
             ],
             [
              0.7777777777777778,
              "#fb9f3a"
             ],
             [
              0.8888888888888888,
              "#fdca26"
             ],
             [
              1,
              "#f0f921"
             ]
            ],
            "type": "heatmap"
           }
          ],
          "histogram": [
           {
            "marker": {
             "pattern": {
              "fillmode": "overlay",
              "size": 10,
              "solidity": 0.2
             }
            },
            "type": "histogram"
           }
          ],
          "histogram2d": [
           {
            "colorbar": {
             "outlinewidth": 0,
             "ticks": ""
            },
            "colorscale": [
             [
              0,
              "#0d0887"
             ],
             [
              0.1111111111111111,
              "#46039f"
             ],
             [
              0.2222222222222222,
              "#7201a8"
             ],
             [
              0.3333333333333333,
              "#9c179e"
             ],
             [
              0.4444444444444444,
              "#bd3786"
             ],
             [
              0.5555555555555556,
              "#d8576b"
             ],
             [
              0.6666666666666666,
              "#ed7953"
             ],
             [
              0.7777777777777778,
              "#fb9f3a"
             ],
             [
              0.8888888888888888,
              "#fdca26"
             ],
             [
              1,
              "#f0f921"
             ]
            ],
            "type": "histogram2d"
           }
          ],
          "histogram2dcontour": [
           {
            "colorbar": {
             "outlinewidth": 0,
             "ticks": ""
            },
            "colorscale": [
             [
              0,
              "#0d0887"
             ],
             [
              0.1111111111111111,
              "#46039f"
             ],
             [
              0.2222222222222222,
              "#7201a8"
             ],
             [
              0.3333333333333333,
              "#9c179e"
             ],
             [
              0.4444444444444444,
              "#bd3786"
             ],
             [
              0.5555555555555556,
              "#d8576b"
             ],
             [
              0.6666666666666666,
              "#ed7953"
             ],
             [
              0.7777777777777778,
              "#fb9f3a"
             ],
             [
              0.8888888888888888,
              "#fdca26"
             ],
             [
              1,
              "#f0f921"
             ]
            ],
            "type": "histogram2dcontour"
           }
          ],
          "mesh3d": [
           {
            "colorbar": {
             "outlinewidth": 0,
             "ticks": ""
            },
            "type": "mesh3d"
           }
          ],
          "parcoords": [
           {
            "line": {
             "colorbar": {
              "outlinewidth": 0,
              "ticks": ""
             }
            },
            "type": "parcoords"
           }
          ],
          "pie": [
           {
            "automargin": true,
            "type": "pie"
           }
          ],
          "scatter": [
           {
            "fillpattern": {
             "fillmode": "overlay",
             "size": 10,
             "solidity": 0.2
            },
            "type": "scatter"
           }
          ],
          "scatter3d": [
           {
            "line": {
             "colorbar": {
              "outlinewidth": 0,
              "ticks": ""
             }
            },
            "marker": {
             "colorbar": {
              "outlinewidth": 0,
              "ticks": ""
             }
            },
            "type": "scatter3d"
           }
          ],
          "scattercarpet": [
           {
            "marker": {
             "colorbar": {
              "outlinewidth": 0,
              "ticks": ""
             }
            },
            "type": "scattercarpet"
           }
          ],
          "scattergeo": [
           {
            "marker": {
             "colorbar": {
              "outlinewidth": 0,
              "ticks": ""
             }
            },
            "type": "scattergeo"
           }
          ],
          "scattergl": [
           {
            "marker": {
             "colorbar": {
              "outlinewidth": 0,
              "ticks": ""
             }
            },
            "type": "scattergl"
           }
          ],
          "scattermap": [
           {
            "marker": {
             "colorbar": {
              "outlinewidth": 0,
              "ticks": ""
             }
            },
            "type": "scattermap"
           }
          ],
          "scattermapbox": [
           {
            "marker": {
             "colorbar": {
              "outlinewidth": 0,
              "ticks": ""
             }
            },
            "type": "scattermapbox"
           }
          ],
          "scatterpolar": [
           {
            "marker": {
             "colorbar": {
              "outlinewidth": 0,
              "ticks": ""
             }
            },
            "type": "scatterpolar"
           }
          ],
          "scatterpolargl": [
           {
            "marker": {
             "colorbar": {
              "outlinewidth": 0,
              "ticks": ""
             }
            },
            "type": "scatterpolargl"
           }
          ],
          "scatterternary": [
           {
            "marker": {
             "colorbar": {
              "outlinewidth": 0,
              "ticks": ""
             }
            },
            "type": "scatterternary"
           }
          ],
          "surface": [
           {
            "colorbar": {
             "outlinewidth": 0,
             "ticks": ""
            },
            "colorscale": [
             [
              0,
              "#0d0887"
             ],
             [
              0.1111111111111111,
              "#46039f"
             ],
             [
              0.2222222222222222,
              "#7201a8"
             ],
             [
              0.3333333333333333,
              "#9c179e"
             ],
             [
              0.4444444444444444,
              "#bd3786"
             ],
             [
              0.5555555555555556,
              "#d8576b"
             ],
             [
              0.6666666666666666,
              "#ed7953"
             ],
             [
              0.7777777777777778,
              "#fb9f3a"
             ],
             [
              0.8888888888888888,
              "#fdca26"
             ],
             [
              1,
              "#f0f921"
             ]
            ],
            "type": "surface"
           }
          ],
          "table": [
           {
            "cells": {
             "fill": {
              "color": "#EBF0F8"
             },
             "line": {
              "color": "white"
             }
            },
            "header": {
             "fill": {
              "color": "#C8D4E3"
             },
             "line": {
              "color": "white"
             }
            },
            "type": "table"
           }
          ]
         },
         "layout": {
          "annotationdefaults": {
           "arrowcolor": "#2a3f5f",
           "arrowhead": 0,
           "arrowwidth": 1
          },
          "autotypenumbers": "strict",
          "coloraxis": {
           "colorbar": {
            "outlinewidth": 0,
            "ticks": ""
           }
          },
          "colorscale": {
           "diverging": [
            [
             0,
             "#8e0152"
            ],
            [
             0.1,
             "#c51b7d"
            ],
            [
             0.2,
             "#de77ae"
            ],
            [
             0.3,
             "#f1b6da"
            ],
            [
             0.4,
             "#fde0ef"
            ],
            [
             0.5,
             "#f7f7f7"
            ],
            [
             0.6,
             "#e6f5d0"
            ],
            [
             0.7,
             "#b8e186"
            ],
            [
             0.8,
             "#7fbc41"
            ],
            [
             0.9,
             "#4d9221"
            ],
            [
             1,
             "#276419"
            ]
           ],
           "sequential": [
            [
             0,
             "#0d0887"
            ],
            [
             0.1111111111111111,
             "#46039f"
            ],
            [
             0.2222222222222222,
             "#7201a8"
            ],
            [
             0.3333333333333333,
             "#9c179e"
            ],
            [
             0.4444444444444444,
             "#bd3786"
            ],
            [
             0.5555555555555556,
             "#d8576b"
            ],
            [
             0.6666666666666666,
             "#ed7953"
            ],
            [
             0.7777777777777778,
             "#fb9f3a"
            ],
            [
             0.8888888888888888,
             "#fdca26"
            ],
            [
             1,
             "#f0f921"
            ]
           ],
           "sequentialminus": [
            [
             0,
             "#0d0887"
            ],
            [
             0.1111111111111111,
             "#46039f"
            ],
            [
             0.2222222222222222,
             "#7201a8"
            ],
            [
             0.3333333333333333,
             "#9c179e"
            ],
            [
             0.4444444444444444,
             "#bd3786"
            ],
            [
             0.5555555555555556,
             "#d8576b"
            ],
            [
             0.6666666666666666,
             "#ed7953"
            ],
            [
             0.7777777777777778,
             "#fb9f3a"
            ],
            [
             0.8888888888888888,
             "#fdca26"
            ],
            [
             1,
             "#f0f921"
            ]
           ]
          },
          "colorway": [
           "#636efa",
           "#EF553B",
           "#00cc96",
           "#ab63fa",
           "#FFA15A",
           "#19d3f3",
           "#FF6692",
           "#B6E880",
           "#FF97FF",
           "#FECB52"
          ],
          "font": {
           "color": "#2a3f5f"
          },
          "geo": {
           "bgcolor": "white",
           "lakecolor": "white",
           "landcolor": "#E5ECF6",
           "showlakes": true,
           "showland": true,
           "subunitcolor": "white"
          },
          "hoverlabel": {
           "align": "left"
          },
          "hovermode": "closest",
          "mapbox": {
           "style": "light"
          },
          "paper_bgcolor": "white",
          "plot_bgcolor": "#E5ECF6",
          "polar": {
           "angularaxis": {
            "gridcolor": "white",
            "linecolor": "white",
            "ticks": ""
           },
           "bgcolor": "#E5ECF6",
           "radialaxis": {
            "gridcolor": "white",
            "linecolor": "white",
            "ticks": ""
           }
          },
          "scene": {
           "xaxis": {
            "backgroundcolor": "#E5ECF6",
            "gridcolor": "white",
            "gridwidth": 2,
            "linecolor": "white",
            "showbackground": true,
            "ticks": "",
            "zerolinecolor": "white"
           },
           "yaxis": {
            "backgroundcolor": "#E5ECF6",
            "gridcolor": "white",
            "gridwidth": 2,
            "linecolor": "white",
            "showbackground": true,
            "ticks": "",
            "zerolinecolor": "white"
           },
           "zaxis": {
            "backgroundcolor": "#E5ECF6",
            "gridcolor": "white",
            "gridwidth": 2,
            "linecolor": "white",
            "showbackground": true,
            "ticks": "",
            "zerolinecolor": "white"
           }
          },
          "shapedefaults": {
           "line": {
            "color": "#2a3f5f"
           }
          },
          "ternary": {
           "aaxis": {
            "gridcolor": "white",
            "linecolor": "white",
            "ticks": ""
           },
           "baxis": {
            "gridcolor": "white",
            "linecolor": "white",
            "ticks": ""
           },
           "bgcolor": "#E5ECF6",
           "caxis": {
            "gridcolor": "white",
            "linecolor": "white",
            "ticks": ""
           }
          },
          "title": {
           "x": 0.05
          },
          "xaxis": {
           "automargin": true,
           "gridcolor": "white",
           "linecolor": "white",
           "ticks": "",
           "title": {
            "standoff": 15
           },
           "zerolinecolor": "white",
           "zerolinewidth": 2
          },
          "yaxis": {
           "automargin": true,
           "gridcolor": "white",
           "linecolor": "white",
           "ticks": "",
           "title": {
            "standoff": 15
           },
           "zerolinecolor": "white",
           "zerolinewidth": 2
          }
         }
        },
        "title": {
         "text": "PVAR Network Graph (Negative Effects Only)"
        },
        "xaxis": {
         "showgrid": false,
         "showticklabels": false,
         "zeroline": false
        },
        "yaxis": {
         "showgrid": false,
         "showticklabels": false,
         "zeroline": false
        }
       }
      }
     },
     "metadata": {},
     "output_type": "display_data"
    }
   ],
   "source": [
    "import pandas as pd\n",
    "import networkx as nx\n",
    "import plotly.graph_objects as go\n",
    "import statsmodels.api as sm\n",
    "\n",
    "# --- Load data ---\n",
    "data = pd.read_csv(\"../data/5-cleaned_data_3waves.csv\", low_memory=False)\n",
    "\n",
    "# --- Define predictors ---\n",
    "continuous_predictors = [\n",
    "    \"cc4_world\", \"cc4_wealthUS\", \"cc4_poorUS\",\n",
    "    \"cc4_comm\", \"cc4_famheal\", \"cc4_famecon\",\n",
    "    \"ccSolve\", \"cc_pol_tax\", \"cc_pol_car\",\n",
    "    \"dem_income_binary\", \"dem_age\", \"dem_educ_binary\", \"dem_male_binary\",\n",
    "    \"pol_score\", \"pol_ideology\"\n",
    "]\n",
    "wave_dummy = [\"wave3_dummy\"]\n",
    "\n",
    "themes = {\n",
    "    \"climate_harm\": [\"cc4_comm\", \"cc4_wealthUS\", \"cc4_poorUS\", \"cc4_world\", \"cc4_famheal\", \"cc4_famecon\"],\n",
    "    \"political\": [\"pol_score\", \"pol_ideology\", \"wave3_dummy\"],\n",
    "    \"policy_support\": [\"cc_pol_tax\", \"cc_pol_car\", \"ccSolve\"],\n",
    "    \"demographics\": [\"dem_male_binary\", \"dem_educ_binary\", \"dem_income_binary\", \"dem_age\"]\n",
    "}\n",
    "\n",
    "# --- Preprocess data ---\n",
    "data = data.sort_values(by=['PID', 'WAVE'])\n",
    "for var in continuous_predictors:\n",
    "    data[f\"{var}_lag\"] = data.groupby(\"PID\")[var].shift(1)\n",
    "\n",
    "data[\"wave3_dummy\"] = (data[\"WAVE\"] == 3).astype(int)\n",
    "\n",
    "X_vars = [f\"{var}_lag\" for var in continuous_predictors] + wave_dummy\n",
    "Y_vars = continuous_predictors\n",
    "df = data.dropna(subset=X_vars + Y_vars)\n",
    "\n",
    "# --- Build graph from lagged regressions ---\n",
    "G = nx.DiGraph()\n",
    "for y in Y_vars:\n",
    "    X = df[X_vars]\n",
    "    X = sm.add_constant(X)\n",
    "    y_vals = df[y]\n",
    "    model = sm.OLS(y_vals, X).fit()\n",
    "\n",
    "    for predictor, pval in model.pvalues.items():\n",
    "        if predictor in ['const', 'wave3_dummy'] or predictor not in X.columns:\n",
    "            continue  # skip constant and wave3_dummy\n",
    "\n",
    "        if pval < 0.05:\n",
    "            weight = model.params[predictor]\n",
    "            source = predictor.replace(\"_lag\", \"\")\n",
    "            target = y\n",
    "            G.add_edge(source, target, weight=weight)\n",
    "\n",
    "# Current layout (spring or kamada-kawai)\n",
    "# pos = nx.spring_layout(G, seed=42)\n",
    "\n",
    "# # New cleaner top-down layout with pydot\n",
    "# try:\n",
    "#     pos = nx.nx_pydot.pydot_layout(G, prog='dot')  # top-down hierarchical\n",
    "# except Exception as e:\n",
    "#     print(\"Falling back to spring layout:\", e)\n",
    "#     pos = nx.spring_layout(G, seed=42)\n",
    "\n",
    "# --- Override layout to group nodes by theme ---\n",
    "pos = {}\n",
    "x_spacing = 1.5\n",
    "y_spacing = -1.5\n",
    "\n",
    "# Arrange each theme in a separate row\n",
    "for row_idx, (theme, vars_list) in enumerate(themes.items()):\n",
    "    for col_idx, var in enumerate(vars_list):\n",
    "        # Add both current and lagged versions (if they exist in graph)\n",
    "        for suffix in [\"_lag\", \"\"]:\n",
    "            node = var + suffix if suffix else var\n",
    "            if node in G.nodes():\n",
    "                pos[node] = (col_idx * x_spacing, row_idx * y_spacing)\n",
    "\n",
    "edge_x, edge_y, edge_text, annotations = [], [], [], []\n",
    "for u, v in G.edges():\n",
    "    x0, y0 = pos[u]\n",
    "    x1, y1 = pos[v]\n",
    "    edge_x += [x0, x1, None]\n",
    "    edge_y += [y0, y1, None]\n",
    "    beta = G[u][v]['weight']\n",
    "    edge_text.append(f\"{u} → {v}<br>β = {beta:.2f}\")\n",
    "\n",
    "    # Color arrows by sign\n",
    "    color = 'green' if beta > 0 else 'red'\n",
    "    annotations.append(dict(\n",
    "        ax=x0, ay=y0,\n",
    "        x=x1, y=y1,\n",
    "        xref='x', yref='y',\n",
    "        axref='x', ayref='y',\n",
    "        showarrow=True,\n",
    "        arrowhead=3,\n",
    "        arrowsize=1,\n",
    "        arrowwidth=1.5,\n",
    "        arrowcolor=color\n",
    "    ))\n",
    "\n",
    "# Node positions and labels\n",
    "node_x, node_y = zip(*[pos[n] for n in G.nodes()])\n",
    "node_colors = ['lightgray' if n in df.columns and n.endswith('_lag') else 'lightgreen' for n in G.nodes()]\n",
    "node_labels = {n: n.replace(\"cc4_\", \"\").replace(\"cc_\", \"\").replace(\"_lag\", \"(-1)\") for n in G.nodes()}\n",
    "\n",
    "# --- Create plotly traces ---\n",
    "edge_trace = go.Scatter(\n",
    "    x=edge_x, y=edge_y,\n",
    "    line=dict(width=1, color='gray'),\n",
    "    hoverinfo='text',\n",
    "    text=edge_text,\n",
    "    mode='lines'\n",
    ")\n",
    "\n",
    "# Define colors for each theme\n",
    "theme_colors = {\n",
    "    \"climate_harm\": \"lightblue\",\n",
    "    \"policy_support\": \"lightgreen\",\n",
    "    \"demographics\": \"orange\",\n",
    "    \"political\": \"violet\"\n",
    "}\n",
    "\n",
    "# Determine node color based on theme\n",
    "def get_theme_color(node_name):\n",
    "    for theme, vars in themes.items():\n",
    "        if node_name in vars or node_name.replace(\"_lag\", \"\") in vars:\n",
    "            return theme_colors[theme]\n",
    "    return \"lightgray\"  # fallback\n",
    "\n",
    "node_colors = [get_theme_color(n) for n in G.nodes()]\n",
    "\n",
    "# Build enhanced hover text for each node\n",
    "node_x, node_y, node_text, node_hover, node_color = [], [], [], [], []\n",
    "\n",
    "for n in G.nodes():\n",
    "    if n not in pos:\n",
    "        continue\n",
    "    x, y = pos[n]\n",
    "    node_x.append(x)\n",
    "    node_y.append(y)\n",
    "\n",
    "    label = node_labels[n]\n",
    "    node_text.append(label)\n",
    "    color = get_theme_color(n)\n",
    "    node_color.append(color)\n",
    "\n",
    "    # Collect incoming and outgoing edges\n",
    "    incoming = [f\"{node_labels[u]}\" for u, _ in G.in_edges(n)]\n",
    "    outgoing = [f\"{node_labels[v]}\" for _, v in G.out_edges(n)]\n",
    "\n",
    "    hover = f\"<b>{label}</b><br>\"\n",
    "    if incoming:\n",
    "        hover += f\"← from: {', '.join(incoming)}<br>\"\n",
    "    if outgoing:\n",
    "        hover += f\"→ to: {', '.join(outgoing)}\"\n",
    "    if not incoming and not outgoing:\n",
    "        hover += \"(no connections)\"\n",
    "\n",
    "    node_hover.append(hover)\n",
    "\n",
    "# Create node trace\n",
    "node_trace = go.Scatter(\n",
    "    x=node_x, y=node_y,\n",
    "    mode='markers+text',\n",
    "    text=node_text,\n",
    "    textposition='top center',\n",
    "    hoverinfo='text',\n",
    "    hovertext=node_hover,\n",
    "    marker=dict(size=20, color=node_color, line=dict(width=2, color='black'))\n",
    ")\n",
    "\n",
    "# --- Build final figure ---\n",
    "fig = go.Figure(\n",
    "    data=[edge_trace, node_trace],\n",
    "    layout=go.Layout(\n",
    "        title='PVAR Network Graph',\n",
    "        showlegend=False,\n",
    "        margin=dict(l=10, r=10, t=40, b=10),\n",
    "        font=dict(size=12),\n",
    "        annotations=annotations,\n",
    "        hovermode='closest'\n",
    "    )\n",
    ")\n",
    "\n",
    "# Manual legend for themes\n",
    "for theme, color in theme_colors.items():\n",
    "    fig.add_trace(go.Scatter(\n",
    "        x=[None], y=[None],\n",
    "        mode='markers',\n",
    "        marker=dict(size=15, color=color),\n",
    "        name=theme.replace(\"_\", \" \").title()\n",
    "    ))\n",
    "\n",
    "# Add legend\n",
    "fig.add_trace(go.Scatter(x=[None], y=[None],\n",
    "                         mode='lines',\n",
    "                         line=dict(color='green', width=2),\n",
    "                         name='Positive effect'))\n",
    "\n",
    "fig.add_trace(go.Scatter(x=[None], y=[None],\n",
    "                         mode='lines',\n",
    "                         line=dict(color='red', width=2),\n",
    "                         name='Negative effect'))\n",
    "\n",
    "# Hide axes and grid\n",
    "fig.update_layout(\n",
    "    xaxis=dict(showgrid=False, zeroline=False, showticklabels=False),\n",
    "    yaxis=dict(showgrid=False, zeroline=False, showticklabels=False),\n",
    "    plot_bgcolor='white'\n",
    ")\n",
    "\n",
    "fig.show()\n",
    "\n",
    "# --- Separate traces for green and red edges ---\n",
    "def make_colored_figure(color_filter, color_name, color_code):\n",
    "    edge_x, edge_y, edge_text, annotations = [], [], [], []\n",
    "\n",
    "    for u, v in G.edges():\n",
    "        beta = G[u][v]['weight']\n",
    "        if not color_filter(beta):\n",
    "            continue\n",
    "        x0, y0 = pos[u]\n",
    "        x1, y1 = pos[v]\n",
    "        edge_x += [x0, x1, None]\n",
    "        edge_y += [y0, y1, None]\n",
    "        edge_text.append(f\"{u} → {v}<br>β = {beta:.2f}\")\n",
    "        annotations.append(dict(\n",
    "            ax=x0, ay=y0,\n",
    "            x=x1, y=y1,\n",
    "            xref='x', yref='y',\n",
    "            axref='x', ayref='y',\n",
    "            showarrow=True,\n",
    "            arrowhead=3,\n",
    "            arrowsize=1,\n",
    "            arrowwidth=1.5,\n",
    "            arrowcolor=color_code\n",
    "        ))\n",
    "\n",
    "    edge_trace = go.Scatter(\n",
    "        x=edge_x, y=edge_y,\n",
    "        line=dict(width=1, color=color_code),\n",
    "        hoverinfo='text',\n",
    "        text=edge_text,\n",
    "        mode='lines'\n",
    "    )\n",
    "\n",
    "    fig = go.Figure(\n",
    "        data=[edge_trace, node_trace],\n",
    "        layout=go.Layout(\n",
    "            title=f'PVAR Network Graph ({color_name} Effects Only)',\n",
    "            showlegend=False,\n",
    "            margin=dict(l=10, r=10, t=40, b=10),\n",
    "            font=dict(size=12),\n",
    "            annotations=annotations,\n",
    "            hovermode='closest'\n",
    "        )\n",
    "    )\n",
    "\n",
    "    for theme, color in theme_colors.items():\n",
    "        fig.add_trace(go.Scatter(\n",
    "            x=[None], y=[None],\n",
    "            mode='markers',\n",
    "            marker=dict(size=15, color=color),\n",
    "            name=theme.replace(\"_\", \" \").title()\n",
    "        ))\n",
    "\n",
    "    fig.add_trace(go.Scatter(x=[None], y=[None],\n",
    "                             mode='lines',\n",
    "                             line=dict(color=color_code, width=2),\n",
    "                             name=f'{color_name} effect'))\n",
    "\n",
    "    fig.update_layout(\n",
    "        xaxis=dict(showgrid=False, zeroline=False, showticklabels=False),\n",
    "        yaxis=dict(showgrid=False, zeroline=False, showticklabels=False),\n",
    "        plot_bgcolor='white'\n",
    "    )\n",
    "\n",
    "    fig.show()\n",
    "\n",
    "# Plot positive (green) effects\n",
    "make_colored_figure(lambda b: b > 0, \"Positive\", \"green\")\n",
    "\n",
    "# Plot negative (red) effects\n",
    "make_colored_figure(lambda b: b < 0, \"Negative\", \"red\")\n"
   ]
  },
  {
   "cell_type": "code",
   "execution_count": 31,
   "id": "104e0c5f",
   "metadata": {},
   "outputs": [
    {
     "name": "stdout",
     "output_type": "stream",
     "text": [
      "\n",
      "Significant links at α = 0.05:\n",
      "\n",
      "## Significant links at alpha = 0.05:\n",
      "\n",
      "    Variable cc4_world has 0 link(s):\n",
      "\n",
      "    Variable cc4_wealthUS has 0 link(s):\n",
      "\n",
      "    Variable cc4_poorUS has 0 link(s):\n",
      "\n",
      "    Variable cc4_comm has 0 link(s):\n",
      "\n",
      "    Variable cc4_famheal has 0 link(s):\n",
      "\n",
      "    Variable cc4_famecon has 0 link(s):\n",
      "\n",
      "    Variable cc_pol_tax has 0 link(s):\n",
      "\n",
      "    Variable cc_pol_car has 0 link(s):\n",
      "\n",
      "    Variable ccSolve has 0 link(s):\n",
      "\n",
      "    Variable pol_score has 0 link(s):\n",
      "\n",
      "    Variable pol_ideology has 0 link(s):\n"
     ]
    },
    {
     "name": "stderr",
     "output_type": "stream",
     "text": [
      "c:\\Users\\pleivadaros\\Documents\\msc\\msc-thesis\\climate-opinions-shift-elections-policies\\.venv\\Lib\\site-packages\\tigramite\\data_processing.py:308: UserWarning:\n",
      "\n",
      "In analysis mode 'single', 'data'.shape = (3, 11); is it of shape (observations, variables)?\n",
      "\n"
     ]
    }
   ],
   "source": [
    "import pandas as pd\n",
    "import numpy as np\n",
    "from tigramite import data_processing as pp\n",
    "from tigramite.pcmci import PCMCI\n",
    "from tigramite.independence_tests.parcorr import ParCorr\n",
    "\n",
    "# Load your panel data\n",
    "df = pd.read_csv(\"../data/5-cleaned_data_3waves.csv\", low_memory=False)\n",
    "\n",
    "# Select variables you want to include in the causal graph\n",
    "variables = [\n",
    "    \"cc4_world\", \"cc4_wealthUS\", \"cc4_poorUS\", \"cc4_comm\", \"cc4_famheal\", \"cc4_famecon\",\n",
    "    \"cc_pol_tax\", \"cc_pol_car\", \"ccSolve\", \"pol_score\", \"pol_ideology\",\n",
    "]\n",
    "\n",
    "# Aggregate to WAVE-level (mean across PIDs for each variable)\n",
    "agg_df = df.groupby(\"WAVE\")[variables].mean().reset_index()\n",
    "\n",
    "# Convert to Tigramite dataframe (T x N)\n",
    "data_array = agg_df[variables].to_numpy()\n",
    "var_names = list(agg_df[variables].columns)\n",
    "\n",
    "# Prepare Tigramite data object\n",
    "dataframe = pp.DataFrame(data_array, var_names=var_names)\n",
    "\n",
    "# Set up PCMCI with ParCorr\n",
    "pcmci = PCMCI(dataframe=dataframe, cond_ind_test=ParCorr(significance='analytic'))\n",
    "\n",
    "# Run PCMCI with lag=1 (as you asked)\n",
    "results = pcmci.run_pcmci(tau_max=1, pc_alpha=0.05)\n",
    "\n",
    "# Print significant links\n",
    "print(\"\\nSignificant links at α = 0.05:\")\n",
    "pcmci.print_significant_links(p_matrix=results['p_matrix'], \n",
    "                               val_matrix=results['val_matrix'], \n",
    "                               alpha_level=0.05)"
   ]
  },
  {
   "cell_type": "code",
   "execution_count": 32,
   "id": "5242ea36",
   "metadata": {},
   "outputs": [
    {
     "name": "stdout",
     "output_type": "stream",
     "text": [
      "\n",
      "##\n",
      "## Step 1: PC1 algorithm for selecting lagged conditions\n",
      "##\n",
      "\n",
      "Parameters:\n",
      "independence test = par_corr\n",
      "tau_min = 1\n",
      "tau_max = 1\n",
      "pc_alpha = [0.01]\n",
      "max_conds_dim = None\n",
      "max_combinations = 1\n",
      "\n",
      "\n",
      "\n",
      "## Resulting lagged parent (super)sets:\n",
      "\n",
      "    Variable cc4_world has 0 link(s):\n",
      "\n",
      "    Variable cc4_wealthUS has 0 link(s):\n",
      "\n",
      "    Variable cc4_poorUS has 0 link(s):\n",
      "\n",
      "    Variable cc4_comm has 0 link(s):\n",
      "\n",
      "    Variable cc4_famheal has 0 link(s):\n",
      "\n",
      "    Variable cc4_famecon has 0 link(s):\n",
      "\n",
      "    Variable cc_pol_tax has 0 link(s):\n",
      "\n",
      "    Variable cc_pol_car has 0 link(s):\n",
      "\n",
      "    Variable ccSolve has 0 link(s):\n",
      "\n",
      "    Variable pol_score has 0 link(s):\n",
      "\n",
      "    Variable pol_ideology has 0 link(s):\n",
      "\n",
      "##\n",
      "## Step 2: PC algorithm with contemp. conditions and MCI tests\n",
      "##\n",
      "\n",
      "Parameters:\n",
      "\n",
      "independence test = par_corr\n",
      "tau_min = 0\n",
      "tau_max = 1\n",
      "pc_alpha = 0.01\n",
      "contemp_collider_rule = majority\n",
      "conflict_resolution = True\n",
      "reset_lagged_links = False\n",
      "max_conds_dim = None\n",
      "max_conds_py = None\n",
      "max_conds_px = None\n",
      "max_conds_px_lagged = None\n",
      "fdr_method = none\n",
      "\n",
      "## Significant links at alpha = 0.01:\n",
      "\n",
      "    Variable cc4_world has 0 link(s):\n",
      "\n",
      "    Variable cc4_wealthUS has 0 link(s):\n",
      "\n",
      "    Variable cc4_poorUS has 0 link(s):\n",
      "\n",
      "    Variable cc4_comm has 0 link(s):\n",
      "\n",
      "    Variable cc4_famheal has 0 link(s):\n",
      "\n",
      "    Variable cc4_famecon has 0 link(s):\n",
      "\n",
      "    Variable cc_pol_tax has 0 link(s):\n",
      "\n",
      "    Variable cc_pol_car has 0 link(s):\n",
      "\n",
      "    Variable ccSolve has 0 link(s):\n",
      "\n",
      "    Variable pol_score has 0 link(s):\n",
      "\n",
      "    Variable pol_ideology has 0 link(s):\n"
     ]
    }
   ],
   "source": [
    "# Configuration\n",
    "tau_max = 1  # maximum time lag to test\n",
    "pc_alpha = 0.01  # significance level for PC-stable algorithm\n",
    "pcmci.verbosity = 1 # verbosity: 0 (silent), 1 (basic), 2 (detailed)\n",
    "\n",
    "# Run PCMCI+\n",
    "results = pcmci.run_pcmciplus(tau_min=0, tau_max=tau_max, pc_alpha=pc_alpha)"
   ]
  },
  {
   "cell_type": "markdown",
   "id": "0f4ec2b1",
   "metadata": {},
   "source": [
    "maybe there is a constant below"
   ]
  },
  {
   "cell_type": "code",
   "execution_count": null,
   "id": "1f929625",
   "metadata": {},
   "outputs": [],
   "source": [
    "# Sort data by PID and WAVE\n",
    "df = df.sort_values(['PID', 'WAVE'])\n",
    "\n",
    "# Create a Tigramite-compatible panel dataset (T, N, C)\n",
    "# where T = time, N = number of variables, C = number of units (PIDs)\n",
    "\n",
    "from tigramite.data_processing import DataFrame\n",
    "\n",
    "panel_data = []\n",
    "units = df['PID'].unique()\n",
    "\n",
    "for pid in units:\n",
    "    sub_df = df[df['PID'] == pid].sort_values('WAVE')\n",
    "    if sub_df.shape[0] < 3:  # not enough observations\n",
    "        continue\n",
    "    panel_data.append(sub_df[variables].values)\n",
    "\n",
    "# Convert to numpy array of shape (T, N, C)\n",
    "panel_array = np.stack(panel_data, axis=-1)  # T x N x C\n",
    "\n",
    "# Create Tigramite DataFrame in panel mode\n",
    "dataframe = DataFrame(panel_array, var_names=variables, analysis_mode='multiple')\n",
    "\n",
    "# Set up PCMCI in 'time_series' mode for panel data\n",
    "pcmci = PCMCI(dataframe=dataframe, cond_ind_test=ParCorr(significance='analytic'))\n",
    "\n",
    "# Run PCMCI\n",
    "results = pcmci.run_pcmci(tau_max=1, pc_alpha=0.05)\n",
    "\n",
    "# Print significant links\n",
    "pcmci.print_significant_links(p_matrix=results['p_matrix'],\n",
    "                              val_matrix=results['val_matrix'],\n",
    "                              alpha_level=0.05)"
   ]
  }
 ],
 "metadata": {
  "kernelspec": {
   "display_name": ".venv",
   "language": "python",
   "name": "python3"
  },
  "language_info": {
   "codemirror_mode": {
    "name": "ipython",
    "version": 3
   },
   "file_extension": ".py",
   "mimetype": "text/x-python",
   "name": "python",
   "nbconvert_exporter": "python",
   "pygments_lexer": "ipython3",
   "version": "3.13.0"
  }
 },
 "nbformat": 4,
 "nbformat_minor": 5
}
