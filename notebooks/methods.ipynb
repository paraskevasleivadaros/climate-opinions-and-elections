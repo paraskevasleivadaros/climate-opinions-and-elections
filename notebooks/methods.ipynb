{
 "cells": [
  {
   "cell_type": "markdown",
   "id": "015aa430",
   "metadata": {},
   "source": [
    "### **RQ1. Does support for climate policies (like carbon taxes or emissions standards) change during elections? And is this support influenced by personal or community-level perceptions of climate harm?**\n",
    "\n",
    "To investigate this question, we estimate a **reduced Panel VAR(1)** system focusing on two dependent variables: `cc_pol_tax` (support for carbon taxes) and `cc_pol_car` (support for emissions standards). Each equation includes as predictors the **lagged values** of 17 time-varying variables (including harm perceptions, willingness to pay, policy support, political identity, and demographic covariates) along with a dummy variable for Wave 3 to directly test for election-period effects.\n",
    "\n",
    "- **Harm perceptions**: `cc4_world`, `cc4_wealthUS`, `cc4_poorUS`, `cc4_comm`, `cc4_famheal`, `cc4_famecon`  \n",
    "- **Willingness to pay**: `ccSolve`  \n",
    "- **Climate policy support**: `cc_pol_tax`, `cc_pol_car` (included as predictors across equations to capture cross-policy influence)  \n",
    "- **Political identity**: `pol_score`, `pol_ideology` — both treated as categorical variables \n",
    "- **Demographic covariates**: `dem_income_binary`, `dem_educ_binary`, `dem_age`, `dem_male_binary` — treated as ordinal or binary numeric variables\n",
    "- **Election-period control**: `wave3_dummy` — a binary variable coded 1 for Wave 3 (election wave), and 0 otherwise\n",
    "\n",
    "The following system of two equations is estimated:\n",
    "\n",
    "$$\n",
    "\\begin{cases}\n",
    "\\text{cc\\_pol\\_tax}_t = \\alpha_1 + \\sum_{j=1}^{17} \\beta_{1j} \\cdot X_{j,t-1} + \\theta_1 \\cdot \\text{wave3\\_dummy}_t + \\epsilon_{1t} \\\\\n",
    "\\text{cc\\_pol\\_car}_t = \\alpha_2 + \\sum_{j=1}^{17} \\beta_{2j} \\cdot X_{j,t-1} + \\theta_2 \\cdot \\text{wave3\\_dummy}_t + \\epsilon_{2t}\n",
    "\\end{cases}\n",
    "$$\n",
    "\n",
    "Where:\n",
    "\n",
    "- $ X_{j,t-1} $ denotes the value of the $ j $-th predictor at time $ t-1 $  \n",
    "- `wave3_dummy_t` indicates whether the observation corresponds to the election period  \n",
    "- $ \\alpha_i $ is the intercept for equation $ i $  \n",
    "- $ \\beta_{ij} $ is the coefficient for the effect of predictor $ j $ on outcome $ i $  \n",
    "- $ \\epsilon_{it} $ is the idiosyncratic error term, clustered at the respondent level\n",
    "\n",
    "The dependent variables, `cc_pol_tax_t` and `cc_pol_car_t`, represent support for carbon taxes and emissions standards at time $ t $, respectively. The inclusion of `wave3_dummy` allows us to explicitly test whether **policy support shifted during the election period**, above and beyond dynamics captured by attitudinal or demographic trends. All variables are treated as **jointly endogenous**, and the model is estimated using **pooled OLS** with **clustered standard errors by respondent** (`PID`), based on 1,722 complete observations from three survey waves."
   ]
  },
  {
   "cell_type": "code",
   "execution_count": 17,
   "id": "d886dd37",
   "metadata": {},
   "outputs": [
    {
     "name": "stdout",
     "output_type": "stream",
     "text": [
      "Manual dummy variables created for pol_party and pol_ideology.\n"
     ]
    }
   ],
   "source": [
    "import pandas as pd\n",
    "\n",
    "# Load dataset\n",
    "data = pd.read_csv(\"../data/5-cleaned_data_3waves.csv\", low_memory=False)\n",
    "\n",
    "# Categorize pol_score into broad party-aligned groups\n",
    "# Democrat -> -2\n",
    "# Independent, leaning democrat -> -1  \n",
    "# Independent, leaningn neither -> 0  \n",
    "# Independent, leaning republican -> 1  \n",
    "# Republican -> 2\n",
    "data['party_democrat'] = data['pol_score'].apply(lambda x: 1 if x == -2 else 0)\n",
    "data['party_republican'] = data['pol_score'].apply(lambda x: 1 if x == 2 else 0)\n",
    "data['party_independent'] = data['pol_score'].apply(lambda x: 1 if x in [-1, 0, 1] else 0)\n",
    "\n",
    "# Recategorize pol_ideology\n",
    "data['ideology_liberal'] = data['pol_ideology'].apply(lambda x: 1 if x >= 4 else 0)\n",
    "data['ideology_conservative'] = data['pol_ideology'].apply(lambda x: 1 if x <= 2 else 0)\n",
    "data['ideology_moderate'] = data['pol_ideology'].apply(lambda x: 1 if x == 3 else 0)\n",
    "\n",
    "print(\"Manual dummy variables created for pol_party and pol_ideology.\")"
   ]
  },
  {
   "cell_type": "code",
   "execution_count": 18,
   "id": "15d0307a",
   "metadata": {},
   "outputs": [
    {
     "name": "stdout",
     "output_type": "stream",
     "text": [
      "\n",
      "===================================================\n",
      "                          cc_pol_tax_t cc_pol_car_t\n",
      "---------------------------------------------------\n",
      "const                     0.3972***    0.5163***   \n",
      "                          (0.0760)     (0.0785)    \n",
      "cc4_world_lag             0.1859***    0.1560***   \n",
      "                          (0.0306)     (0.0296)    \n",
      "cc4_wealthUS_lag          -0.0469*     -0.0526**   \n",
      "                          (0.0252)     (0.0221)    \n",
      "cc4_poorUS_lag            0.0612**     0.0979***   \n",
      "                          (0.0301)     (0.0300)    \n",
      "cc4_comm_lag              -0.0239      0.0037      \n",
      "                          (0.0365)     (0.0332)    \n",
      "cc4_famheal_lag           0.0008       0.0026      \n",
      "                          (0.0348)     (0.0307)    \n",
      "cc4_famecon_lag           0.0188       -0.0180     \n",
      "                          (0.0255)     (0.0230)    \n",
      "ccSolve_lag               0.0907***    0.0193      \n",
      "                          (0.0224)     (0.0191)    \n",
      "cc_pol_tax_lag            0.3496***    0.1003***   \n",
      "                          (0.0312)     (0.0271)    \n",
      "cc_pol_car_lag            0.1396***    0.4264***   \n",
      "                          (0.0297)     (0.0327)    \n",
      "dem_income_binary_lag     0.0330       0.0266      \n",
      "                          (0.0480)     (0.0455)    \n",
      "dem_age_lag               -0.0022      0.0014      \n",
      "                          (0.0014)     (0.0015)    \n",
      "dem_educ_binary_lag       0.1755***    0.0628      \n",
      "                          (0.0634)     (0.0609)    \n",
      "dem_male_binary_lag       0.0218       0.0027      \n",
      "                          (0.0431)     (0.0407)    \n",
      "party_democrat_lag        0.2935***    0.2023***   \n",
      "                          (0.0501)     (0.0483)    \n",
      "party_republican_lag      -0.0628      0.0882**    \n",
      "                          (0.0496)     (0.0437)    \n",
      "party_independent_lag     0.1665***    0.2258***   \n",
      "                          (0.0421)     (0.0403)    \n",
      "ideology_liberal_lag      0.2299***    0.2873***   \n",
      "                          (0.0522)     (0.0493)    \n",
      "ideology_conservative_lag 0.0480       0.0628      \n",
      "                          (0.0507)     (0.0469)    \n",
      "ideology_moderate_lag     0.1192***    0.1662***   \n",
      "                          (0.0415)     (0.0373)    \n",
      "wave3_dummy               -0.0571      0.0613      \n",
      "                          (0.0482)     (0.0444)    \n",
      "R-squared                 0.5003       0.5088      \n",
      "R-squared Adj.            0.4950       0.5036      \n",
      "N                         1722         1722        \n",
      "===================================================\n",
      "Standard errors in parentheses.\n",
      "* p<.1, ** p<.05, ***p<.01\n"
     ]
    }
   ],
   "source": [
    "import statsmodels.api as sm\n",
    "from statsmodels.iolib.summary2 import summary_col\n",
    "\n",
    "# Define continuous/ordinal predictors\n",
    "continuous_predictors = [\n",
    "    \"cc4_world\", \"cc4_wealthUS\", \"cc4_poorUS\",\n",
    "    \"cc4_comm\", \"cc4_famheal\", \"cc4_famecon\",\n",
    "    \"ccSolve\", \"cc_pol_tax\", \"cc_pol_car\",\n",
    "    \"dem_income_binary\", \"dem_age\", \"dem_educ_binary\", \"dem_male_binary\"\n",
    "]\n",
    "\n",
    "# Dummy predictors created earlier\n",
    "dummy_predictors = [\n",
    "    \"party_democrat\", \"party_republican\", \"party_independent\",\n",
    "    \"ideology_liberal\", \"ideology_conservative\", \"ideology_moderate\"\n",
    "]\n",
    "\n",
    "# Election-period dummy\n",
    "wave_dummy = [\"wave3_dummy\"]\n",
    "\n",
    "# Sort by PID and WAVE\n",
    "data = data.sort_values(by=['PID', 'WAVE'])\n",
    "\n",
    "# Create lagged versions\n",
    "for var in continuous_predictors + dummy_predictors:\n",
    "    data[f\"{var}_lag\"] = data.groupby('PID')[var].shift(1)\n",
    "\n",
    "# Create wave3_dummy\n",
    "data[\"wave3_dummy\"] = (data[\"WAVE\"] == 3).astype(int)\n",
    "\n",
    "# Combine all lagged vars\n",
    "lagged_vars = [f\"{var}_lag\" for var in continuous_predictors + dummy_predictors]\n",
    "all_predictors = lagged_vars + wave_dummy\n",
    "\n",
    "# Drop missing rows\n",
    "panel_var_data = data.dropna(subset=lagged_vars)\n",
    "\n",
    "# --- Model 1: cc_pol_tax_t\n",
    "X1 = panel_var_data[all_predictors]\n",
    "y1 = panel_var_data[\"cc_pol_tax\"]\n",
    "X1 = sm.add_constant(X1)\n",
    "model1 = sm.OLS(y1, X1).fit(cov_type='cluster', cov_kwds={'groups': panel_var_data['PID']})\n",
    "\n",
    "# --- Model 2: cc_pol_car_t\n",
    "X2 = panel_var_data[all_predictors]\n",
    "y2 = panel_var_data[\"cc_pol_car\"]\n",
    "X2 = sm.add_constant(X2)\n",
    "model2 = sm.OLS(y2, X2).fit(cov_type='cluster', cov_kwds={'groups': panel_var_data['PID']})\n",
    "\n",
    "# Output\n",
    "print(summary_col(\n",
    "    [model1, model2],\n",
    "    stars=True,\n",
    "    model_names=[\"cc_pol_tax_t\", \"cc_pol_car_t\"],\n",
    "    info_dict={\"N\": lambda x: f\"{int(x.nobs)}\"}\n",
    "))"
   ]
  },
  {
   "cell_type": "code",
   "execution_count": 19,
   "id": "5937a40f",
   "metadata": {},
   "outputs": [
    {
     "data": {
      "image/png": "[encoded data removed]",
      "text/plain": [
       "<Figure size 1600x1200 with 2 Axes>"
      ]
     },
     "metadata": {},
     "output_type": "display_data"
    }
   ],
   "source": [
    "import matplotlib.pyplot as plt\n",
    "import pandas as pd\n",
    "import os\n",
    "os.makedirs(\"../results\", exist_ok=True)\n",
    "\n",
    "# --- Helper function\n",
    "def extract_model_info(model, label):\n",
    "    coefs = model.params\n",
    "    conf = model.conf_int()\n",
    "    df = pd.DataFrame({\n",
    "        'predictor': coefs.index,\n",
    "        'coef': coefs.values,\n",
    "        'lower': conf[0].values,\n",
    "        'upper': conf[1].values,\n",
    "        'model': label\n",
    "    }).query(\"predictor != 'const'\")\n",
    "    df['significant'] = ~((df['lower'] <= 0) & (df['upper'] >= 0))\n",
    "    df['predictor'] = df['predictor'].str.replace('_lag', '', regex=False)\n",
    "    return df.sort_values(by='coef', ascending=True)\n",
    "\n",
    "# --- Extract separately\n",
    "df_tax = extract_model_info(model1, \"cc_pol_tax_t\")\n",
    "df_car = extract_model_info(model2, \"cc_pol_car_t\")\n",
    "\n",
    "# --- Plotting\n",
    "fig, axs = plt.subplots(1, 2, figsize=(16, 12), sharex=True)\n",
    "\n",
    "for ax, df, title, color in zip(\n",
    "    axs,\n",
    "    [df_tax, df_car],\n",
    "    [\"Policy Support: Carbon Tax\", \"Policy Support: Emissions Standards\"],\n",
    "    [\"tab:blue\", \"tab:orange\"]\n",
    "):\n",
    "    for _, row in df.iterrows():\n",
    "        plot_color = color if row['significant'] else 'lightgray'\n",
    "        ax.errorbar(\n",
    "            row['coef'],\n",
    "            row['predictor'],\n",
    "            xerr=[[row['coef'] - row['lower']], [row['upper'] - row['coef']]],\n",
    "            fmt='o',\n",
    "            color=plot_color,\n",
    "            ecolor=plot_color,\n",
    "            capsize=4\n",
    "        )\n",
    "    ax.axvline(0, color='gray', linestyle='--')\n",
    "    ax.set_title(title)\n",
    "    ax.set_xlabel(\"Coefficient\")\n",
    "    ax.set_ylabel(\"Predictor\")\n",
    "\n",
    "plt.tight_layout()\n",
    "plt.savefig(\"../results/rq1_dot_whisker_policy_support.png\", dpi=300)\n",
    "plt.show()"
   ]
  },
  {
   "cell_type": "markdown",
   "id": "12fd3e5a",
   "metadata": {},
   "source": [
    "> **Interpreting a Dot-Whisker Plot**  \n",
    "> A **dot-whisker plot** visualizes the results of regression models (or similar estimates) by showing each variable's estimated effect and the uncertainty around it.\n",
    "> - **Dots** represent **point estimates** (e.g., regression coefficients)\n",
    ">   - Each dot shows the estimated impact of a predictor variable on the outcome\n",
    "> - **Whiskers (horizontal lines)** represent the **confidence intervals** around the point estimates\n",
    ">   - Most often, these are **95% confidence intervals**\n",
    ">   - The wider the whisker, the greater the uncertainty in the estimate\n",
    "> - A **vertical line at zero** (often shown) indicates **no effect**\n",
    ">   - If a whisker **crosses zero**, the estimate is **not statistically significant** at the 95% level\n",
    ">   - If it **does not cross zero**, the effect is considered **statistically significant**\n",
    "> \n",
    "> This type of plot is useful for quickly comparing multiple predictors and identifying which ones have a clear, statistically significant relationship with the outcome\n",
    "> \n",
    "> **Note:** Coefficients are sorted by their signed value (not absolute size) to reflect both magnitude (how strong) and direction of effect (positive or negative). Predictors whose 95% confidence intervals include zero (that are not statistically significant) are displayed in gray. This helps focus attention on the variables that clearly have an effect.\n",
    "> \n",
    "> **Why not use absolute coefficients?**\n",
    "> Sorting by absolute coefficient size would show the predictors with the strongest effects first, regardless of whether those effects are positive or negative. However, in this analysis, we wanted to highlight **the direction** of each effect (e.g., does it increase or decrease support?). That’s why we sorted by the raw coefficient values - so variables that reduce support appear on one side of the plot, and those that increase it appear on the other."
   ]
  },
  {
   "cell_type": "markdown",
   "id": "d35911f1",
   "metadata": {},
   "source": [
    "#### Panel VAR Analysis – RQ1  \n",
    "The results show that **support for both carbon taxes and emissions standards remains stable over time**, with **no significant shift during the election period**, as indicated by the non-significant `wave3_dummy`. Instead, support is more strongly associated with **climate concern, political alignment, and education level** - though only some of these effects reach statistical significance.\n",
    "\n",
    "Key findings:\n",
    "* **Previous support** is the strongest and most consistent predictor for both policy types, confirming temporal persistence.\n",
    "* **Democratic party affiliation**, **liberal ideology**, and **global climate harm perception** are significantly associated with increased support for both carbon taxes and emissions standards.\n",
    "* **Concern for poor U.S. communities** also has a significant and positive effect, particularly for emissions standards.\n",
    "* **Higher education** is positively associated with carbon tax support but not statistically significant for emissions standards.\n",
    "* **Willingness to pay** (`ccSolve`) is positively linked to support for carbon taxes but has no significant effect on emissions standards.\n",
    "* **Republican affiliation** shows a negative association with carbon tax support (though not statistically significant), while its relationship with emissions standards is more complex and not consistently significant.\n",
    "* **Independents** show modest but significant positive associations with both types of climate policy, suggesting bipartisan appeal for regulatory measures.\n",
    "* **No significant effect** is detected for the `wave3_dummy`, indicating that support did **not shift noticeably during the election period**.\n",
    "* For **emissions standards support (`cc_pol_car_t`)**, `cc4_wealthUS` has a **small but statistically significant negative coefficient**. This suggests that **greater concern for wealthy U.S. communities is associated with slightly *lower* support** for emissions regulations.\n",
    "\n",
    "> Therefore, the answer to RQ1 is **No**:  \n",
    "> There is **no election-related shock** in climate policy support. Instead, **support patterns reflect long-term political identity and climate concern**, rather than short-term political events."
   ]
  },
  {
   "cell_type": "code",
   "execution_count": 20,
   "id": "470f74ed",
   "metadata": {},
   "outputs": [
    {
     "data": {
      "application/vnd.plotly.v1+json": {
       "config": {
        "plotlyServerURL": "https://plot.ly"
       },
       "data": [
        {
         "hoverinfo": "none",
         "line": {
          "color": "gray",
          "width": 1
         },
         "mode": "lines",
         "type": "scatter",
         "x": [
          -0.3868122575184102,
          0.4686614997004277,
          null,
          -0.40800410432336726,
          0.4686614997004277,
          null,
          -0.5028624678387916,
          0.4686614997004277,
          null,
          0.10262014998035192,
          0.4686614997004277,
          null,
          -0.2674242847599837,
          0.4686614997004277,
          null,
          0.5993606827551754,
          0.4686614997004277,
          null,
          -0.03622073154093148,
          0.4686614997004277,
          null,
          -0.040176212613625376,
          0.4686614997004277,
          null,
          0.1897375492347253,
          0.4686614997004277,
          null,
          0.2811201769244267,
          0.4686614997004277,
          null
         ],
         "y": [
          1,
          0.11748743071267585,
          null,
          -0.6934238884303533,
          0.11748743071267585,
          null,
          -0.026281849512322115,
          0.11748743071267585,
          null,
          0.6517730122704082,
          0.11748743071267585,
          null,
          0.42237363308458914,
          0.11748743071267585,
          null,
          -0.6085110190332733,
          0.11748743071267585,
          null,
          -0.48817816104007966,
          0.11748743071267585,
          null,
          0.15236466040725177,
          0.11748743071267585,
          null,
          -0.121372085865109,
          0.11748743071267585,
          null,
          -0.4062317325937865,
          0.11748743071267585,
          null
         ]
        },
        {
         "hoverinfo": "text",
         "marker": {
          "color": "blue",
          "size": 30
         },
         "mode": "markers+text",
         "text": [
          "cc4_poorUS",
          "cc_pol_tax_t",
          "ccSolve",
          "ideology_moderate",
          "cc_pol_car",
          "party_independent",
          "dem_educ_binary",
          "cc4_world",
          "ideology_liberal",
          "party_democrat",
          "cc_pol_tax"
         ],
         "textposition": "top center",
         "type": "scatter",
         "x": [
          -0.3868122575184102,
          0.4686614997004277,
          -0.40800410432336726,
          -0.5028624678387916,
          0.10262014998035192,
          -0.2674242847599837,
          0.5993606827551754,
          -0.03622073154093148,
          -0.040176212613625376,
          0.1897375492347253,
          0.2811201769244267
         ],
         "y": [
          1,
          0.11748743071267585,
          -0.6934238884303533,
          -0.026281849512322115,
          0.6517730122704082,
          0.42237363308458914,
          -0.6085110190332733,
          -0.48817816104007966,
          0.15236466040725177,
          -0.121372085865109,
          -0.4062317325937865
         ]
        }
       ],
       "layout": {
        "hovermode": "closest",
        "showlegend": false,
        "template": {
         "data": {
          "bar": [
           {
            "error_x": {
             "color": "#2a3f5f"
            },
            "error_y": {
             "color": "#2a3f5f"
            },
            "marker": {
             "line": {
              "color": "#E5ECF6",
              "width": 0.5
             },
             "pattern": {
              "fillmode": "overlay",
              "size": 10,
              "solidity": 0.2
             }
            },
            "type": "bar"
           }
          ],
          "barpolar": [
           {
            "marker": {
             "line": {
              "color": "#E5ECF6",
              "width": 0.5
             },
             "pattern": {
              "fillmode": "overlay",
              "size": 10,
              "solidity": 0.2
             }
            },
            "type": "barpolar"
           }
          ],
          "carpet": [
           {
            "aaxis": {
             "endlinecolor": "#2a3f5f",
             "gridcolor": "white",
             "linecolor": "white",
             "minorgridcolor": "white",
             "startlinecolor": "#2a3f5f"
            },
            "baxis": {
             "endlinecolor": "#2a3f5f",
             "gridcolor": "white",
             "linecolor": "white",
             "minorgridcolor": "white",
             "startlinecolor": "#2a3f5f"
            },
            "type": "carpet"
           }
          ],
          "choropleth": [
           {
            "colorbar": {
             "outlinewidth": 0,
             "ticks": ""
            },
            "type": "choropleth"
           }
          ],
          "contour": [
           {
            "colorbar": {
             "outlinewidth": 0,
             "ticks": ""
            },
            "colorscale": [
             [
              0,
              "#0d0887"
             ],
             [
              0.1111111111111111,
              "#46039f"
             ],
             [
              0.2222222222222222,
              "#7201a8"
             ],
             [
              0.3333333333333333,
              "#9c179e"
             ],
             [
              0.4444444444444444,
              "#bd3786"
             ],
             [
              0.5555555555555556,
              "#d8576b"
             ],
             [
              0.6666666666666666,
              "#ed7953"
             ],
             [
              0.7777777777777778,
              "#fb9f3a"
             ],
             [
              0.8888888888888888,
              "#fdca26"
             ],
             [
              1,
              "#f0f921"
             ]
            ],
            "type": "contour"
           }
          ],
          "contourcarpet": [
           {
            "colorbar": {
             "outlinewidth": 0,
             "ticks": ""
            },
            "type": "contourcarpet"
           }
          ],
          "heatmap": [
           {
            "colorbar": {
             "outlinewidth": 0,
             "ticks": ""
            },
            "colorscale": [
             [
              0,
              "#0d0887"
             ],
             [
              0.1111111111111111,
              "#46039f"
             ],
             [
              0.2222222222222222,
              "#7201a8"
             ],
             [
              0.3333333333333333,
              "#9c179e"
             ],
             [
              0.4444444444444444,
              "#bd3786"
             ],
             [
              0.5555555555555556,
              "#d8576b"
             ],
             [
              0.6666666666666666,
              "#ed7953"
             ],
             [
              0.7777777777777778,
              "#fb9f3a"
             ],
             [
              0.8888888888888888,
              "#fdca26"
             ],
             [
              1,
              "#f0f921"
             ]
            ],
            "type": "heatmap"
           }
          ],
          "histogram": [
           {
            "marker": {
             "pattern": {
              "fillmode": "overlay",
              "size": 10,
              "solidity": 0.2
             }
            },
            "type": "histogram"
           }
          ],
          "histogram2d": [
           {
            "colorbar": {
             "outlinewidth": 0,
             "ticks": ""
            },
            "colorscale": [
             [
              0,
              "#0d0887"
             ],
             [
              0.1111111111111111,
              "#46039f"
             ],
             [
              0.2222222222222222,
              "#7201a8"
             ],
             [
              0.3333333333333333,
              "#9c179e"
             ],
             [
              0.4444444444444444,
              "#bd3786"
             ],
             [
              0.5555555555555556,
              "#d8576b"
             ],
             [
              0.6666666666666666,
              "#ed7953"
             ],
             [
              0.7777777777777778,
              "#fb9f3a"
             ],
             [
              0.8888888888888888,
              "#fdca26"
             ],
             [
              1,
              "#f0f921"
             ]
            ],
            "type": "histogram2d"
           }
          ],
          "histogram2dcontour": [
           {
            "colorbar": {
             "outlinewidth": 0,
             "ticks": ""
            },
            "colorscale": [
             [
              0,
              "#0d0887"
             ],
             [
              0.1111111111111111,
              "#46039f"
             ],
             [
              0.2222222222222222,
              "#7201a8"
             ],
             [
              0.3333333333333333,
              "#9c179e"
             ],
             [
              0.4444444444444444,
              "#bd3786"
             ],
             [
              0.5555555555555556,
              "#d8576b"
             ],
             [
              0.6666666666666666,
              "#ed7953"
             ],
             [
              0.7777777777777778,
              "#fb9f3a"
             ],
             [
              0.8888888888888888,
              "#fdca26"
             ],
             [
              1,
              "#f0f921"
             ]
            ],
            "type": "histogram2dcontour"
           }
          ],
          "mesh3d": [
           {
            "colorbar": {
             "outlinewidth": 0,
             "ticks": ""
            },
            "type": "mesh3d"
           }
          ],
          "parcoords": [
           {
            "line": {
             "colorbar": {
              "outlinewidth": 0,
              "ticks": ""
             }
            },
            "type": "parcoords"
           }
          ],
          "pie": [
           {
            "automargin": true,
            "type": "pie"
           }
          ],
          "scatter": [
           {
            "fillpattern": {
             "fillmode": "overlay",
             "size": 10,
             "solidity": 0.2
            },
            "type": "scatter"
           }
          ],
          "scatter3d": [
           {
            "line": {
             "colorbar": {
              "outlinewidth": 0,
              "ticks": ""
             }
            },
            "marker": {
             "colorbar": {
              "outlinewidth": 0,
              "ticks": ""
             }
            },
            "type": "scatter3d"
           }
          ],
          "scattercarpet": [
           {
            "marker": {
             "colorbar": {
              "outlinewidth": 0,
              "ticks": ""
             }
            },
            "type": "scattercarpet"
           }
          ],
          "scattergeo": [
           {
            "marker": {
             "colorbar": {
              "outlinewidth": 0,
              "ticks": ""
             }
            },
            "type": "scattergeo"
           }
          ],
          "scattergl": [
           {
            "marker": {
             "colorbar": {
              "outlinewidth": 0,
              "ticks": ""
             }
            },
            "type": "scattergl"
           }
          ],
          "scattermap": [
           {
            "marker": {
             "colorbar": {
              "outlinewidth": 0,
              "ticks": ""
             }
            },
            "type": "scattermap"
           }
          ],
          "scattermapbox": [
           {
            "marker": {
             "colorbar": {
              "outlinewidth": 0,
              "ticks": ""
             }
            },
            "type": "scattermapbox"
           }
          ],
          "scatterpolar": [
           {
            "marker": {
             "colorbar": {
              "outlinewidth": 0,
              "ticks": ""
             }
            },
            "type": "scatterpolar"
           }
          ],
          "scatterpolargl": [
           {
            "marker": {
             "colorbar": {
              "outlinewidth": 0,
              "ticks": ""
             }
            },
            "type": "scatterpolargl"
           }
          ],
          "scatterternary": [
           {
            "marker": {
             "colorbar": {
              "outlinewidth": 0,
              "ticks": ""
             }
            },
            "type": "scatterternary"
           }
          ],
          "surface": [
           {
            "colorbar": {
             "outlinewidth": 0,
             "ticks": ""
            },
            "colorscale": [
             [
              0,
              "#0d0887"
             ],
             [
              0.1111111111111111,
              "#46039f"
             ],
             [
              0.2222222222222222,
              "#7201a8"
             ],
             [
              0.3333333333333333,
              "#9c179e"
             ],
             [
              0.4444444444444444,
              "#bd3786"
             ],
             [
              0.5555555555555556,
              "#d8576b"
             ],
             [
              0.6666666666666666,
              "#ed7953"
             ],
             [
              0.7777777777777778,
              "#fb9f3a"
             ],
             [
              0.8888888888888888,
              "#fdca26"
             ],
             [
              1,
              "#f0f921"
             ]
            ],
            "type": "surface"
           }
          ],
          "table": [
           {
            "cells": {
             "fill": {
              "color": "#EBF0F8"
             },
             "line": {
              "color": "white"
             }
            },
            "header": {
             "fill": {
              "color": "#C8D4E3"
             },
             "line": {
              "color": "white"
             }
            },
            "type": "table"
           }
          ]
         },
         "layout": {
          "annotationdefaults": {
           "arrowcolor": "#2a3f5f",
           "arrowhead": 0,
           "arrowwidth": 1
          },
          "autotypenumbers": "strict",
          "coloraxis": {
           "colorbar": {
            "outlinewidth": 0,
            "ticks": ""
           }
          },
          "colorscale": {
           "diverging": [
            [
             0,
             "#8e0152"
            ],
            [
             0.1,
             "#c51b7d"
            ],
            [
             0.2,
             "#de77ae"
            ],
            [
             0.3,
             "#f1b6da"
            ],
            [
             0.4,
             "#fde0ef"
            ],
            [
             0.5,
             "#f7f7f7"
            ],
            [
             0.6,
             "#e6f5d0"
            ],
            [
             0.7,
             "#b8e186"
            ],
            [
             0.8,
             "#7fbc41"
            ],
            [
             0.9,
             "#4d9221"
            ],
            [
             1,
             "#276419"
            ]
           ],
           "sequential": [
            [
             0,
             "#0d0887"
            ],
            [
             0.1111111111111111,
             "#46039f"
            ],
            [
             0.2222222222222222,
             "#7201a8"
            ],
            [
             0.3333333333333333,
             "#9c179e"
            ],
            [
             0.4444444444444444,
             "#bd3786"
            ],
            [
             0.5555555555555556,
             "#d8576b"
            ],
            [
             0.6666666666666666,
             "#ed7953"
            ],
            [
             0.7777777777777778,
             "#fb9f3a"
            ],
            [
             0.8888888888888888,
             "#fdca26"
            ],
            [
             1,
             "#f0f921"
            ]
           ],
           "sequentialminus": [
            [
             0,
             "#0d0887"
            ],
            [
             0.1111111111111111,
             "#46039f"
            ],
            [
             0.2222222222222222,
             "#7201a8"
            ],
            [
             0.3333333333333333,
             "#9c179e"
            ],
            [
             0.4444444444444444,
             "#bd3786"
            ],
            [
             0.5555555555555556,
             "#d8576b"
            ],
            [
             0.6666666666666666,
             "#ed7953"
            ],
            [
             0.7777777777777778,
             "#fb9f3a"
            ],
            [
             0.8888888888888888,
             "#fdca26"
            ],
            [
             1,
             "#f0f921"
            ]
           ]
          },
          "colorway": [
           "#636efa",
           "#EF553B",
           "#00cc96",
           "#ab63fa",
           "#FFA15A",
           "#19d3f3",
           "#FF6692",
           "#B6E880",
           "#FF97FF",
           "#FECB52"
          ],
          "font": {
           "color": "#2a3f5f"
          },
          "geo": {
           "bgcolor": "white",
           "lakecolor": "white",
           "landcolor": "#E5ECF6",
           "showlakes": true,
           "showland": true,
           "subunitcolor": "white"
          },
          "hoverlabel": {
           "align": "left"
          },
          "hovermode": "closest",
          "mapbox": {
           "style": "light"
          },
          "paper_bgcolor": "white",
          "plot_bgcolor": "#E5ECF6",
          "polar": {
           "angularaxis": {
            "gridcolor": "white",
            "linecolor": "white",
            "ticks": ""
           },
           "bgcolor": "#E5ECF6",
           "radialaxis": {
            "gridcolor": "white",
            "linecolor": "white",
            "ticks": ""
           }
          },
          "scene": {
           "xaxis": {
            "backgroundcolor": "#E5ECF6",
            "gridcolor": "white",
            "gridwidth": 2,
            "linecolor": "white",
            "showbackground": true,
            "ticks": "",
            "zerolinecolor": "white"
           },
           "yaxis": {
            "backgroundcolor": "#E5ECF6",
            "gridcolor": "white",
            "gridwidth": 2,
            "linecolor": "white",
            "showbackground": true,
            "ticks": "",
            "zerolinecolor": "white"
           },
           "zaxis": {
            "backgroundcolor": "#E5ECF6",
            "gridcolor": "white",
            "gridwidth": 2,
            "linecolor": "white",
            "showbackground": true,
            "ticks": "",
            "zerolinecolor": "white"
           }
          },
          "shapedefaults": {
           "line": {
            "color": "#2a3f5f"
           }
          },
          "ternary": {
           "aaxis": {
            "gridcolor": "white",
            "linecolor": "white",
            "ticks": ""
           },
           "baxis": {
            "gridcolor": "white",
            "linecolor": "white",
            "ticks": ""
           },
           "bgcolor": "#E5ECF6",
           "caxis": {
            "gridcolor": "white",
            "linecolor": "white",
            "ticks": ""
           }
          },
          "title": {
           "x": 0.05
          },
          "xaxis": {
           "automargin": true,
           "gridcolor": "white",
           "linecolor": "white",
           "ticks": "",
           "title": {
            "standoff": 15
           },
           "zerolinecolor": "white",
           "zerolinewidth": 2
          },
          "yaxis": {
           "automargin": true,
           "gridcolor": "white",
           "linecolor": "white",
           "ticks": "",
           "title": {
            "standoff": 15
           },
           "zerolinecolor": "white",
           "zerolinewidth": 2
          }
         }
        },
        "title": {
         "text": "Interactive VAR Graph (cc_pol_tax)"
        }
       }
      }
     },
     "metadata": {},
     "output_type": "display_data"
    },
    {
     "data": {
      "application/vnd.plotly.v1+json": {
       "config": {
        "plotlyServerURL": "https://plot.ly"
       },
       "data": [
        {
         "hoverinfo": "none",
         "line": {
          "color": "gray",
          "width": 1
         },
         "mode": "lines",
         "type": "scatter",
         "x": [
          -1,
          0.34045706381145935,
          null,
          -0.12060500042640977,
          0.34045706381145935,
          null,
          -0.19091010748568404,
          0.34045706381145935,
          null,
          0.08072024458379636,
          0.34045706381145935,
          null,
          -0.07652657234097343,
          0.34045706381145935,
          null,
          0.4131839818166832,
          0.34045706381145935,
          null,
          0.07952094127031915,
          0.34045706381145935,
          null,
          0.058351354534808435,
          0.34045706381145935,
          null,
          0.17251642559374075,
          0.34045706381145935,
          null,
          0.2432916686422601,
          0.34045706381145935,
          null
         ],
         "y": [
          0.45687708616030587,
          0.06350988090973295,
          null,
          -0.40320736684339215,
          0.06350988090973295,
          null,
          -0.025298511338055055,
          0.06350988090973295,
          null,
          0.4057128180773441,
          0.06350988090973295,
          null,
          0.23150958941051267,
          0.06350988090973295,
          null,
          -0.3356550586453084,
          0.06350988090973295,
          null,
          -0.25778371111466175,
          0.06350988090973295,
          null,
          0.10007191487005036,
          0.06350988090973295,
          null,
          -0.045396598347102676,
          0.06350988090973295,
          null,
          -0.19034004313942654,
          0.06350988090973295,
          null
         ]
        },
        {
         "hoverinfo": "text",
         "marker": {
          "color": "orange",
          "size": 30
         },
         "mode": "markers+text",
         "text": [
          "cc4_wealthUS",
          "cc_pol_car_t",
          "party_republican",
          "cc4_poorUS",
          "cc_pol_tax",
          "cc4_world",
          "ideology_moderate",
          "party_democrat",
          "party_independent",
          "ideology_liberal",
          "cc_pol_car"
         ],
         "textposition": "top center",
         "type": "scatter",
         "x": [
          -1,
          0.34045706381145935,
          -0.12060500042640977,
          -0.19091010748568404,
          0.08072024458379636,
          -0.07652657234097343,
          0.4131839818166832,
          0.07952094127031915,
          0.058351354534808435,
          0.17251642559374075,
          0.2432916686422601
         ],
         "y": [
          0.45687708616030587,
          0.06350988090973295,
          -0.40320736684339215,
          -0.025298511338055055,
          0.4057128180773441,
          0.23150958941051267,
          -0.3356550586453084,
          -0.25778371111466175,
          0.10007191487005036,
          -0.045396598347102676,
          -0.19034004313942654
         ]
        }
       ],
       "layout": {
        "hovermode": "closest",
        "showlegend": false,
        "template": {
         "data": {
          "bar": [
           {
            "error_x": {
             "color": "#2a3f5f"
            },
            "error_y": {
             "color": "#2a3f5f"
            },
            "marker": {
             "line": {
              "color": "#E5ECF6",
              "width": 0.5
             },
             "pattern": {
              "fillmode": "overlay",
              "size": 10,
              "solidity": 0.2
             }
            },
            "type": "bar"
           }
          ],
          "barpolar": [
           {
            "marker": {
             "line": {
              "color": "#E5ECF6",
              "width": 0.5
             },
             "pattern": {
              "fillmode": "overlay",
              "size": 10,
              "solidity": 0.2
             }
            },
            "type": "barpolar"
           }
          ],
          "carpet": [
           {
            "aaxis": {
             "endlinecolor": "#2a3f5f",
             "gridcolor": "white",
             "linecolor": "white",
             "minorgridcolor": "white",
             "startlinecolor": "#2a3f5f"
            },
            "baxis": {
             "endlinecolor": "#2a3f5f",
             "gridcolor": "white",
             "linecolor": "white",
             "minorgridcolor": "white",
             "startlinecolor": "#2a3f5f"
            },
            "type": "carpet"
           }
          ],
          "choropleth": [
           {
            "colorbar": {
             "outlinewidth": 0,
             "ticks": ""
            },
            "type": "choropleth"
           }
          ],
          "contour": [
           {
            "colorbar": {
             "outlinewidth": 0,
             "ticks": ""
            },
            "colorscale": [
             [
              0,
              "#0d0887"
             ],
             [
              0.1111111111111111,
              "#46039f"
             ],
             [
              0.2222222222222222,
              "#7201a8"
             ],
             [
              0.3333333333333333,
              "#9c179e"
             ],
             [
              0.4444444444444444,
              "#bd3786"
             ],
             [
              0.5555555555555556,
              "#d8576b"
             ],
             [
              0.6666666666666666,
              "#ed7953"
             ],
             [
              0.7777777777777778,
              "#fb9f3a"
             ],
             [
              0.8888888888888888,
              "#fdca26"
             ],
             [
              1,
              "#f0f921"
             ]
            ],
            "type": "contour"
           }
          ],
          "contourcarpet": [
           {
            "colorbar": {
             "outlinewidth": 0,
             "ticks": ""
            },
            "type": "contourcarpet"
           }
          ],
          "heatmap": [
           {
            "colorbar": {
             "outlinewidth": 0,
             "ticks": ""
            },
            "colorscale": [
             [
              0,
              "#0d0887"
             ],
             [
              0.1111111111111111,
              "#46039f"
             ],
             [
              0.2222222222222222,
              "#7201a8"
             ],
             [
              0.3333333333333333,
              "#9c179e"
             ],
             [
              0.4444444444444444,
              "#bd3786"
             ],
             [
              0.5555555555555556,
              "#d8576b"
             ],
             [
              0.6666666666666666,
              "#ed7953"
             ],
             [
              0.7777777777777778,
              "#fb9f3a"
             ],
             [
              0.8888888888888888,
              "#fdca26"
             ],
             [
              1,
              "#f0f921"
             ]
            ],
            "type": "heatmap"
           }
          ],
          "histogram": [
           {
            "marker": {
             "pattern": {
              "fillmode": "overlay",
              "size": 10,
              "solidity": 0.2
             }
            },
            "type": "histogram"
           }
          ],
          "histogram2d": [
           {
            "colorbar": {
             "outlinewidth": 0,
             "ticks": ""
            },
            "colorscale": [
             [
              0,
              "#0d0887"
             ],
             [
              0.1111111111111111,
              "#46039f"
             ],
             [
              0.2222222222222222,
              "#7201a8"
             ],
             [
              0.3333333333333333,
              "#9c179e"
             ],
             [
              0.4444444444444444,
              "#bd3786"
             ],
             [
              0.5555555555555556,
              "#d8576b"
             ],
             [
              0.6666666666666666,
              "#ed7953"
             ],
             [
              0.7777777777777778,
              "#fb9f3a"
             ],
             [
              0.8888888888888888,
              "#fdca26"
             ],
             [
              1,
              "#f0f921"
             ]
            ],
            "type": "histogram2d"
           }
          ],
          "histogram2dcontour": [
           {
            "colorbar": {
             "outlinewidth": 0,
             "ticks": ""
            },
            "colorscale": [
             [
              0,
              "#0d0887"
             ],
             [
              0.1111111111111111,
              "#46039f"
             ],
             [
              0.2222222222222222,
              "#7201a8"
             ],
             [
              0.3333333333333333,
              "#9c179e"
             ],
             [
              0.4444444444444444,
              "#bd3786"
             ],
             [
              0.5555555555555556,
              "#d8576b"
             ],
             [
              0.6666666666666666,
              "#ed7953"
             ],
             [
              0.7777777777777778,
              "#fb9f3a"
             ],
             [
              0.8888888888888888,
              "#fdca26"
             ],
             [
              1,
              "#f0f921"
             ]
            ],
            "type": "histogram2dcontour"
           }
          ],
          "mesh3d": [
           {
            "colorbar": {
             "outlinewidth": 0,
             "ticks": ""
            },
            "type": "mesh3d"
           }
          ],
          "parcoords": [
           {
            "line": {
             "colorbar": {
              "outlinewidth": 0,
              "ticks": ""
             }
            },
            "type": "parcoords"
           }
          ],
          "pie": [
           {
            "automargin": true,
            "type": "pie"
           }
          ],
          "scatter": [
           {
            "fillpattern": {
             "fillmode": "overlay",
             "size": 10,
             "solidity": 0.2
            },
            "type": "scatter"
           }
          ],
          "scatter3d": [
           {
            "line": {
             "colorbar": {
              "outlinewidth": 0,
              "ticks": ""
             }
            },
            "marker": {
             "colorbar": {
              "outlinewidth": 0,
              "ticks": ""
             }
            },
            "type": "scatter3d"
           }
          ],
          "scattercarpet": [
           {
            "marker": {
             "colorbar": {
              "outlinewidth": 0,
              "ticks": ""
             }
            },
            "type": "scattercarpet"
           }
          ],
          "scattergeo": [
           {
            "marker": {
             "colorbar": {
              "outlinewidth": 0,
              "ticks": ""
             }
            },
            "type": "scattergeo"
           }
          ],
          "scattergl": [
           {
            "marker": {
             "colorbar": {
              "outlinewidth": 0,
              "ticks": ""
             }
            },
            "type": "scattergl"
           }
          ],
          "scattermap": [
           {
            "marker": {
             "colorbar": {
              "outlinewidth": 0,
              "ticks": ""
             }
            },
            "type": "scattermap"
           }
          ],
          "scattermapbox": [
           {
            "marker": {
             "colorbar": {
              "outlinewidth": 0,
              "ticks": ""
             }
            },
            "type": "scattermapbox"
           }
          ],
          "scatterpolar": [
           {
            "marker": {
             "colorbar": {
              "outlinewidth": 0,
              "ticks": ""
             }
            },
            "type": "scatterpolar"
           }
          ],
          "scatterpolargl": [
           {
            "marker": {
             "colorbar": {
              "outlinewidth": 0,
              "ticks": ""
             }
            },
            "type": "scatterpolargl"
           }
          ],
          "scatterternary": [
           {
            "marker": {
             "colorbar": {
              "outlinewidth": 0,
              "ticks": ""
             }
            },
            "type": "scatterternary"
           }
          ],
          "surface": [
           {
            "colorbar": {
             "outlinewidth": 0,
             "ticks": ""
            },
            "colorscale": [
             [
              0,
              "#0d0887"
             ],
             [
              0.1111111111111111,
              "#46039f"
             ],
             [
              0.2222222222222222,
              "#7201a8"
             ],
             [
              0.3333333333333333,
              "#9c179e"
             ],
             [
              0.4444444444444444,
              "#bd3786"
             ],
             [
              0.5555555555555556,
              "#d8576b"
             ],
             [
              0.6666666666666666,
              "#ed7953"
             ],
             [
              0.7777777777777778,
              "#fb9f3a"
             ],
             [
              0.8888888888888888,
              "#fdca26"
             ],
             [
              1,
              "#f0f921"
             ]
            ],
            "type": "surface"
           }
          ],
          "table": [
           {
            "cells": {
             "fill": {
              "color": "#EBF0F8"
             },
             "line": {
              "color": "white"
             }
            },
            "header": {
             "fill": {
              "color": "#C8D4E3"
             },
             "line": {
              "color": "white"
             }
            },
            "type": "table"
           }
          ]
         },
         "layout": {
          "annotationdefaults": {
           "arrowcolor": "#2a3f5f",
           "arrowhead": 0,
           "arrowwidth": 1
          },
          "autotypenumbers": "strict",
          "coloraxis": {
           "colorbar": {
            "outlinewidth": 0,
            "ticks": ""
           }
          },
          "colorscale": {
           "diverging": [
            [
             0,
             "#8e0152"
            ],
            [
             0.1,
             "#c51b7d"
            ],
            [
             0.2,
             "#de77ae"
            ],
            [
             0.3,
             "#f1b6da"
            ],
            [
             0.4,
             "#fde0ef"
            ],
            [
             0.5,
             "#f7f7f7"
            ],
            [
             0.6,
             "#e6f5d0"
            ],
            [
             0.7,
             "#b8e186"
            ],
            [
             0.8,
             "#7fbc41"
            ],
            [
             0.9,
             "#4d9221"
            ],
            [
             1,
             "#276419"
            ]
           ],
           "sequential": [
            [
             0,
             "#0d0887"
            ],
            [
             0.1111111111111111,
             "#46039f"
            ],
            [
             0.2222222222222222,
             "#7201a8"
            ],
            [
             0.3333333333333333,
             "#9c179e"
            ],
            [
             0.4444444444444444,
             "#bd3786"
            ],
            [
             0.5555555555555556,
             "#d8576b"
            ],
            [
             0.6666666666666666,
             "#ed7953"
            ],
            [
             0.7777777777777778,
             "#fb9f3a"
            ],
            [
             0.8888888888888888,
             "#fdca26"
            ],
            [
             1,
             "#f0f921"
            ]
           ],
           "sequentialminus": [
            [
             0,
             "#0d0887"
            ],
            [
             0.1111111111111111,
             "#46039f"
            ],
            [
             0.2222222222222222,
             "#7201a8"
            ],
            [
             0.3333333333333333,
             "#9c179e"
            ],
            [
             0.4444444444444444,
             "#bd3786"
            ],
            [
             0.5555555555555556,
             "#d8576b"
            ],
            [
             0.6666666666666666,
             "#ed7953"
            ],
            [
             0.7777777777777778,
             "#fb9f3a"
            ],
            [
             0.8888888888888888,
             "#fdca26"
            ],
            [
             1,
             "#f0f921"
            ]
           ]
          },
          "colorway": [
           "#636efa",
           "#EF553B",
           "#00cc96",
           "#ab63fa",
           "#FFA15A",
           "#19d3f3",
           "#FF6692",
           "#B6E880",
           "#FF97FF",
           "#FECB52"
          ],
          "font": {
           "color": "#2a3f5f"
          },
          "geo": {
           "bgcolor": "white",
           "lakecolor": "white",
           "landcolor": "#E5ECF6",
           "showlakes": true,
           "showland": true,
           "subunitcolor": "white"
          },
          "hoverlabel": {
           "align": "left"
          },
          "hovermode": "closest",
          "mapbox": {
           "style": "light"
          },
          "paper_bgcolor": "white",
          "plot_bgcolor": "#E5ECF6",
          "polar": {
           "angularaxis": {
            "gridcolor": "white",
            "linecolor": "white",
            "ticks": ""
           },
           "bgcolor": "#E5ECF6",
           "radialaxis": {
            "gridcolor": "white",
            "linecolor": "white",
            "ticks": ""
           }
          },
          "scene": {
           "xaxis": {
            "backgroundcolor": "#E5ECF6",
            "gridcolor": "white",
            "gridwidth": 2,
            "linecolor": "white",
            "showbackground": true,
            "ticks": "",
            "zerolinecolor": "white"
           },
           "yaxis": {
            "backgroundcolor": "#E5ECF6",
            "gridcolor": "white",
            "gridwidth": 2,
            "linecolor": "white",
            "showbackground": true,
            "ticks": "",
            "zerolinecolor": "white"
           },
           "zaxis": {
            "backgroundcolor": "#E5ECF6",
            "gridcolor": "white",
            "gridwidth": 2,
            "linecolor": "white",
            "showbackground": true,
            "ticks": "",
            "zerolinecolor": "white"
           }
          },
          "shapedefaults": {
           "line": {
            "color": "#2a3f5f"
           }
          },
          "ternary": {
           "aaxis": {
            "gridcolor": "white",
            "linecolor": "white",
            "ticks": ""
           },
           "baxis": {
            "gridcolor": "white",
            "linecolor": "white",
            "ticks": ""
           },
           "bgcolor": "#E5ECF6",
           "caxis": {
            "gridcolor": "white",
            "linecolor": "white",
            "ticks": ""
           }
          },
          "title": {
           "x": 0.05
          },
          "xaxis": {
           "automargin": true,
           "gridcolor": "white",
           "linecolor": "white",
           "ticks": "",
           "title": {
            "standoff": 15
           },
           "zerolinecolor": "white",
           "zerolinewidth": 2
          },
          "yaxis": {
           "automargin": true,
           "gridcolor": "white",
           "linecolor": "white",
           "ticks": "",
           "title": {
            "standoff": 15
           },
           "zerolinecolor": "white",
           "zerolinewidth": 2
          }
         }
        },
        "title": {
         "text": "Interactive VAR Graph (cc_pol_car)"
        }
       }
      }
     },
     "metadata": {},
     "output_type": "display_data"
    }
   ],
   "source": [
    "import plotly.graph_objects as go\n",
    "import networkx as nx\n",
    "import os\n",
    "os.makedirs(\"../results\", exist_ok=True)\n",
    "\n",
    "edges_tax = df_tax[df_tax['significant']][['predictor', 'model', 'coef']].copy()\n",
    "edges_tax.columns = ['source', 'target', 'weight']\n",
    "\n",
    "edges_car = df_car[df_car['significant']][['predictor', 'model', 'coef']].copy()\n",
    "edges_car.columns = ['source', 'target', 'weight']\n",
    "\n",
    "# Build graph\n",
    "G = nx.DiGraph()\n",
    "for _, row in edges_tax.iterrows():\n",
    "    G.add_edge(row['source'], row['target'], weight=row['weight'])\n",
    "\n",
    "pos = nx.spring_layout(G, seed=42)\n",
    "\n",
    "# Extract positions and edges\n",
    "edge_x, edge_y, edge_widths = [], [], []\n",
    "for u, v in G.edges():\n",
    "    x0, y0 = pos[u]\n",
    "    x1, y1 = pos[v]\n",
    "    edge_x += [x0, x1, None]\n",
    "    edge_y += [y0, y1, None]\n",
    "    edge_widths.append(abs(G[u][v]['weight']) * 4)  # scale for visibility\n",
    "\n",
    "# Plot edges\n",
    "fig = go.Figure()\n",
    "fig.add_trace(go.Scatter(\n",
    "    x=edge_x, y=edge_y,\n",
    "    mode='lines',\n",
    "    line=dict(width=1, color='gray'),\n",
    "    hoverinfo='none'\n",
    "))\n",
    "\n",
    "# Plot nodes\n",
    "node_x, node_y = zip(*[pos[n] for n in G.nodes()])\n",
    "fig.add_trace(go.Scatter(\n",
    "    x=node_x,\n",
    "    y=node_y,\n",
    "    mode='markers+text',\n",
    "    text=list(G.nodes()),\n",
    "    textposition=\"top center\",\n",
    "    marker=dict(size=30, color='blue'),\n",
    "    hoverinfo='text'\n",
    "))\n",
    "\n",
    "fig.update_layout(\n",
    "    showlegend=False,\n",
    "    title=\"Interactive VAR Graph (cc_pol_tax)\",\n",
    "    hovermode='closest'\n",
    ")\n",
    "fig.write_html(\"../results/rq1_var_graph_cc_pol_tax.html\")\n",
    "fig.show()\n",
    "\n",
    "# Build graph for model2 (cc_pol_car)\n",
    "G = nx.DiGraph()\n",
    "for _, row in edges_car.iterrows():\n",
    "    G.add_edge(row['source'], row['target'], weight=row['weight'])\n",
    "\n",
    "pos = nx.spring_layout(G, seed=42)\n",
    "\n",
    "# Extract positions and edges\n",
    "edge_x, edge_y, edge_widths = [], [], []\n",
    "for u, v in G.edges():\n",
    "    x0, y0 = pos[u]\n",
    "    x1, y1 = pos[v]\n",
    "    edge_x += [x0, x1, None]\n",
    "    edge_y += [y0, y1, None]\n",
    "    edge_widths.append(abs(G[u][v]['weight']) * 4)  # scaled for visibility\n",
    "\n",
    "# Plot edges\n",
    "fig = go.Figure()\n",
    "fig.add_trace(go.Scatter(\n",
    "    x=edge_x, y=edge_y,\n",
    "    mode='lines',\n",
    "    line=dict(width=1, color='gray'),\n",
    "    hoverinfo='none'\n",
    "))\n",
    "\n",
    "# Plot nodes\n",
    "node_x, node_y = zip(*[pos[n] for n in G.nodes()])\n",
    "fig.add_trace(go.Scatter(\n",
    "    x=node_x,\n",
    "    y=node_y,\n",
    "    mode='markers+text',\n",
    "    text=list(G.nodes()),\n",
    "    textposition=\"top center\",\n",
    "    marker=dict(size=30, color='orange'),  # Use orange to match dot-whisker color\n",
    "    hoverinfo='text'\n",
    "))\n",
    "\n",
    "fig.update_layout(\n",
    "    showlegend=False,\n",
    "    title=\"Interactive VAR Graph (cc_pol_car)\",\n",
    "    hovermode='closest'\n",
    ")\n",
    "fig.write_html(\"../results/rq1_var_graph_cc_pol_car.html\")\n",
    "fig.show()"
   ]
  },
  {
   "cell_type": "markdown",
   "id": "ef3cef4d",
   "metadata": {},
   "source": [
    "---"
   ]
  },
  {
   "cell_type": "markdown",
   "id": "12a0a254",
   "metadata": {},
   "source": [
    "### **RQ2. Does willingness to pay for climate solutions vary during elections, and what factors influence it?**\n",
    "To examine how willingness to pay for climate solutions is shaped by broader climate-related attitudes, political identity, and demographic characteristics, we estimate a **reduced Panel VAR(1)** model with `ccSolve_t` (willingness to financially support climate action) as the dependent variable.\n",
    "\n",
    "The equation includes as predictors the **lagged values** of 17 time-varying variables, grouped as follows:\n",
    "\n",
    "- **Harm perceptions**:\n",
    "  - `cc4_world`: perceived harm to the world  \n",
    "  - `cc4_wealthUS`: harm to wealthy U.S. communities  \n",
    "  - `cc4_poorUS`: harm to poor U.S. communities  \n",
    "  - `cc4_comm`: harm to local communities  \n",
    "  - `cc4_famheal`: harm to family health  \n",
    "  - `cc4_famecon`: harm to family economic well-being  \n",
    "\n",
    "- **Policy support**:\n",
    "  - `cc_pol_tax`: support for carbon taxes  \n",
    "  - `cc_pol_car`: support for emissions standards  \n",
    "\n",
    "- **Political identity** (dummy-coded):\n",
    "  - `party_democrat`, `party_republican`, `party_independent`  \n",
    "  - `ideology_liberal`, `ideology_conservative`, `ideology_moderate`\n",
    "\n",
    "- **Demographics** (treated as ordinal or binary):\n",
    "  - `dem_income_binary`: income level (low vs high)  \n",
    "  - `dem_age`: respondent's age  \n",
    "  - `dem_educ_binary`: education level (lower vs higher education)  \n",
    "  - `dem_male_binary`: gender (male vs female/self-described)\n",
    "\n",
    "* **Election-period indicator**:\n",
    "\n",
    "  * `wave3_dummy`: a binary variable equal to 1 if the observation is from Wave 3 (election wave), and 0 otherwise\n",
    "\n",
    "The full equation is:\n",
    "\n",
    "$$\n",
    "\\text{ccSolve}_t = \\alpha \n",
    "+ \\sum_{j=1}^{6} \\beta_j \\cdot H_{j,t-1} \n",
    "+ \\beta_7 \\cdot \\text{ccSolve}_{t-1} \n",
    "+ \\beta_8 \\cdot \\text{cc\\_pol\\_tax}_{t-1} \n",
    "+ \\beta_9 \\cdot \\text{cc\\_pol\\_car}_{t-1} \n",
    "+ \\sum_{k=10}^{13} \\gamma_k \\cdot D_{k,t-1} \n",
    "+ \\sum_{l=14}^{19} \\delta_l \\cdot C_{l,t-1} \n",
    "+ \\theta \\cdot \\text{wave3\\_dummy} \n",
    "+ \\epsilon_t\n",
    "$$\n",
    "\n",
    "Where:\n",
    "\n",
    "- $ H_{j,t-1} $ are the six lagged harm perception variables  \n",
    "- $ D_{k,t-1} $ are the lagged demographic covariates  \n",
    "- $ C_{l,t-1} $ are the dummy-coded political identity variables  \n",
    "- `wave3_dummy` explicitly controls for the election period\n",
    "- $ \\alpha $ is the intercept term  \n",
    "- $ \\epsilon_t $ is the individual-level error term (clustered by PID)  \n",
    "\n",
    "To assess how willingness to pay evolves over time and what factors influence it, we examine the `ccSolve_t` equation within a reduced Panel VAR(1) framework. The model is estimated using pooled OLS with **cluster-robust standard errors at the individual level**, based on 1,722 complete observations across three survey waves. This model allows us to test not only **which factors predict willingness to pay**, but also **whether the election period (Wave 3) has a distinct effect** on these attitudes. The inclusion of `wave3_dummy` makes it possible to isolate short-term shifts during the election from longer-term dynamics in the panel."
   ]
  },
  {
   "cell_type": "code",
   "execution_count": 21,
   "id": "27883d5a",
   "metadata": {},
   "outputs": [
    {
     "name": "stdout",
     "output_type": "stream",
     "text": [
      "                            OLS Regression Results                            \n",
      "==============================================================================\n",
      "Dep. Variable:                ccSolve   R-squared:                       0.075\n",
      "Model:                            OLS   Adj. R-squared:                  0.065\n",
      "Method:                 Least Squares   F-statistic:                     362.2\n",
      "Date:                Tue, 13 May 2025   Prob (F-statistic):               0.00\n",
      "Time:                        15:22:46   Log-Likelihood:                -2348.4\n",
      "No. Observations:                1722   AIC:                             4735.\n",
      "Df Residuals:                    1703   BIC:                             4838.\n",
      "Df Model:                          18                                         \n",
      "Covariance Type:              cluster                                         \n",
      "=============================================================================================\n",
      "                                coef    std err          z      P>|z|      [0.025      0.975]\n",
      "---------------------------------------------------------------------------------------------\n",
      "const                         0.6883      0.078      8.791      0.000       0.535       0.842\n",
      "cc4_world_lag                 0.0643      0.036      1.810      0.070      -0.005       0.134\n",
      "cc4_wealthUS_lag              0.0082      0.029      0.282      0.778      -0.049       0.065\n",
      "cc4_poorUS_lag                0.0329      0.034      0.960      0.337      -0.034       0.100\n",
      "cc4_comm_lag                 -0.0569      0.043     -1.322      0.186      -0.141       0.027\n",
      "cc4_famheal_lag               0.0419      0.042      0.996      0.319      -0.041       0.124\n",
      "cc4_famecon_lag               0.0317      0.029      1.086      0.278      -0.025       0.089\n",
      "ccSolve_lag                   0.0528      0.028      1.898      0.058      -0.002       0.107\n",
      "cc_pol_tax_lag                0.1088      0.025      4.308      0.000       0.059       0.158\n",
      "cc_pol_car_lag               -0.0308      0.025     -1.215      0.224      -0.080       0.019\n",
      "dem_income_binary_lag         0.0418      0.053      0.782      0.434      -0.063       0.147\n",
      "dem_age_lag                  -0.0028      0.002     -1.732      0.083      -0.006       0.000\n",
      "dem_educ_binary_lag           0.1048      0.081      1.294      0.196      -0.054       0.264\n",
      "dem_male_binary_lag           0.0666      0.048      1.386      0.166      -0.028       0.161\n",
      "party_democrat_lag            0.1956      0.053      3.662      0.000       0.091       0.300\n",
      "party_republican_lag          0.2479      0.043      5.768      0.000       0.164       0.332\n",
      "party_independent_lag         0.2448      0.047      5.241      0.000       0.153       0.336\n",
      "ideology_liberal_lag          0.2894      0.065      4.421      0.000       0.161       0.418\n",
      "ideology_conservative_lag     0.1916      0.048      3.955      0.000       0.097       0.287\n",
      "ideology_moderate_lag         0.2074      0.042      4.902      0.000       0.124       0.290\n",
      "wave3_dummy_lag              -0.0396      0.046     -0.858      0.391      -0.130       0.051\n",
      "==============================================================================\n",
      "Omnibus:                      177.887   Durbin-Watson:                   2.003\n",
      "Prob(Omnibus):                  0.000   Jarque-Bera (JB):              236.039\n",
      "Skew:                           0.905   Prob(JB):                     5.56e-52\n",
      "Kurtosis:                       3.107   Cond. No.                     1.70e+17\n",
      "==============================================================================\n",
      "\n",
      "Notes:\n",
      "[1] Standard Errors are robust to cluster correlation (cluster)\n",
      "[2] The smallest eigenvalue is 1.99e-28. This might indicate that there are\n",
      "strong multicollinearity problems or that the design matrix is singular.\n"
     ]
    },
    {
     "name": "stderr",
     "output_type": "stream",
     "text": [
      "c:\\Users\\pleivadaros\\Documents\\msc\\msc-thesis\\climate-opinions-shift-elections-policies\\.venv\\Lib\\site-packages\\statsmodels\\base\\model.py:1894: ValueWarning:\n",
      "\n",
      "covariance of constraints does not have full rank. The number of constraints is 20, but rank is 19\n",
      "\n"
     ]
    }
   ],
   "source": [
    "import statsmodels.api as sm\n",
    "\n",
    "# Define variables to be lagged (original + dummies + demographics)\n",
    "variables = [\n",
    "    \"cc4_world\", \"cc4_wealthUS\", \"cc4_poorUS\",\n",
    "    \"cc4_comm\", \"cc4_famheal\", \"cc4_famecon\",\n",
    "    \"ccSolve\", \"cc_pol_tax\", \"cc_pol_car\",\n",
    "    \"dem_income_binary\", \"dem_age\", \"dem_educ_binary\", \"dem_male_binary\",\n",
    "    \"party_democrat\", \"party_republican\", \"party_independent\",\n",
    "    \"ideology_liberal\", \"ideology_conservative\", \"ideology_moderate\",\n",
    "    \"wave3_dummy\"  # New variable for capturing election-period effect\n",
    "]\n",
    "\n",
    "# Create wave3 dummy (1 if wave == 3, else 0)\n",
    "data['wave3_dummy'] = data['WAVE'].apply(lambda x: 1 if x == 3 else 0)\n",
    "\n",
    "# Sort by PID and WAVE\n",
    "data = data.sort_values(by=['PID', 'WAVE'])\n",
    "\n",
    "# Create lagged versions of all predictors\n",
    "for var in variables:\n",
    "    data[f'{var}_lag'] = data.groupby('PID')[var].shift(1)\n",
    "\n",
    "# Drop missing values\n",
    "lagged_vars = [f'{v}_lag' for v in variables]\n",
    "panel_var_data = data.dropna(subset=lagged_vars + ['ccSolve'])\n",
    "\n",
    "# Estimate the rq2_model: ccSolve_t\n",
    "X = panel_var_data[lagged_vars]\n",
    "y = panel_var_data['ccSolve']\n",
    "X = sm.add_constant(X)\n",
    "rq2_model = sm.OLS(y, X).fit(cov_type='cluster', cov_kwds={'groups': panel_var_data['PID']})\n",
    "\n",
    "# Output results\n",
    "print(rq2_model.summary())"
   ]
  },
  {
   "cell_type": "code",
   "execution_count": 22,
   "id": "dc38c7c0",
   "metadata": {},
   "outputs": [
    {
     "data": {
      "image/png": "[encoded data removed]",
      "text/plain": [
       "<Figure size 800x1000 with 1 Axes>"
      ]
     },
     "metadata": {},
     "output_type": "display_data"
    }
   ],
   "source": [
    "import matplotlib.pyplot as plt\n",
    "import pandas as pd\n",
    "import os\n",
    "os.makedirs(\"../results\", exist_ok=True)\n",
    "\n",
    "# --- Step 1: Extract model coefficients and confidence intervals\n",
    "def extract_model_info(model):\n",
    "    coefs = model.params\n",
    "    conf = model.conf_int()\n",
    "    df = pd.DataFrame({\n",
    "        'predictor': coefs.index,\n",
    "        'coef': coefs.values,\n",
    "        'lower': conf[0].values,\n",
    "        'upper': conf[1].values\n",
    "    }).query(\"predictor != 'const'\")  # exclude intercept\n",
    "    # Add significance flag: True if CI does not include zero\n",
    "    df['significant'] = ~((df['lower'] <= 0) & (df['upper'] >= 0))\n",
    "    return df\n",
    "\n",
    "# --- Step 2: Extract info and sort predictors\n",
    "plot_df = extract_model_info(rq2_model)\n",
    "plot_df['predictor'] = plot_df['predictor'].str.replace('_lag', '', regex=False)\n",
    "plot_df = plot_df.sort_values(by='coef', ascending=True)\n",
    "\n",
    "# --- Step 3: Plot\n",
    "plt.figure(figsize=(8, 10))\n",
    "\n",
    "for _, row in plot_df.iterrows():\n",
    "    plt.errorbar(\n",
    "        row['coef'],\n",
    "        row['predictor'],\n",
    "        xerr=[[row['coef'] - row['lower']], [row['upper'] - row['coef']]],\n",
    "        fmt='o',\n",
    "        color='black' if row['significant'] else 'lightgray',\n",
    "        ecolor='black' if row['significant'] else 'lightgray',\n",
    "        capsize=4\n",
    "    )\n",
    "\n",
    "plt.axvline(x=0, color='red', linestyle='--', linewidth=1)\n",
    "plt.title(\"Dot-Whisker Plot of Coefficients for ccSolve_t\")\n",
    "plt.xlabel(\"Coefficient Estimate\")\n",
    "plt.ylabel(\"Predictor\")\n",
    "plt.tight_layout()\n",
    "plt.savefig(\"../results/rq2_dot_whisker_ccSolve_coefficients.png\", dpi=300)\n",
    "plt.show()"
   ]
  },
  {
   "cell_type": "markdown",
   "id": "0e43fdf9",
   "metadata": {},
   "source": [
    "#### Panel VAR Analysis – RQ2 (Willingness to Pay as Outcome)\n",
    "* **Strongest predictors of increased WTP (`ccSolve_t`)** are:\n",
    "  * `ideology_liberal`\n",
    "  * `party_republican`\n",
    "  * `party_independent`\n",
    "  * `ideology_moderate`\n",
    "  * `party_democrat`\n",
    "  * `ideology_conservative`\n",
    "  * (also weakly significant: `cc_pol_tax`)\n",
    "* **Election period dummy (`wave3_dummy`)** is **not statistically significant**, suggesting **no election-period shock** in willingness to pay after controlling for attitudes and identity.\n",
    "* **Most demographic and harm perception variables (gray lines)** are **not significant**, indicating that **political orientation plays a much stronger role than climate risk perception** in shaping WTP.\n",
    "\n",
    "> **Therefore, the answer to RQ2 is:**\n",
    ">\n",
    "> **Willingness to pay is stable across the election period** and is **primarily influenced by political identity**.  \n",
    "> Harm perception, demographics, and the election wave itself do **not** significantly alter WTP in this model."
   ]
  },
  {
   "cell_type": "code",
   "execution_count": 23,
   "id": "2a4fffb6",
   "metadata": {},
   "outputs": [
    {
     "data": {
      "application/vnd.plotly.v1+json": {
       "config": {
        "plotlyServerURL": "https://plot.ly"
       },
       "data": [
        {
         "hoverinfo": "none",
         "line": {
          "color": "gray",
          "width": 1
         },
         "mode": "lines",
         "type": "scatter",
         "x": [
          -0.18426949436849013,
          0.4871777791818566,
          null,
          -0.33981838369018885,
          0.4871777791818566,
          null,
          -0.34661309435519005,
          0.4871777791818566,
          null,
          0.25831320957327425,
          0.4871777791818566,
          null,
          -0.30323703397564833,
          0.4871777791818566,
          null,
          0.4532521345485529,
          0.4871777791818566,
          null,
          -0.024805116914165978,
          0.4871777791818566,
          null
         ],
         "y": [
          1,
          0.014539909213054307,
          null,
          -0.6164054545389682,
          0.014539909213054307,
          null,
          -0.061834993429304735,
          0.014539909213054307,
          null,
          0.5777673968840747,
          0.014539909213054307,
          null,
          0.32139032420703545,
          0.014539909213054307,
          null,
          -0.7470559212760292,
          0.014539909213054307,
          null,
          -0.48840126105986215,
          0.014539909213054307,
          null
         ]
        },
        {
         "hoverinfo": "text",
         "marker": {
          "color": "black",
          "size": 30
         },
         "mode": "markers+text",
         "text": [
          "cc_pol_tax_lag",
          "ccSolve_t",
          "party_democrat_lag",
          "party_republican_lag",
          "party_independent_lag",
          "ideology_liberal_lag",
          "ideology_conservative_lag",
          "ideology_moderate_lag"
         ],
         "textposition": "top center",
         "type": "scatter",
         "x": [
          -0.18426949436849013,
          0.4871777791818566,
          -0.33981838369018885,
          -0.34661309435519005,
          0.25831320957327425,
          -0.30323703397564833,
          0.4532521345485529,
          -0.024805116914165978
         ],
         "y": [
          1,
          0.014539909213054307,
          -0.6164054545389682,
          -0.061834993429304735,
          0.5777673968840747,
          0.32139032420703545,
          -0.7470559212760292,
          -0.48840126105986215
         ]
        }
       ],
       "layout": {
        "hovermode": "closest",
        "showlegend": false,
        "template": {
         "data": {
          "bar": [
           {
            "error_x": {
             "color": "#2a3f5f"
            },
            "error_y": {
             "color": "#2a3f5f"
            },
            "marker": {
             "line": {
              "color": "#E5ECF6",
              "width": 0.5
             },
             "pattern": {
              "fillmode": "overlay",
              "size": 10,
              "solidity": 0.2
             }
            },
            "type": "bar"
           }
          ],
          "barpolar": [
           {
            "marker": {
             "line": {
              "color": "#E5ECF6",
              "width": 0.5
             },
             "pattern": {
              "fillmode": "overlay",
              "size": 10,
              "solidity": 0.2
             }
            },
            "type": "barpolar"
           }
          ],
          "carpet": [
           {
            "aaxis": {
             "endlinecolor": "#2a3f5f",
             "gridcolor": "white",
             "linecolor": "white",
             "minorgridcolor": "white",
             "startlinecolor": "#2a3f5f"
            },
            "baxis": {
             "endlinecolor": "#2a3f5f",
             "gridcolor": "white",
             "linecolor": "white",
             "minorgridcolor": "white",
             "startlinecolor": "#2a3f5f"
            },
            "type": "carpet"
           }
          ],
          "choropleth": [
           {
            "colorbar": {
             "outlinewidth": 0,
             "ticks": ""
            },
            "type": "choropleth"
           }
          ],
          "contour": [
           {
            "colorbar": {
             "outlinewidth": 0,
             "ticks": ""
            },
            "colorscale": [
             [
              0,
              "#0d0887"
             ],
             [
              0.1111111111111111,
              "#46039f"
             ],
             [
              0.2222222222222222,
              "#7201a8"
             ],
             [
              0.3333333333333333,
              "#9c179e"
             ],
             [
              0.4444444444444444,
              "#bd3786"
             ],
             [
              0.5555555555555556,
              "#d8576b"
             ],
             [
              0.6666666666666666,
              "#ed7953"
             ],
             [
              0.7777777777777778,
              "#fb9f3a"
             ],
             [
              0.8888888888888888,
              "#fdca26"
             ],
             [
              1,
              "#f0f921"
             ]
            ],
            "type": "contour"
           }
          ],
          "contourcarpet": [
           {
            "colorbar": {
             "outlinewidth": 0,
             "ticks": ""
            },
            "type": "contourcarpet"
           }
          ],
          "heatmap": [
           {
            "colorbar": {
             "outlinewidth": 0,
             "ticks": ""
            },
            "colorscale": [
             [
              0,
              "#0d0887"
             ],
             [
              0.1111111111111111,
              "#46039f"
             ],
             [
              0.2222222222222222,
              "#7201a8"
             ],
             [
              0.3333333333333333,
              "#9c179e"
             ],
             [
              0.4444444444444444,
              "#bd3786"
             ],
             [
              0.5555555555555556,
              "#d8576b"
             ],
             [
              0.6666666666666666,
              "#ed7953"
             ],
             [
              0.7777777777777778,
              "#fb9f3a"
             ],
             [
              0.8888888888888888,
              "#fdca26"
             ],
             [
              1,
              "#f0f921"
             ]
            ],
            "type": "heatmap"
           }
          ],
          "histogram": [
           {
            "marker": {
             "pattern": {
              "fillmode": "overlay",
              "size": 10,
              "solidity": 0.2
             }
            },
            "type": "histogram"
           }
          ],
          "histogram2d": [
           {
            "colorbar": {
             "outlinewidth": 0,
             "ticks": ""
            },
            "colorscale": [
             [
              0,
              "#0d0887"
             ],
             [
              0.1111111111111111,
              "#46039f"
             ],
             [
              0.2222222222222222,
              "#7201a8"
             ],
             [
              0.3333333333333333,
              "#9c179e"
             ],
             [
              0.4444444444444444,
              "#bd3786"
             ],
             [
              0.5555555555555556,
              "#d8576b"
             ],
             [
              0.6666666666666666,
              "#ed7953"
             ],
             [
              0.7777777777777778,
              "#fb9f3a"
             ],
             [
              0.8888888888888888,
              "#fdca26"
             ],
             [
              1,
              "#f0f921"
             ]
            ],
            "type": "histogram2d"
           }
          ],
          "histogram2dcontour": [
           {
            "colorbar": {
             "outlinewidth": 0,
             "ticks": ""
            },
            "colorscale": [
             [
              0,
              "#0d0887"
             ],
             [
              0.1111111111111111,
              "#46039f"
             ],
             [
              0.2222222222222222,
              "#7201a8"
             ],
             [
              0.3333333333333333,
              "#9c179e"
             ],
             [
              0.4444444444444444,
              "#bd3786"
             ],
             [
              0.5555555555555556,
              "#d8576b"
             ],
             [
              0.6666666666666666,
              "#ed7953"
             ],
             [
              0.7777777777777778,
              "#fb9f3a"
             ],
             [
              0.8888888888888888,
              "#fdca26"
             ],
             [
              1,
              "#f0f921"
             ]
            ],
            "type": "histogram2dcontour"
           }
          ],
          "mesh3d": [
           {
            "colorbar": {
             "outlinewidth": 0,
             "ticks": ""
            },
            "type": "mesh3d"
           }
          ],
          "parcoords": [
           {
            "line": {
             "colorbar": {
              "outlinewidth": 0,
              "ticks": ""
             }
            },
            "type": "parcoords"
           }
          ],
          "pie": [
           {
            "automargin": true,
            "type": "pie"
           }
          ],
          "scatter": [
           {
            "fillpattern": {
             "fillmode": "overlay",
             "size": 10,
             "solidity": 0.2
            },
            "type": "scatter"
           }
          ],
          "scatter3d": [
           {
            "line": {
             "colorbar": {
              "outlinewidth": 0,
              "ticks": ""
             }
            },
            "marker": {
             "colorbar": {
              "outlinewidth": 0,
              "ticks": ""
             }
            },
            "type": "scatter3d"
           }
          ],
          "scattercarpet": [
           {
            "marker": {
             "colorbar": {
              "outlinewidth": 0,
              "ticks": ""
             }
            },
            "type": "scattercarpet"
           }
          ],
          "scattergeo": [
           {
            "marker": {
             "colorbar": {
              "outlinewidth": 0,
              "ticks": ""
             }
            },
            "type": "scattergeo"
           }
          ],
          "scattergl": [
           {
            "marker": {
             "colorbar": {
              "outlinewidth": 0,
              "ticks": ""
             }
            },
            "type": "scattergl"
           }
          ],
          "scattermap": [
           {
            "marker": {
             "colorbar": {
              "outlinewidth": 0,
              "ticks": ""
             }
            },
            "type": "scattermap"
           }
          ],
          "scattermapbox": [
           {
            "marker": {
             "colorbar": {
              "outlinewidth": 0,
              "ticks": ""
             }
            },
            "type": "scattermapbox"
           }
          ],
          "scatterpolar": [
           {
            "marker": {
             "colorbar": {
              "outlinewidth": 0,
              "ticks": ""
             }
            },
            "type": "scatterpolar"
           }
          ],
          "scatterpolargl": [
           {
            "marker": {
             "colorbar": {
              "outlinewidth": 0,
              "ticks": ""
             }
            },
            "type": "scatterpolargl"
           }
          ],
          "scatterternary": [
           {
            "marker": {
             "colorbar": {
              "outlinewidth": 0,
              "ticks": ""
             }
            },
            "type": "scatterternary"
           }
          ],
          "surface": [
           {
            "colorbar": {
             "outlinewidth": 0,
             "ticks": ""
            },
            "colorscale": [
             [
              0,
              "#0d0887"
             ],
             [
              0.1111111111111111,
              "#46039f"
             ],
             [
              0.2222222222222222,
              "#7201a8"
             ],
             [
              0.3333333333333333,
              "#9c179e"
             ],
             [
              0.4444444444444444,
              "#bd3786"
             ],
             [
              0.5555555555555556,
              "#d8576b"
             ],
             [
              0.6666666666666666,
              "#ed7953"
             ],
             [
              0.7777777777777778,
              "#fb9f3a"
             ],
             [
              0.8888888888888888,
              "#fdca26"
             ],
             [
              1,
              "#f0f921"
             ]
            ],
            "type": "surface"
           }
          ],
          "table": [
           {
            "cells": {
             "fill": {
              "color": "#EBF0F8"
             },
             "line": {
              "color": "white"
             }
            },
            "header": {
             "fill": {
              "color": "#C8D4E3"
             },
             "line": {
              "color": "white"
             }
            },
            "type": "table"
           }
          ]
         },
         "layout": {
          "annotationdefaults": {
           "arrowcolor": "#2a3f5f",
           "arrowhead": 0,
           "arrowwidth": 1
          },
          "autotypenumbers": "strict",
          "coloraxis": {
           "colorbar": {
            "outlinewidth": 0,
            "ticks": ""
           }
          },
          "colorscale": {
           "diverging": [
            [
             0,
             "#8e0152"
            ],
            [
             0.1,
             "#c51b7d"
            ],
            [
             0.2,
             "#de77ae"
            ],
            [
             0.3,
             "#f1b6da"
            ],
            [
             0.4,
             "#fde0ef"
            ],
            [
             0.5,
             "#f7f7f7"
            ],
            [
             0.6,
             "#e6f5d0"
            ],
            [
             0.7,
             "#b8e186"
            ],
            [
             0.8,
             "#7fbc41"
            ],
            [
             0.9,
             "#4d9221"
            ],
            [
             1,
             "#276419"
            ]
           ],
           "sequential": [
            [
             0,
             "#0d0887"
            ],
            [
             0.1111111111111111,
             "#46039f"
            ],
            [
             0.2222222222222222,
             "#7201a8"
            ],
            [
             0.3333333333333333,
             "#9c179e"
            ],
            [
             0.4444444444444444,
             "#bd3786"
            ],
            [
             0.5555555555555556,
             "#d8576b"
            ],
            [
             0.6666666666666666,
             "#ed7953"
            ],
            [
             0.7777777777777778,
             "#fb9f3a"
            ],
            [
             0.8888888888888888,
             "#fdca26"
            ],
            [
             1,
             "#f0f921"
            ]
           ],
           "sequentialminus": [
            [
             0,
             "#0d0887"
            ],
            [
             0.1111111111111111,
             "#46039f"
            ],
            [
             0.2222222222222222,
             "#7201a8"
            ],
            [
             0.3333333333333333,
             "#9c179e"
            ],
            [
             0.4444444444444444,
             "#bd3786"
            ],
            [
             0.5555555555555556,
             "#d8576b"
            ],
            [
             0.6666666666666666,
             "#ed7953"
            ],
            [
             0.7777777777777778,
             "#fb9f3a"
            ],
            [
             0.8888888888888888,
             "#fdca26"
            ],
            [
             1,
             "#f0f921"
            ]
           ]
          },
          "colorway": [
           "#636efa",
           "#EF553B",
           "#00cc96",
           "#ab63fa",
           "#FFA15A",
           "#19d3f3",
           "#FF6692",
           "#B6E880",
           "#FF97FF",
           "#FECB52"
          ],
          "font": {
           "color": "#2a3f5f"
          },
          "geo": {
           "bgcolor": "white",
           "lakecolor": "white",
           "landcolor": "#E5ECF6",
           "showlakes": true,
           "showland": true,
           "subunitcolor": "white"
          },
          "hoverlabel": {
           "align": "left"
          },
          "hovermode": "closest",
          "mapbox": {
           "style": "light"
          },
          "paper_bgcolor": "white",
          "plot_bgcolor": "#E5ECF6",
          "polar": {
           "angularaxis": {
            "gridcolor": "white",
            "linecolor": "white",
            "ticks": ""
           },
           "bgcolor": "#E5ECF6",
           "radialaxis": {
            "gridcolor": "white",
            "linecolor": "white",
            "ticks": ""
           }
          },
          "scene": {
           "xaxis": {
            "backgroundcolor": "#E5ECF6",
            "gridcolor": "white",
            "gridwidth": 2,
            "linecolor": "white",
            "showbackground": true,
            "ticks": "",
            "zerolinecolor": "white"
           },
           "yaxis": {
            "backgroundcolor": "#E5ECF6",
            "gridcolor": "white",
            "gridwidth": 2,
            "linecolor": "white",
            "showbackground": true,
            "ticks": "",
            "zerolinecolor": "white"
           },
           "zaxis": {
            "backgroundcolor": "#E5ECF6",
            "gridcolor": "white",
            "gridwidth": 2,
            "linecolor": "white",
            "showbackground": true,
            "ticks": "",
            "zerolinecolor": "white"
           }
          },
          "shapedefaults": {
           "line": {
            "color": "#2a3f5f"
           }
          },
          "ternary": {
           "aaxis": {
            "gridcolor": "white",
            "linecolor": "white",
            "ticks": ""
           },
           "baxis": {
            "gridcolor": "white",
            "linecolor": "white",
            "ticks": ""
           },
           "bgcolor": "#E5ECF6",
           "caxis": {
            "gridcolor": "white",
            "linecolor": "white",
            "ticks": ""
           }
          },
          "title": {
           "x": 0.05
          },
          "xaxis": {
           "automargin": true,
           "gridcolor": "white",
           "linecolor": "white",
           "ticks": "",
           "title": {
            "standoff": 15
           },
           "zerolinecolor": "white",
           "zerolinewidth": 2
          },
          "yaxis": {
           "automargin": true,
           "gridcolor": "white",
           "linecolor": "white",
           "ticks": "",
           "title": {
            "standoff": 15
           },
           "zerolinecolor": "white",
           "zerolinewidth": 2
          }
         }
        },
        "title": {
         "text": "Interactive VAR Graph (ccSolve_t)"
        }
       }
      }
     },
     "metadata": {},
     "output_type": "display_data"
    }
   ],
   "source": [
    "import plotly.graph_objects as go\n",
    "import networkx as nx\n",
    "import plotly.io as pio\n",
    "\n",
    "# Build the directed graph using rq2_model results (significant edges only)\n",
    "G = nx.DiGraph()\n",
    "\n",
    "# Extract coefficients and CIs from your actual model\n",
    "coefs = rq2_model.params\n",
    "conf_int = rq2_model.conf_int()\n",
    "significant_edges = []\n",
    "\n",
    "for predictor in coefs.index:\n",
    "    if predictor == 'const':\n",
    "        continue\n",
    "    lower, upper = conf_int.loc[predictor]\n",
    "    if lower > 0 or upper < 0:  # significance test\n",
    "        G.add_edge(predictor, 'ccSolve_t', weight=coefs[predictor])\n",
    "        significant_edges.append((predictor, coefs[predictor]))\n",
    "\n",
    "# Generate layout\n",
    "pos = nx.spring_layout(G, seed=42)\n",
    "\n",
    "# Extract edge positions\n",
    "edge_x, edge_y = [], []\n",
    "for u, v in G.edges():\n",
    "    x0, y0 = pos[u]\n",
    "    x1, y1 = pos[v]\n",
    "    edge_x += [x0, x1, None]\n",
    "    edge_y += [y0, y1, None]\n",
    "\n",
    "# Create edge trace\n",
    "edge_trace = go.Scatter(\n",
    "    x=edge_x, y=edge_y,\n",
    "    line=dict(width=1, color='gray'),\n",
    "    hoverinfo='none',\n",
    "    mode='lines'\n",
    ")\n",
    "\n",
    "# Create node trace\n",
    "node_x, node_y = zip(*[pos[n] for n in G.nodes()])\n",
    "node_trace = go.Scatter(\n",
    "    x=node_x, y=node_y,\n",
    "    mode='markers+text',\n",
    "    text=list(G.nodes()),\n",
    "    textposition=\"top center\",\n",
    "    marker=dict(size=30, color='black'),\n",
    "    hoverinfo='text'\n",
    ")\n",
    "\n",
    "# Plot the graph\n",
    "fig = go.Figure(data=[edge_trace, node_trace])\n",
    "fig.update_layout(\n",
    "    title=\"Interactive VAR Graph (ccSolve_t)\",\n",
    "    showlegend=False,\n",
    "    hovermode='closest'\n",
    ")\n",
    "fig.write_html(\"../results/rq2_var_graph_cc_Solve.html\")\n",
    "fig.show()"
   ]
  },
  {
   "cell_type": "markdown",
   "id": "fbe0dc2a",
   "metadata": {},
   "source": [
    "---"
   ]
  },
  {
   "cell_type": "markdown",
   "id": "398d45d9",
   "metadata": {},
   "source": [
    "### **RQ3. Does political ideology moderate the relationship between perceptions of harm and willingness to pay for climate solutions?**\n",
    "\n",
    "To address this question, we extend the **Panel VAR(1)** framework by estimating a model where `ccSolve_t` (willingness to financially support climate action) is the dependent variable. Our aim is to test whether the effect of perceived climate harm on willingness to pay differs depending on respondents' political ideology.\n",
    "\n",
    "Specifically, we include **interaction terms between ideology indicators and harm perception variables**. This allows us to assess whether the strength or direction of these effects varies across ideological groups. The model includes the lagged values of all predictors and an indicator variable for the election wave.\n",
    "\n",
    "* **Harm perceptions**: `cc4_world`, `cc4_wealthUS`, `cc4_poorUS`, `cc4_comm`, `cc4_famheal`, `cc4_famecon`\n",
    "* **Political ideology**: `ideology_liberal`, `ideology_conservative`, `ideology_moderate` — dummy-coded\n",
    "* **Interaction terms**: e.g., `cc4_world × ideology_liberal`, `cc4_comm × ideology_conservative`, etc.\n",
    "* **Other predictors**:\n",
    "\n",
    "  * **Willingness to pay**: `ccSolve`\n",
    "  * **Policy support**: `cc_pol_tax`, `cc_pol_car`\n",
    "  * **Demographics**: `dem_income_binary`, `dem_educ_binary`, `dem_age`, `dem_male_binary`\n",
    "  * **Election-period control**: `wave3_dummy`\n",
    "\n",
    "The regression equation is estimated as:\n",
    "\n",
    "$$\n",
    "\\text{ccSolve}_t = \\alpha + \\sum_{j=1}^{6} \\beta_j \\cdot H_{j,t-1} \n",
    "+ \\sum_{k=1}^{3} \\gamma_k \\cdot I_{k} \n",
    "+ \\sum_{j=1}^{6} \\sum_{k=1}^{3} \\delta_{jk} \\cdot (H_{j,t-1} \\cdot I_k) \n",
    "+ \\theta \\cdot \\text{wave3\\_dummy}_t \n",
    "+ \\sum_{l} \\lambda_l \\cdot Z_{l,t-1} \n",
    "+ \\epsilon_t\n",
    "$$\n",
    "\n",
    "Where:\n",
    "\n",
    "* $H_{j,t-1}$ are the lagged harm perception variables\n",
    "* $I_k$ are the political ideology dummies\n",
    "* $H_{j,t-1} \\cdot I_k$ are the interaction terms between perceptions and ideology\n",
    "* $Z_{l,t-1}$ are other controls (policy support, demographics)\n",
    "* $\\theta$ captures the election-period effect via `wave3_dummy_t`\n",
    "* $\\epsilon_t$ is the error term, clustered at the respondent level\n",
    "\n",
    "By interacting ideology with harm perceptions, we test whether **liberals, moderates, and conservatives respond differently to climate risks when forming their willingness to pay**. The model is estimated using **pooled OLS** with **cluster-robust standard errors**, based on respondents from Waves 2, 3, and 4. This approach allows us to explore **moderation effects** while accounting for temporal dependencies and election timing."
   ]
  },
  {
   "cell_type": "code",
   "execution_count": 24,
   "id": "6674662b",
   "metadata": {},
   "outputs": [
    {
     "name": "stdout",
     "output_type": "stream",
     "text": [
      "\n",
      "==================================================\n",
      "                                         ccSolve_t\n",
      "--------------------------------------------------\n",
      "const                                    0.8872***\n",
      "                                         (0.1166) \n",
      "cc4_world_lag                            0.0423   \n",
      "                                         (0.0301) \n",
      "cc4_wealthUS_lag                         0.0069   \n",
      "                                         (0.0212) \n",
      "cc4_poorUS_lag                           0.0169   \n",
      "                                         (0.0283) \n",
      "cc4_comm_lag                             -0.0466  \n",
      "                                         (0.0329) \n",
      "cc4_famheal_lag                          0.0435   \n",
      "                                         (0.0330) \n",
      "cc4_famecon_lag                          0.0173   \n",
      "                                         (0.0226) \n",
      "ccSolve_lag                              0.0516*  \n",
      "                                         (0.0279) \n",
      "cc_pol_tax_lag                           0.1044***\n",
      "                                         (0.0255) \n",
      "cc_pol_car_lag                           -0.0317  \n",
      "                                         (0.0253) \n",
      "dem_income_binary_lag                    0.0469   \n",
      "                                         (0.0539) \n",
      "dem_age_lag                              -0.0026  \n",
      "                                         (0.0016) \n",
      "dem_educ_binary_lag                      0.1055   \n",
      "                                         (0.0809) \n",
      "dem_male_binary_lag                      0.0716   \n",
      "                                         (0.0483) \n",
      "ideology_liberal                         0.5238** \n",
      "                                         (0.2369) \n",
      "ideology_conservative                    0.1438   \n",
      "                                         (0.1021) \n",
      "ideology_moderate                        0.2196*  \n",
      "                                         (0.1146) \n",
      "cc4_world_x_ideology_liberal_lag         -0.0056  \n",
      "                                         (0.0688) \n",
      "cc4_world_x_ideology_conservative_lag    0.0377   \n",
      "                                         (0.0466) \n",
      "cc4_world_x_ideology_moderate_lag        0.0102   \n",
      "                                         (0.0438) \n",
      "cc4_wealthUS_x_ideology_liberal_lag      -0.0149  \n",
      "                                         (0.0436) \n",
      "cc4_wealthUS_x_ideology_conservative_lag 0.0049   \n",
      "                                         (0.0389) \n",
      "cc4_wealthUS_x_ideology_moderate_lag     0.0169   \n",
      "                                         (0.0397) \n",
      "cc4_poorUS_x_ideology_liberal_lag        0.0108   \n",
      "                                         (0.0655) \n",
      "cc4_poorUS_x_ideology_conservative_lag   -0.0079  \n",
      "                                         (0.0491) \n",
      "cc4_poorUS_x_ideology_moderate_lag       0.0141   \n",
      "                                         (0.0445) \n",
      "cc4_comm_x_ideology_liberal_lag          -0.0639  \n",
      "                                         (0.0729) \n",
      "cc4_comm_x_ideology_conservative_lag     0.0026   \n",
      "                                         (0.0600) \n",
      "cc4_comm_x_ideology_moderate_lag         0.0147   \n",
      "                                         (0.0543) \n",
      "cc4_famheal_x_ideology_liberal_lag       0.0469   \n",
      "                                         (0.0726) \n",
      "cc4_famheal_x_ideology_conservative_lag  0.0467   \n",
      "                                         (0.0627) \n",
      "cc4_famheal_x_ideology_moderate_lag      -0.0502  \n",
      "                                         (0.0534) \n",
      "cc4_famecon_x_ideology_liberal_lag       0.0083   \n",
      "                                         (0.0468) \n",
      "cc4_famecon_x_ideology_conservative_lag  -0.0257  \n",
      "                                         (0.0462) \n",
      "cc4_famecon_x_ideology_moderate_lag      0.0347   \n",
      "                                         (0.0385) \n",
      "wave3_dummy                              0.0419   \n",
      "                                         (0.0461) \n",
      "R-squared                                0.0771   \n",
      "R-squared Adj.                           0.0618   \n",
      "N                                        1722     \n",
      "==================================================\n",
      "Standard errors in parentheses.\n",
      "* p<.1, ** p<.05, ***p<.01\n"
     ]
    }
   ],
   "source": [
    "import pandas as pd\n",
    "import statsmodels.api as sm\n",
    "from statsmodels.iolib.summary2 import summary_col\n",
    "\n",
    "# Define variable groups\n",
    "harm_vars = [\"cc4_world\", \"cc4_wealthUS\", \"cc4_poorUS\", \"cc4_comm\", \"cc4_famheal\", \"cc4_famecon\"]\n",
    "ideology_dummies = [\"ideology_liberal\", \"ideology_conservative\", \"ideology_moderate\"]\n",
    "controls = [\"ccSolve\", \"cc_pol_tax\", \"cc_pol_car\", \"dem_income_binary\", \"dem_age\", \"dem_educ_binary\", \"dem_male_binary\"]\n",
    "wave_dummy = [\"wave3_dummy\"]\n",
    "\n",
    "# Sort by PID and WAVE\n",
    "data = data.sort_values(by=[\"PID\", \"WAVE\"])\n",
    "\n",
    "# Create lagged variables\n",
    "for var in harm_vars + controls:\n",
    "    data[f\"{var}_lag\"] = data.groupby(\"PID\")[var].shift(1)\n",
    "\n",
    "# Create interaction terms between lagged harm perception and ideology\n",
    "for harm in harm_vars:\n",
    "    for ideology in ideology_dummies:\n",
    "        data[f\"{harm}_x_{ideology}_lag\"] = data.groupby(\"PID\")[harm].shift(1) * data[ideology]\n",
    "\n",
    "# Combine all predictors\n",
    "lagged_vars = [f\"{var}_lag\" for var in harm_vars + controls]\n",
    "interaction_terms = [f\"{h}_x_{i}_lag\" for h in harm_vars for i in ideology_dummies]\n",
    "all_predictors = lagged_vars + ideology_dummies + interaction_terms + wave_dummy\n",
    "\n",
    "# Drop missing rows\n",
    "panel_var_data = data.dropna(subset=all_predictors + [\"ccSolve\"])\n",
    "\n",
    "# Define outcome and predictors\n",
    "X = panel_var_data[all_predictors]\n",
    "y = panel_var_data[\"ccSolve\"]\n",
    "X = sm.add_constant(X)\n",
    "\n",
    "# Fit model\n",
    "rq3_model = sm.OLS(y, X).fit(cov_type=\"cluster\", cov_kwds={\"groups\": panel_var_data[\"PID\"]})\n",
    "\n",
    "# Print summary\n",
    "print(summary_col([rq3_model], stars=True, model_names=[\"ccSolve_t\"],\n",
    "                  info_dict={\"N\": lambda x: f\"{int(x.nobs)}\"}))\n"
   ]
  },
  {
   "cell_type": "code",
   "execution_count": 25,
   "id": "c69873ea",
   "metadata": {},
   "outputs": [
    {
     "data": {
      "image/png": "[encoded data removed]",
      "text/plain": [
       "<Figure size 1000x1200 with 1 Axes>"
      ]
     },
     "metadata": {},
     "output_type": "display_data"
    }
   ],
   "source": [
    "import matplotlib.pyplot as plt\n",
    "import pandas as pd\n",
    "import os\n",
    "os.makedirs(\"../results\", exist_ok=True)\n",
    "\n",
    "# --- Helper function for RQ3 model\n",
    "def extract_rq3_model_info(model):\n",
    "    coefs = model.params\n",
    "    conf = model.conf_int()\n",
    "    df = pd.DataFrame({\n",
    "        'predictor': coefs.index,\n",
    "        'coef': coefs.values,\n",
    "        'lower': conf[0].values,\n",
    "        'upper': conf[1].values\n",
    "    }).query(\"predictor != 'const'\")\n",
    "    \n",
    "    # Add significance flag\n",
    "    df['significant'] = ~((df['lower'] <= 0) & (df['upper'] >= 0))\n",
    "    \n",
    "    # Optional: clean up names (e.g., _lag suffix, underscore spacing)\n",
    "    df['predictor'] = df['predictor'].str.replace('_lag', '', regex=False)\n",
    "    df['predictor'] = df['predictor'].str.replace(':', ' × ')  # for interaction terms\n",
    "    return df.sort_values(by='coef', ascending=True)\n",
    "\n",
    "# --- Extract model info\n",
    "plot_df = extract_rq3_model_info(rq3_model)\n",
    "\n",
    "# --- Plotting\n",
    "plt.figure(figsize=(10, 12))\n",
    "for _, row in plot_df.iterrows():\n",
    "    color = 'tab:green' if row['significant'] else 'lightgray'\n",
    "    plt.errorbar(\n",
    "        row['coef'],\n",
    "        row['predictor'],\n",
    "        xerr=[[row['coef'] - row['lower']], [row['upper'] - row['coef']]],\n",
    "        fmt='o',\n",
    "        color=color,\n",
    "        ecolor=color,\n",
    "        capsize=4\n",
    "    )\n",
    "\n",
    "plt.axvline(0, color='gray', linestyle='--')\n",
    "plt.title(\"RQ3: Moderating Effect of Political Ideology on Climate Harm Perception → WTP\")\n",
    "plt.xlabel(\"Coefficient Estimate\")\n",
    "plt.ylabel(\"Predictor or Interaction\")\n",
    "plt.tight_layout()\n",
    "plt.savefig(\"../results/rq3_dot_whisker_moderation.png\", dpi=300)\n",
    "plt.show()"
   ]
  },
  {
   "cell_type": "markdown",
   "id": "b25f07d1",
   "metadata": {},
   "source": [
    "#### Interaction Model – RQ3 (Ideology Moderates Harm → WTP)\n",
    "* The **main effects of political ideology** are clear:\n",
    "  * `ideology_liberal` has the **strongest positive association** with WTP and is **statistically significant**\n",
    "* **None of the interaction terms** between harm perception variables (e.g., `cc4_world`, `cc4_comm`) and ideology groups are significant.\n",
    "  * This suggests that **climate harm perception does not have a different impact on WTP depending on ideological alignment**\n",
    "* Other control variables such as `cc_pol_tax` retain a **direct positive effect**, but **harm perception and demographic controls** remain **statistically insignificant**\n",
    "\n",
    "> **Therefore, the answer to RQ3 is:**\n",
    ">\n",
    "> While political ideology is a **strong direct predictor** of willingness to pay, it does **not moderate** the effect of perceived climate harm.\n",
    "> That is, **liberals, moderates, and conservatives react similarly** to perceived climate risks when it comes to financial support - what differs is their baseline support level, not the responsiveness to climate concern.\n"
   ]
  },
  {
   "cell_type": "code",
   "execution_count": 26,
   "id": "3bb91657",
   "metadata": {},
   "outputs": [
    {
     "data": {
      "application/vnd.plotly.v1+json": {
       "config": {
        "plotlyServerURL": "https://plot.ly"
       },
       "data": [
        {
         "hoverinfo": "none",
         "line": {
          "color": "gray",
          "width": 1
         },
         "mode": "lines",
         "type": "scatter",
         "x": [
          -0.5934908775635137,
          0.688743904482135,
          null,
          -0.09525302691862103,
          0.688743904482135,
          null
         ],
         "y": [
          0.9999999999999999,
          -0.17613685432748816,
          null,
          -0.8238631456725115,
          -0.17613685432748816,
          null
         ]
        },
        {
         "hoverinfo": "text",
         "marker": {
          "color": [
           "green",
           "green",
           "green"
          ],
          "size": 30
         },
         "mode": "markers+text",
         "text": [
          "cc_pol_tax_lag",
          "ccSolve_t",
          "ideology_liberal"
         ],
         "textposition": "top center",
         "type": "scatter",
         "x": [
          -0.5934908775635137,
          0.688743904482135,
          -0.09525302691862103
         ],
         "y": [
          0.9999999999999999,
          -0.17613685432748816,
          -0.8238631456725115
         ]
        }
       ],
       "layout": {
        "hovermode": "closest",
        "showlegend": false,
        "template": {
         "data": {
          "bar": [
           {
            "error_x": {
             "color": "#2a3f5f"
            },
            "error_y": {
             "color": "#2a3f5f"
            },
            "marker": {
             "line": {
              "color": "#E5ECF6",
              "width": 0.5
             },
             "pattern": {
              "fillmode": "overlay",
              "size": 10,
              "solidity": 0.2
             }
            },
            "type": "bar"
           }
          ],
          "barpolar": [
           {
            "marker": {
             "line": {
              "color": "#E5ECF6",
              "width": 0.5
             },
             "pattern": {
              "fillmode": "overlay",
              "size": 10,
              "solidity": 0.2
             }
            },
            "type": "barpolar"
           }
          ],
          "carpet": [
           {
            "aaxis": {
             "endlinecolor": "#2a3f5f",
             "gridcolor": "white",
             "linecolor": "white",
             "minorgridcolor": "white",
             "startlinecolor": "#2a3f5f"
            },
            "baxis": {
             "endlinecolor": "#2a3f5f",
             "gridcolor": "white",
             "linecolor": "white",
             "minorgridcolor": "white",
             "startlinecolor": "#2a3f5f"
            },
            "type": "carpet"
           }
          ],
          "choropleth": [
           {
            "colorbar": {
             "outlinewidth": 0,
             "ticks": ""
            },
            "type": "choropleth"
           }
          ],
          "contour": [
           {
            "colorbar": {
             "outlinewidth": 0,
             "ticks": ""
            },
            "colorscale": [
             [
              0,
              "#0d0887"
             ],
             [
              0.1111111111111111,
              "#46039f"
             ],
             [
              0.2222222222222222,
              "#7201a8"
             ],
             [
              0.3333333333333333,
              "#9c179e"
             ],
             [
              0.4444444444444444,
              "#bd3786"
             ],
             [
              0.5555555555555556,
              "#d8576b"
             ],
             [
              0.6666666666666666,
              "#ed7953"
             ],
             [
              0.7777777777777778,
              "#fb9f3a"
             ],
             [
              0.8888888888888888,
              "#fdca26"
             ],
             [
              1,
              "#f0f921"
             ]
            ],
            "type": "contour"
           }
          ],
          "contourcarpet": [
           {
            "colorbar": {
             "outlinewidth": 0,
             "ticks": ""
            },
            "type": "contourcarpet"
           }
          ],
          "heatmap": [
           {
            "colorbar": {
             "outlinewidth": 0,
             "ticks": ""
            },
            "colorscale": [
             [
              0,
              "#0d0887"
             ],
             [
              0.1111111111111111,
              "#46039f"
             ],
             [
              0.2222222222222222,
              "#7201a8"
             ],
             [
              0.3333333333333333,
              "#9c179e"
             ],
             [
              0.4444444444444444,
              "#bd3786"
             ],
             [
              0.5555555555555556,
              "#d8576b"
             ],
             [
              0.6666666666666666,
              "#ed7953"
             ],
             [
              0.7777777777777778,
              "#fb9f3a"
             ],
             [
              0.8888888888888888,
              "#fdca26"
             ],
             [
              1,
              "#f0f921"
             ]
            ],
            "type": "heatmap"
           }
          ],
          "histogram": [
           {
            "marker": {
             "pattern": {
              "fillmode": "overlay",
              "size": 10,
              "solidity": 0.2
             }
            },
            "type": "histogram"
           }
          ],
          "histogram2d": [
           {
            "colorbar": {
             "outlinewidth": 0,
             "ticks": ""
            },
            "colorscale": [
             [
              0,
              "#0d0887"
             ],
             [
              0.1111111111111111,
              "#46039f"
             ],
             [
              0.2222222222222222,
              "#7201a8"
             ],
             [
              0.3333333333333333,
              "#9c179e"
             ],
             [
              0.4444444444444444,
              "#bd3786"
             ],
             [
              0.5555555555555556,
              "#d8576b"
             ],
             [
              0.6666666666666666,
              "#ed7953"
             ],
             [
              0.7777777777777778,
              "#fb9f3a"
             ],
             [
              0.8888888888888888,
              "#fdca26"
             ],
             [
              1,
              "#f0f921"
             ]
            ],
            "type": "histogram2d"
           }
          ],
          "histogram2dcontour": [
           {
            "colorbar": {
             "outlinewidth": 0,
             "ticks": ""
            },
            "colorscale": [
             [
              0,
              "#0d0887"
             ],
             [
              0.1111111111111111,
              "#46039f"
             ],
             [
              0.2222222222222222,
              "#7201a8"
             ],
             [
              0.3333333333333333,
              "#9c179e"
             ],
             [
              0.4444444444444444,
              "#bd3786"
             ],
             [
              0.5555555555555556,
              "#d8576b"
             ],
             [
              0.6666666666666666,
              "#ed7953"
             ],
             [
              0.7777777777777778,
              "#fb9f3a"
             ],
             [
              0.8888888888888888,
              "#fdca26"
             ],
             [
              1,
              "#f0f921"
             ]
            ],
            "type": "histogram2dcontour"
           }
          ],
          "mesh3d": [
           {
            "colorbar": {
             "outlinewidth": 0,
             "ticks": ""
            },
            "type": "mesh3d"
           }
          ],
          "parcoords": [
           {
            "line": {
             "colorbar": {
              "outlinewidth": 0,
              "ticks": ""
             }
            },
            "type": "parcoords"
           }
          ],
          "pie": [
           {
            "automargin": true,
            "type": "pie"
           }
          ],
          "scatter": [
           {
            "fillpattern": {
             "fillmode": "overlay",
             "size": 10,
             "solidity": 0.2
            },
            "type": "scatter"
           }
          ],
          "scatter3d": [
           {
            "line": {
             "colorbar": {
              "outlinewidth": 0,
              "ticks": ""
             }
            },
            "marker": {
             "colorbar": {
              "outlinewidth": 0,
              "ticks": ""
             }
            },
            "type": "scatter3d"
           }
          ],
          "scattercarpet": [
           {
            "marker": {
             "colorbar": {
              "outlinewidth": 0,
              "ticks": ""
             }
            },
            "type": "scattercarpet"
           }
          ],
          "scattergeo": [
           {
            "marker": {
             "colorbar": {
              "outlinewidth": 0,
              "ticks": ""
             }
            },
            "type": "scattergeo"
           }
          ],
          "scattergl": [
           {
            "marker": {
             "colorbar": {
              "outlinewidth": 0,
              "ticks": ""
             }
            },
            "type": "scattergl"
           }
          ],
          "scattermap": [
           {
            "marker": {
             "colorbar": {
              "outlinewidth": 0,
              "ticks": ""
             }
            },
            "type": "scattermap"
           }
          ],
          "scattermapbox": [
           {
            "marker": {
             "colorbar": {
              "outlinewidth": 0,
              "ticks": ""
             }
            },
            "type": "scattermapbox"
           }
          ],
          "scatterpolar": [
           {
            "marker": {
             "colorbar": {
              "outlinewidth": 0,
              "ticks": ""
             }
            },
            "type": "scatterpolar"
           }
          ],
          "scatterpolargl": [
           {
            "marker": {
             "colorbar": {
              "outlinewidth": 0,
              "ticks": ""
             }
            },
            "type": "scatterpolargl"
           }
          ],
          "scatterternary": [
           {
            "marker": {
             "colorbar": {
              "outlinewidth": 0,
              "ticks": ""
             }
            },
            "type": "scatterternary"
           }
          ],
          "surface": [
           {
            "colorbar": {
             "outlinewidth": 0,
             "ticks": ""
            },
            "colorscale": [
             [
              0,
              "#0d0887"
             ],
             [
              0.1111111111111111,
              "#46039f"
             ],
             [
              0.2222222222222222,
              "#7201a8"
             ],
             [
              0.3333333333333333,
              "#9c179e"
             ],
             [
              0.4444444444444444,
              "#bd3786"
             ],
             [
              0.5555555555555556,
              "#d8576b"
             ],
             [
              0.6666666666666666,
              "#ed7953"
             ],
             [
              0.7777777777777778,
              "#fb9f3a"
             ],
             [
              0.8888888888888888,
              "#fdca26"
             ],
             [
              1,
              "#f0f921"
             ]
            ],
            "type": "surface"
           }
          ],
          "table": [
           {
            "cells": {
             "fill": {
              "color": "#EBF0F8"
             },
             "line": {
              "color": "white"
             }
            },
            "header": {
             "fill": {
              "color": "#C8D4E3"
             },
             "line": {
              "color": "white"
             }
            },
            "type": "table"
           }
          ]
         },
         "layout": {
          "annotationdefaults": {
           "arrowcolor": "#2a3f5f",
           "arrowhead": 0,
           "arrowwidth": 1
          },
          "autotypenumbers": "strict",
          "coloraxis": {
           "colorbar": {
            "outlinewidth": 0,
            "ticks": ""
           }
          },
          "colorscale": {
           "diverging": [
            [
             0,
             "#8e0152"
            ],
            [
             0.1,
             "#c51b7d"
            ],
            [
             0.2,
             "#de77ae"
            ],
            [
             0.3,
             "#f1b6da"
            ],
            [
             0.4,
             "#fde0ef"
            ],
            [
             0.5,
             "#f7f7f7"
            ],
            [
             0.6,
             "#e6f5d0"
            ],
            [
             0.7,
             "#b8e186"
            ],
            [
             0.8,
             "#7fbc41"
            ],
            [
             0.9,
             "#4d9221"
            ],
            [
             1,
             "#276419"
            ]
           ],
           "sequential": [
            [
             0,
             "#0d0887"
            ],
            [
             0.1111111111111111,
             "#46039f"
            ],
            [
             0.2222222222222222,
             "#7201a8"
            ],
            [
             0.3333333333333333,
             "#9c179e"
            ],
            [
             0.4444444444444444,
             "#bd3786"
            ],
            [
             0.5555555555555556,
             "#d8576b"
            ],
            [
             0.6666666666666666,
             "#ed7953"
            ],
            [
             0.7777777777777778,
             "#fb9f3a"
            ],
            [
             0.8888888888888888,
             "#fdca26"
            ],
            [
             1,
             "#f0f921"
            ]
           ],
           "sequentialminus": [
            [
             0,
             "#0d0887"
            ],
            [
             0.1111111111111111,
             "#46039f"
            ],
            [
             0.2222222222222222,
             "#7201a8"
            ],
            [
             0.3333333333333333,
             "#9c179e"
            ],
            [
             0.4444444444444444,
             "#bd3786"
            ],
            [
             0.5555555555555556,
             "#d8576b"
            ],
            [
             0.6666666666666666,
             "#ed7953"
            ],
            [
             0.7777777777777778,
             "#fb9f3a"
            ],
            [
             0.8888888888888888,
             "#fdca26"
            ],
            [
             1,
             "#f0f921"
            ]
           ]
          },
          "colorway": [
           "#636efa",
           "#EF553B",
           "#00cc96",
           "#ab63fa",
           "#FFA15A",
           "#19d3f3",
           "#FF6692",
           "#B6E880",
           "#FF97FF",
           "#FECB52"
          ],
          "font": {
           "color": "#2a3f5f"
          },
          "geo": {
           "bgcolor": "white",
           "lakecolor": "white",
           "landcolor": "#E5ECF6",
           "showlakes": true,
           "showland": true,
           "subunitcolor": "white"
          },
          "hoverlabel": {
           "align": "left"
          },
          "hovermode": "closest",
          "mapbox": {
           "style": "light"
          },
          "paper_bgcolor": "white",
          "plot_bgcolor": "#E5ECF6",
          "polar": {
           "angularaxis": {
            "gridcolor": "white",
            "linecolor": "white",
            "ticks": ""
           },
           "bgcolor": "#E5ECF6",
           "radialaxis": {
            "gridcolor": "white",
            "linecolor": "white",
            "ticks": ""
           }
          },
          "scene": {
           "xaxis": {
            "backgroundcolor": "#E5ECF6",
            "gridcolor": "white",
            "gridwidth": 2,
            "linecolor": "white",
            "showbackground": true,
            "ticks": "",
            "zerolinecolor": "white"
           },
           "yaxis": {
            "backgroundcolor": "#E5ECF6",
            "gridcolor": "white",
            "gridwidth": 2,
            "linecolor": "white",
            "showbackground": true,
            "ticks": "",
            "zerolinecolor": "white"
           },
           "zaxis": {
            "backgroundcolor": "#E5ECF6",
            "gridcolor": "white",
            "gridwidth": 2,
            "linecolor": "white",
            "showbackground": true,
            "ticks": "",
            "zerolinecolor": "white"
           }
          },
          "shapedefaults": {
           "line": {
            "color": "#2a3f5f"
           }
          },
          "ternary": {
           "aaxis": {
            "gridcolor": "white",
            "linecolor": "white",
            "ticks": ""
           },
           "baxis": {
            "gridcolor": "white",
            "linecolor": "white",
            "ticks": ""
           },
           "bgcolor": "#E5ECF6",
           "caxis": {
            "gridcolor": "white",
            "linecolor": "white",
            "ticks": ""
           }
          },
          "title": {
           "x": 0.05
          },
          "xaxis": {
           "automargin": true,
           "gridcolor": "white",
           "linecolor": "white",
           "ticks": "",
           "title": {
            "standoff": 15
           },
           "zerolinecolor": "white",
           "zerolinewidth": 2
          },
          "yaxis": {
           "automargin": true,
           "gridcolor": "white",
           "linecolor": "white",
           "ticks": "",
           "title": {
            "standoff": 15
           },
           "zerolinecolor": "white",
           "zerolinewidth": 2
          }
         }
        },
        "title": {
         "text": "RQ3 VAR Graph: Moderation by Ideology → WTP"
        }
       }
      }
     },
     "metadata": {},
     "output_type": "display_data"
    }
   ],
   "source": [
    "import plotly.graph_objects as go\n",
    "import networkx as nx\n",
    "\n",
    "# Build directed graph for RQ3 (significant effects only)\n",
    "G3 = nx.DiGraph()\n",
    "\n",
    "# Extract coefficients and CIs from rq3_model\n",
    "coefs3   = rq3_model.params\n",
    "conf3    = rq3_model.conf_int()\n",
    "sig_mask = ~((conf3[0] <= 0) & (conf3[1] >= 0))\n",
    "\n",
    "for pred, beta in coefs3.items():\n",
    "    if pred == 'const':\n",
    "        continue\n",
    "    if sig_mask.loc[pred]:\n",
    "        # add edge from predictor to ccSolve\n",
    "        G3.add_edge(pred, 'ccSolve_t', weight=beta)\n",
    "\n",
    "# Compute layout\n",
    "pos3 = nx.spring_layout(G3, seed=42)\n",
    "\n",
    "# Build traces\n",
    "edge_x3, edge_y3 = [], []\n",
    "for u, v in G3.edges():\n",
    "    x0, y0 = pos3[u]\n",
    "    x1, y1 = pos3[v]\n",
    "    edge_x3 += [x0, x1, None]\n",
    "    edge_y3 += [y0, y1, None]\n",
    "\n",
    "edge_trace3 = go.Scatter(\n",
    "    x=edge_x3, y=edge_y3,\n",
    "    mode='lines',\n",
    "    line=dict(color='gray', width=1),\n",
    "    hoverinfo='none'\n",
    ")\n",
    "\n",
    "# Node positioning\n",
    "node_x3, node_y3 = zip(*[pos3[n] for n in G3.nodes()])\n",
    "node_text3      = list(G3.nodes())\n",
    "\n",
    "# Color main vs interaction\n",
    "node_colors3 = []\n",
    "for n in G3.nodes():\n",
    "    if '_x_' in n:            # interaction term\n",
    "        node_colors3.append('purple')\n",
    "    else:                     # main effect\n",
    "        node_colors3.append('green')\n",
    "\n",
    "node_trace3 = go.Scatter(\n",
    "    x=node_x3, y=node_y3,\n",
    "    mode='markers+text',\n",
    "    marker=dict(size=30, color=node_colors3),\n",
    "    text=node_text3,\n",
    "    textposition='top center',\n",
    "    hoverinfo='text'\n",
    ")\n",
    "\n",
    "# Assemble figure\n",
    "fig3 = go.Figure(data=[edge_trace3, node_trace3])\n",
    "fig3.update_layout(\n",
    "    title=\"RQ3 VAR Graph: Moderation by Ideology → WTP\",\n",
    "    showlegend=False,\n",
    "    hovermode='closest'\n",
    ")\n",
    "fig3.write_html(\"../results/rq3_var_graph_moderation.html\")\n",
    "fig3.show()"
   ]
  }
 ],
 "metadata": {
  "kernelspec": {
   "display_name": ".venv",
   "language": "python",
   "name": "python3"
  },
  "language_info": {
   "codemirror_mode": {
    "name": "ipython",
    "version": 3
   },
   "file_extension": ".py",
   "mimetype": "text/x-python",
   "name": "python",
   "nbconvert_exporter": "python",
   "pygments_lexer": "ipython3",
   "version": "3.13.0"
  }
 },
 "nbformat": 4,
 "nbformat_minor": 5
}
